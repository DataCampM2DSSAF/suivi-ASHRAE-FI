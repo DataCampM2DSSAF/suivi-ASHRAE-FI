{
  "nbformat": 4,
  "nbformat_minor": 0,
  "metadata": {
    "colab": {
      "name": "DataCamp_Ashrae.ipynb",
      "provenance": []
    },
    "kernelspec": {
      "name": "python3",
      "display_name": "Python 3"
    }
  },
  "cells": [
    {
      "cell_type": "code",
      "metadata": {
        "colab": {
          "base_uri": "https://localhost:8080/"
        },
        "id": "9XnyuMiNwAiW",
        "outputId": "1a1db183-b952-40f0-e641-c78950f29249"
      },
      "source": [
        "from google.colab import drive\r\n",
        "drive.mount('/content/drive')\r\n",
        "!cp /content/drive/MyDrive/ashrae.zip ashrae.zip\r\n",
        "!unzip -q ashrae.zip"
      ],
      "execution_count": 7,
      "outputs": [
        {
          "output_type": "stream",
          "text": [
            "Mounted at /content/drive\n"
          ],
          "name": "stdout"
        }
      ]
    },
    {
      "cell_type": "code",
      "metadata": {
        "colab": {
          "base_uri": "https://localhost:8080/",
          "height": 17
        },
        "id": "excU9M2fwn3K",
        "outputId": "e1caed0d-785e-4992-c9d9-5c02acaacb9b"
      },
      "source": [
        "import warnings\r\n",
        "warnings.simplefilter(action='ignore', category=FutureWarning)\r\n",
        "\r\n",
        "import gc\r\n",
        "import pandas as pd\r\n",
        "import numpy as np\r\n",
        "import matplotlib.pyplot as plt\r\n",
        "import seaborn as sns\r\n",
        "import plotly.graph_objects as go\r\n",
        "import plotly.figure_factory as ff\r\n",
        "\r\n",
        "from IPython.core.pylabtools import figsize\r\n",
        "from plotly.offline import init_notebook_mode,iplot,plot\r\n",
        "%matplotlib inline\r\n",
        "init_notebook_mode(connected=True)\r\n",
        "plt.style.use(\"ggplot\")\r\n",
        "\r\n",
        "from sklearn.preprocessing import  LabelEncoder\r\n",
        "from sklearn.model_selection import train_test_split\r\n"
      ],
      "execution_count": 49,
      "outputs": [
        {
          "output_type": "display_data",
          "data": {
            "text/html": [
              "        <script type=\"text/javascript\">\n",
              "        window.PlotlyConfig = {MathJaxConfig: 'local'};\n",
              "        if (window.MathJax) {MathJax.Hub.Config({SVG: {font: \"STIX-Web\"}});}\n",
              "        if (typeof require !== 'undefined') {\n",
              "        require.undef(\"plotly\");\n",
              "        requirejs.config({\n",
              "            paths: {\n",
              "                'plotly': ['https://cdn.plot.ly/plotly-latest.min']\n",
              "            }\n",
              "        });\n",
              "        require(['plotly'], function(Plotly) {\n",
              "            window._Plotly = Plotly;\n",
              "        });\n",
              "        }\n",
              "        </script>\n",
              "        "
            ]
          },
          "metadata": {
            "tags": []
          }
        }
      ]
    },
    {
      "cell_type": "code",
      "metadata": {
        "id": "ZBCQfHAnyxs4"
      },
      "source": [
        "#Function to reduction memory usage (Source code from Kaggle)\r\n",
        "def reduce_mem_usage(df, verbose=True):\r\n",
        "    numerics = ['int16', 'int32', 'int64', 'float16', 'float32', 'float64']\r\n",
        "    start_mem = df.memory_usage().sum() / 1024**2\r\n",
        "    for col in df.columns:\r\n",
        "        col_type = df[col].dtypes\r\n",
        "        if col_type in numerics:\r\n",
        "            c_min = df[col].min()\r\n",
        "            c_max = df[col].max()\r\n",
        "            if str(col_type)[:3] == 'int':\r\n",
        "                if c_min > np.iinfo(np.int8).min and c_max < np.iinfo(np.int8).max:\r\n",
        "                    df[col] = df[col].astype(np.int8)\r\n",
        "                elif c_min > np.iinfo(np.int16).min and c_max < np.iinfo(np.int16).max:\r\n",
        "                    df[col] = df[col].astype(np.int16)\r\n",
        "                elif c_min > np.iinfo(np.int32).min and c_max < np.iinfo(np.int32).max:\r\n",
        "                    df[col] = df[col].astype(np.int32)\r\n",
        "                elif c_min > np.iinfo(np.int64).min and c_max < np.iinfo(np.int64).max:\r\n",
        "                    df[col] = df[col].astype(np.int64)\r\n",
        "            else:\r\n",
        "                if c_min > np.finfo(np.float16).min and c_max < np.finfo(np.float16).max:\r\n",
        "                    df[col] = df[col].astype(np.float16)\r\n",
        "                elif c_min > np.finfo(np.float32).min and c_max < np.finfo(np.float32).max:\r\n",
        "                    df[col] = df[col].astype(np.float32)\r\n",
        "                else:\r\n",
        "                    df[col] = df[col].astype(np.float64)\r\n",
        "\r\n",
        "    end_mem = df.memory_usage().sum() / 1024**2\r\n",
        "    print('Memory usage after optimization is: {:.2f} MB'.format(end_mem))\r\n",
        "    print('Decreased by {:.1f}%'.format(100 * (start_mem - end_mem) / start_mem))\r\n",
        "\r\n",
        "    return df"
      ],
      "execution_count": 50,
      "outputs": []
    },
    {
      "cell_type": "code",
      "metadata": {
        "colab": {
          "base_uri": "https://localhost:8080/"
        },
        "id": "ThSEgS74yGds",
        "outputId": "5b13aca9-462c-40db-9fbf-35f266f8420e"
      },
      "source": [
        "building = pd.read_csv('/content/building_metadata.csv')\r\n",
        "weather = pd.read_csv('/content/weather_train.csv')\r\n",
        "train = pd.read_csv('/content/train.csv')\r\n",
        "\r\n",
        "train.loc[(train.meter == 0),'meter_reading'] = train['meter_reading'] * 0.2931 # convertir du kwh vers kbtu\r\n",
        "\r\n",
        "building = reduce_mem_usage(building)\r\n",
        "weather = reduce_mem_usage(weather)\r\n",
        "train = reduce_mem_usage(train)"
      ],
      "execution_count": 51,
      "outputs": [
        {
          "output_type": "stream",
          "text": [
            "Memory usage after optimization is: 0.03 MB\n",
            "Decreased by 60.3%\n",
            "Memory usage after optimization is: 3.07 MB\n",
            "Decreased by 68.1%\n",
            "Memory usage after optimization is: 289.19 MB\n",
            "Decreased by 53.1%\n"
          ],
          "name": "stdout"
        }
      ]
    },
    {
      "cell_type": "markdown",
      "metadata": {
        "id": "eVXEaN_HLfxR"
      },
      "source": [
        "##apperçues de nos données"
      ]
    },
    {
      "cell_type": "code",
      "metadata": {
        "colab": {
          "base_uri": "https://localhost:8080/",
          "height": 195
        },
        "id": "yypNiO2ByGgb",
        "outputId": "7a00812a-f674-4d04-d0f5-cdcf88266919"
      },
      "source": [
        "train.head()"
      ],
      "execution_count": 52,
      "outputs": [
        {
          "output_type": "execute_result",
          "data": {
            "text/html": [
              "<div>\n",
              "<style scoped>\n",
              "    .dataframe tbody tr th:only-of-type {\n",
              "        vertical-align: middle;\n",
              "    }\n",
              "\n",
              "    .dataframe tbody tr th {\n",
              "        vertical-align: top;\n",
              "    }\n",
              "\n",
              "    .dataframe thead th {\n",
              "        text-align: right;\n",
              "    }\n",
              "</style>\n",
              "<table border=\"1\" class=\"dataframe\">\n",
              "  <thead>\n",
              "    <tr style=\"text-align: right;\">\n",
              "      <th></th>\n",
              "      <th>building_id</th>\n",
              "      <th>meter</th>\n",
              "      <th>timestamp</th>\n",
              "      <th>meter_reading</th>\n",
              "    </tr>\n",
              "  </thead>\n",
              "  <tbody>\n",
              "    <tr>\n",
              "      <th>0</th>\n",
              "      <td>0</td>\n",
              "      <td>0</td>\n",
              "      <td>2016-01-01 00:00:00</td>\n",
              "      <td>0.0</td>\n",
              "    </tr>\n",
              "    <tr>\n",
              "      <th>1</th>\n",
              "      <td>1</td>\n",
              "      <td>0</td>\n",
              "      <td>2016-01-01 00:00:00</td>\n",
              "      <td>0.0</td>\n",
              "    </tr>\n",
              "    <tr>\n",
              "      <th>2</th>\n",
              "      <td>2</td>\n",
              "      <td>0</td>\n",
              "      <td>2016-01-01 00:00:00</td>\n",
              "      <td>0.0</td>\n",
              "    </tr>\n",
              "    <tr>\n",
              "      <th>3</th>\n",
              "      <td>3</td>\n",
              "      <td>0</td>\n",
              "      <td>2016-01-01 00:00:00</td>\n",
              "      <td>0.0</td>\n",
              "    </tr>\n",
              "    <tr>\n",
              "      <th>4</th>\n",
              "      <td>4</td>\n",
              "      <td>0</td>\n",
              "      <td>2016-01-01 00:00:00</td>\n",
              "      <td>0.0</td>\n",
              "    </tr>\n",
              "  </tbody>\n",
              "</table>\n",
              "</div>"
            ],
            "text/plain": [
              "   building_id  meter            timestamp  meter_reading\n",
              "0            0      0  2016-01-01 00:00:00            0.0\n",
              "1            1      0  2016-01-01 00:00:00            0.0\n",
              "2            2      0  2016-01-01 00:00:00            0.0\n",
              "3            3      0  2016-01-01 00:00:00            0.0\n",
              "4            4      0  2016-01-01 00:00:00            0.0"
            ]
          },
          "metadata": {
            "tags": []
          },
          "execution_count": 52
        }
      ]
    },
    {
      "cell_type": "code",
      "metadata": {
        "colab": {
          "base_uri": "https://localhost:8080/",
          "height": 195
        },
        "id": "OFoFo85ryGjY",
        "outputId": "60da75cb-ab24-4d0b-80cf-2702bb0ea8fe"
      },
      "source": [
        "building.head()"
      ],
      "execution_count": 53,
      "outputs": [
        {
          "output_type": "execute_result",
          "data": {
            "text/html": [
              "<div>\n",
              "<style scoped>\n",
              "    .dataframe tbody tr th:only-of-type {\n",
              "        vertical-align: middle;\n",
              "    }\n",
              "\n",
              "    .dataframe tbody tr th {\n",
              "        vertical-align: top;\n",
              "    }\n",
              "\n",
              "    .dataframe thead th {\n",
              "        text-align: right;\n",
              "    }\n",
              "</style>\n",
              "<table border=\"1\" class=\"dataframe\">\n",
              "  <thead>\n",
              "    <tr style=\"text-align: right;\">\n",
              "      <th></th>\n",
              "      <th>site_id</th>\n",
              "      <th>building_id</th>\n",
              "      <th>primary_use</th>\n",
              "      <th>square_feet</th>\n",
              "      <th>year_built</th>\n",
              "      <th>floor_count</th>\n",
              "    </tr>\n",
              "  </thead>\n",
              "  <tbody>\n",
              "    <tr>\n",
              "      <th>0</th>\n",
              "      <td>0</td>\n",
              "      <td>0</td>\n",
              "      <td>Education</td>\n",
              "      <td>7432</td>\n",
              "      <td>2008.0</td>\n",
              "      <td>NaN</td>\n",
              "    </tr>\n",
              "    <tr>\n",
              "      <th>1</th>\n",
              "      <td>0</td>\n",
              "      <td>1</td>\n",
              "      <td>Education</td>\n",
              "      <td>2720</td>\n",
              "      <td>2004.0</td>\n",
              "      <td>NaN</td>\n",
              "    </tr>\n",
              "    <tr>\n",
              "      <th>2</th>\n",
              "      <td>0</td>\n",
              "      <td>2</td>\n",
              "      <td>Education</td>\n",
              "      <td>5376</td>\n",
              "      <td>1991.0</td>\n",
              "      <td>NaN</td>\n",
              "    </tr>\n",
              "    <tr>\n",
              "      <th>3</th>\n",
              "      <td>0</td>\n",
              "      <td>3</td>\n",
              "      <td>Education</td>\n",
              "      <td>23685</td>\n",
              "      <td>2002.0</td>\n",
              "      <td>NaN</td>\n",
              "    </tr>\n",
              "    <tr>\n",
              "      <th>4</th>\n",
              "      <td>0</td>\n",
              "      <td>4</td>\n",
              "      <td>Education</td>\n",
              "      <td>116607</td>\n",
              "      <td>1975.0</td>\n",
              "      <td>NaN</td>\n",
              "    </tr>\n",
              "  </tbody>\n",
              "</table>\n",
              "</div>"
            ],
            "text/plain": [
              "   site_id  building_id primary_use  square_feet  year_built  floor_count\n",
              "0        0            0   Education         7432      2008.0          NaN\n",
              "1        0            1   Education         2720      2004.0          NaN\n",
              "2        0            2   Education         5376      1991.0          NaN\n",
              "3        0            3   Education        23685      2002.0          NaN\n",
              "4        0            4   Education       116607      1975.0          NaN"
            ]
          },
          "metadata": {
            "tags": []
          },
          "execution_count": 53
        }
      ]
    },
    {
      "cell_type": "code",
      "metadata": {
        "colab": {
          "base_uri": "https://localhost:8080/",
          "height": 195
        },
        "id": "rDs2uH0cyGmQ",
        "outputId": "c6ed1a71-2d9e-4382-8bb9-3f46e0134f51"
      },
      "source": [
        "weather.head()"
      ],
      "execution_count": 9,
      "outputs": [
        {
          "output_type": "execute_result",
          "data": {
            "text/html": [
              "<div>\n",
              "<style scoped>\n",
              "    .dataframe tbody tr th:only-of-type {\n",
              "        vertical-align: middle;\n",
              "    }\n",
              "\n",
              "    .dataframe tbody tr th {\n",
              "        vertical-align: top;\n",
              "    }\n",
              "\n",
              "    .dataframe thead th {\n",
              "        text-align: right;\n",
              "    }\n",
              "</style>\n",
              "<table border=\"1\" class=\"dataframe\">\n",
              "  <thead>\n",
              "    <tr style=\"text-align: right;\">\n",
              "      <th></th>\n",
              "      <th>site_id</th>\n",
              "      <th>timestamp</th>\n",
              "      <th>air_temperature</th>\n",
              "      <th>cloud_coverage</th>\n",
              "      <th>dew_temperature</th>\n",
              "      <th>precip_depth_1_hr</th>\n",
              "      <th>sea_level_pressure</th>\n",
              "      <th>wind_direction</th>\n",
              "      <th>wind_speed</th>\n",
              "    </tr>\n",
              "  </thead>\n",
              "  <tbody>\n",
              "    <tr>\n",
              "      <th>0</th>\n",
              "      <td>0</td>\n",
              "      <td>2016-01-01 00:00:00</td>\n",
              "      <td>25.000000</td>\n",
              "      <td>6.0</td>\n",
              "      <td>20.00000</td>\n",
              "      <td>NaN</td>\n",
              "      <td>1019.5</td>\n",
              "      <td>0.0</td>\n",
              "      <td>0.000000</td>\n",
              "    </tr>\n",
              "    <tr>\n",
              "      <th>1</th>\n",
              "      <td>0</td>\n",
              "      <td>2016-01-01 01:00:00</td>\n",
              "      <td>24.406250</td>\n",
              "      <td>NaN</td>\n",
              "      <td>21.09375</td>\n",
              "      <td>-1.0</td>\n",
              "      <td>1020.0</td>\n",
              "      <td>70.0</td>\n",
              "      <td>1.500000</td>\n",
              "    </tr>\n",
              "    <tr>\n",
              "      <th>2</th>\n",
              "      <td>0</td>\n",
              "      <td>2016-01-01 02:00:00</td>\n",
              "      <td>22.796875</td>\n",
              "      <td>2.0</td>\n",
              "      <td>21.09375</td>\n",
              "      <td>0.0</td>\n",
              "      <td>1020.0</td>\n",
              "      <td>0.0</td>\n",
              "      <td>0.000000</td>\n",
              "    </tr>\n",
              "    <tr>\n",
              "      <th>3</th>\n",
              "      <td>0</td>\n",
              "      <td>2016-01-01 03:00:00</td>\n",
              "      <td>21.093750</td>\n",
              "      <td>2.0</td>\n",
              "      <td>20.59375</td>\n",
              "      <td>0.0</td>\n",
              "      <td>1020.0</td>\n",
              "      <td>0.0</td>\n",
              "      <td>0.000000</td>\n",
              "    </tr>\n",
              "    <tr>\n",
              "      <th>4</th>\n",
              "      <td>0</td>\n",
              "      <td>2016-01-01 04:00:00</td>\n",
              "      <td>20.000000</td>\n",
              "      <td>2.0</td>\n",
              "      <td>20.00000</td>\n",
              "      <td>-1.0</td>\n",
              "      <td>1020.0</td>\n",
              "      <td>250.0</td>\n",
              "      <td>2.599609</td>\n",
              "    </tr>\n",
              "  </tbody>\n",
              "</table>\n",
              "</div>"
            ],
            "text/plain": [
              "   site_id            timestamp  ...  wind_direction  wind_speed\n",
              "0        0  2016-01-01 00:00:00  ...             0.0    0.000000\n",
              "1        0  2016-01-01 01:00:00  ...            70.0    1.500000\n",
              "2        0  2016-01-01 02:00:00  ...             0.0    0.000000\n",
              "3        0  2016-01-01 03:00:00  ...             0.0    0.000000\n",
              "4        0  2016-01-01 04:00:00  ...           250.0    2.599609\n",
              "\n",
              "[5 rows x 9 columns]"
            ]
          },
          "metadata": {
            "tags": []
          },
          "execution_count": 9
        }
      ]
    },
    {
      "cell_type": "markdown",
      "metadata": {
        "id": "NaFyYJLQLqaM"
      },
      "source": [
        "on joint les données ci-dessus a partir des clés"
      ]
    },
    {
      "cell_type": "code",
      "metadata": {
        "colab": {
          "base_uri": "https://localhost:8080/"
        },
        "id": "oL2AXe2XyGuL",
        "outputId": "93fc189a-7fe8-4c1b-e763-c1ae0df37aba"
      },
      "source": [
        "train = (train.merge(building, on='building_id', how='left'))\r\n",
        "train['log_meter_reading'] = np.log1p(train['meter_reading'])\r\n",
        "train = train.merge(weather, how='left', on = ['site_id', 'timestamp'], validate='many_to_one')\r\n",
        "\r\n",
        "#train  = time_features(train)\r\n",
        "\r\n",
        "del weather, building\r\n",
        "gc.collect()"
      ],
      "execution_count": 10,
      "outputs": [
        {
          "output_type": "execute_result",
          "data": {
            "text/plain": [
              "136"
            ]
          },
          "metadata": {
            "tags": []
          },
          "execution_count": 10
        }
      ]
    },
    {
      "cell_type": "markdown",
      "metadata": {
        "id": "-0Fpa3ekL455"
      },
      "source": [
        "On convertie la variable timestamp en un objet datetime"
      ]
    },
    {
      "cell_type": "code",
      "metadata": {
        "id": "lQv6aZ4R6dzG"
      },
      "source": [
        "train.timestamp = pd.to_datetime(train.timestamp)\r\n",
        "\r\n",
        "train['month'] = train['timestamp'].dt.month.astype(np.int8)\r\n",
        "train['dayofweek'] = train['timestamp'].dt.dayofweek.astype(np.int8)\r\n",
        "train['hour'] = train['timestamp'].dt.hour.astype(np.int8)"
      ],
      "execution_count": 11,
      "outputs": []
    },
    {
      "cell_type": "markdown",
      "metadata": {
        "id": "vmTpJ1EBGOJl"
      },
      "source": [
        "On regarde le nombre de valeurs manquantes dans chaque variable."
      ]
    },
    {
      "cell_type": "code",
      "metadata": {
        "colab": {
          "base_uri": "https://localhost:8080/"
        },
        "id": "6mJYr6a1zPXD",
        "outputId": "6cff1bc7-7c8a-4e03-c3d0-91ba7c11db37"
      },
      "source": [
        "print(train.columns)\r\n",
        "print('--------------------------')\r\n",
        "for col in train.columns:\r\n",
        "  if train[col].isnull().values.any():\r\n",
        "    print('Dans la variable', '(',col,')' , '-- il y a', train[col].isnull().values.sum() , ' Nan ')"
      ],
      "execution_count": 12,
      "outputs": [
        {
          "output_type": "stream",
          "text": [
            "Index(['building_id', 'meter', 'timestamp', 'meter_reading', 'site_id',\n",
            "       'primary_use', 'square_feet', 'year_built', 'floor_count',\n",
            "       'log_meter_reading', 'air_temperature', 'cloud_coverage',\n",
            "       'dew_temperature', 'precip_depth_1_hr', 'sea_level_pressure',\n",
            "       'wind_direction', 'wind_speed', 'month', 'dayofweek', 'hour'],\n",
            "      dtype='object')\n",
            "--------------------------\n",
            "Dans la variable ( year_built ) -- il y a 12127645  Nan \n",
            "Dans la variable ( floor_count ) -- il y a 16709167  Nan \n",
            "Dans la variable ( air_temperature ) -- il y a 96658  Nan \n",
            "Dans la variable ( cloud_coverage ) -- il y a 8825365  Nan \n",
            "Dans la variable ( dew_temperature ) -- il y a 100140  Nan \n",
            "Dans la variable ( precip_depth_1_hr ) -- il y a 3749023  Nan \n",
            "Dans la variable ( sea_level_pressure ) -- il y a 1231669  Nan \n",
            "Dans la variable ( wind_direction ) -- il y a 1449048  Nan \n",
            "Dans la variable ( wind_speed ) -- il y a 143676  Nan \n"
          ],
          "name": "stdout"
        }
      ]
    },
    {
      "cell_type": "markdown",
      "metadata": {
        "id": "F3aKso-GK9A-"
      },
      "source": [
        "On supprime les variables qui ont plus de 150 000 valeurs manquantes"
      ]
    },
    {
      "cell_type": "code",
      "metadata": {
        "id": "MGFWvFsNzPa6"
      },
      "source": [
        "train = train.drop([ 'timestamp' , 'meter_reading' ] , axis= 1)\r\n",
        "train = train.drop(['year_built' , 'floor_count' , 'cloud_coverage' , 'precip_depth_1_hr' , 'wind_direction' , 'sea_level_pressure'] , axis= 1)"
      ],
      "execution_count": 13,
      "outputs": []
    },
    {
      "cell_type": "code",
      "metadata": {
        "colab": {
          "base_uri": "https://localhost:8080/",
          "height": 195
        },
        "id": "Pd2vVNkvzPeH",
        "outputId": "75030e88-43fa-45f3-8f53-c79fb34b66e7"
      },
      "source": [
        "train.head()"
      ],
      "execution_count": 14,
      "outputs": [
        {
          "output_type": "execute_result",
          "data": {
            "text/html": [
              "<div>\n",
              "<style scoped>\n",
              "    .dataframe tbody tr th:only-of-type {\n",
              "        vertical-align: middle;\n",
              "    }\n",
              "\n",
              "    .dataframe tbody tr th {\n",
              "        vertical-align: top;\n",
              "    }\n",
              "\n",
              "    .dataframe thead th {\n",
              "        text-align: right;\n",
              "    }\n",
              "</style>\n",
              "<table border=\"1\" class=\"dataframe\">\n",
              "  <thead>\n",
              "    <tr style=\"text-align: right;\">\n",
              "      <th></th>\n",
              "      <th>building_id</th>\n",
              "      <th>meter</th>\n",
              "      <th>site_id</th>\n",
              "      <th>primary_use</th>\n",
              "      <th>square_feet</th>\n",
              "      <th>log_meter_reading</th>\n",
              "      <th>air_temperature</th>\n",
              "      <th>dew_temperature</th>\n",
              "      <th>wind_speed</th>\n",
              "      <th>month</th>\n",
              "      <th>dayofweek</th>\n",
              "      <th>hour</th>\n",
              "    </tr>\n",
              "  </thead>\n",
              "  <tbody>\n",
              "    <tr>\n",
              "      <th>0</th>\n",
              "      <td>0</td>\n",
              "      <td>0</td>\n",
              "      <td>0</td>\n",
              "      <td>Education</td>\n",
              "      <td>7432</td>\n",
              "      <td>0.0</td>\n",
              "      <td>25.0</td>\n",
              "      <td>20.0</td>\n",
              "      <td>0.0</td>\n",
              "      <td>1</td>\n",
              "      <td>4</td>\n",
              "      <td>0</td>\n",
              "    </tr>\n",
              "    <tr>\n",
              "      <th>1</th>\n",
              "      <td>1</td>\n",
              "      <td>0</td>\n",
              "      <td>0</td>\n",
              "      <td>Education</td>\n",
              "      <td>2720</td>\n",
              "      <td>0.0</td>\n",
              "      <td>25.0</td>\n",
              "      <td>20.0</td>\n",
              "      <td>0.0</td>\n",
              "      <td>1</td>\n",
              "      <td>4</td>\n",
              "      <td>0</td>\n",
              "    </tr>\n",
              "    <tr>\n",
              "      <th>2</th>\n",
              "      <td>2</td>\n",
              "      <td>0</td>\n",
              "      <td>0</td>\n",
              "      <td>Education</td>\n",
              "      <td>5376</td>\n",
              "      <td>0.0</td>\n",
              "      <td>25.0</td>\n",
              "      <td>20.0</td>\n",
              "      <td>0.0</td>\n",
              "      <td>1</td>\n",
              "      <td>4</td>\n",
              "      <td>0</td>\n",
              "    </tr>\n",
              "    <tr>\n",
              "      <th>3</th>\n",
              "      <td>3</td>\n",
              "      <td>0</td>\n",
              "      <td>0</td>\n",
              "      <td>Education</td>\n",
              "      <td>23685</td>\n",
              "      <td>0.0</td>\n",
              "      <td>25.0</td>\n",
              "      <td>20.0</td>\n",
              "      <td>0.0</td>\n",
              "      <td>1</td>\n",
              "      <td>4</td>\n",
              "      <td>0</td>\n",
              "    </tr>\n",
              "    <tr>\n",
              "      <th>4</th>\n",
              "      <td>4</td>\n",
              "      <td>0</td>\n",
              "      <td>0</td>\n",
              "      <td>Education</td>\n",
              "      <td>116607</td>\n",
              "      <td>0.0</td>\n",
              "      <td>25.0</td>\n",
              "      <td>20.0</td>\n",
              "      <td>0.0</td>\n",
              "      <td>1</td>\n",
              "      <td>4</td>\n",
              "      <td>0</td>\n",
              "    </tr>\n",
              "  </tbody>\n",
              "</table>\n",
              "</div>"
            ],
            "text/plain": [
              "   building_id  meter  site_id primary_use  ...  wind_speed  month  dayofweek  hour\n",
              "0            0      0        0   Education  ...         0.0      1          4     0\n",
              "1            1      0        0   Education  ...         0.0      1          4     0\n",
              "2            2      0        0   Education  ...         0.0      1          4     0\n",
              "3            3      0        0   Education  ...         0.0      1          4     0\n",
              "4            4      0        0   Education  ...         0.0      1          4     0\n",
              "\n",
              "[5 rows x 12 columns]"
            ]
          },
          "metadata": {
            "tags": []
          },
          "execution_count": 14
        }
      ]
    },
    {
      "cell_type": "markdown",
      "metadata": {
        "id": "QHGsUnvH-UaF"
      },
      "source": [
        "On supprime les lignes qui contiennent les valeurs manquantes"
      ]
    },
    {
      "cell_type": "code",
      "metadata": {
        "id": "MMaeW4YnzPsi"
      },
      "source": [
        "train = train.dropna(axis=0)\r\n",
        "\r\n",
        "for col in train.columns:\r\n",
        "  if train[col].isnull().values.any():\r\n",
        "    print(col , 'il y a', train[col].isnull().values.sum() , ' Nan ')"
      ],
      "execution_count": 15,
      "outputs": []
    },
    {
      "cell_type": "code",
      "metadata": {
        "colab": {
          "base_uri": "https://localhost:8080/"
        },
        "id": "4r1dBptc-SCE",
        "outputId": "7153f6dd-b221-40f9-8597-c8e2f4a81327"
      },
      "source": [
        "print(train.shape)"
      ],
      "execution_count": 16,
      "outputs": [
        {
          "output_type": "stream",
          "text": [
            "(20067705, 12)\n"
          ],
          "name": "stdout"
        }
      ]
    },
    {
      "cell_type": "markdown",
      "metadata": {
        "id": "24pWZluyGo37"
      },
      "source": [
        "transformation de la variable primary_use grace au LabelEncoder()"
      ]
    },
    {
      "cell_type": "code",
      "metadata": {
        "id": "2tUsnIsi-SFP"
      },
      "source": [
        "le = LabelEncoder()\r\n",
        "le.fit(train['primary_use'])\r\n",
        "\r\n",
        "train['primary_use'] = le.transform(train['primary_use'])"
      ],
      "execution_count": 17,
      "outputs": []
    },
    {
      "cell_type": "code",
      "metadata": {
        "colab": {
          "base_uri": "https://localhost:8080/",
          "height": 195
        },
        "id": "8GT7q73K-SIY",
        "outputId": "3657a1a0-c488-47b3-d503-0684ea10f1af"
      },
      "source": [
        "train.head()"
      ],
      "execution_count": 18,
      "outputs": [
        {
          "output_type": "execute_result",
          "data": {
            "text/html": [
              "<div>\n",
              "<style scoped>\n",
              "    .dataframe tbody tr th:only-of-type {\n",
              "        vertical-align: middle;\n",
              "    }\n",
              "\n",
              "    .dataframe tbody tr th {\n",
              "        vertical-align: top;\n",
              "    }\n",
              "\n",
              "    .dataframe thead th {\n",
              "        text-align: right;\n",
              "    }\n",
              "</style>\n",
              "<table border=\"1\" class=\"dataframe\">\n",
              "  <thead>\n",
              "    <tr style=\"text-align: right;\">\n",
              "      <th></th>\n",
              "      <th>building_id</th>\n",
              "      <th>meter</th>\n",
              "      <th>site_id</th>\n",
              "      <th>primary_use</th>\n",
              "      <th>square_feet</th>\n",
              "      <th>log_meter_reading</th>\n",
              "      <th>air_temperature</th>\n",
              "      <th>dew_temperature</th>\n",
              "      <th>wind_speed</th>\n",
              "      <th>month</th>\n",
              "      <th>dayofweek</th>\n",
              "      <th>hour</th>\n",
              "    </tr>\n",
              "  </thead>\n",
              "  <tbody>\n",
              "    <tr>\n",
              "      <th>0</th>\n",
              "      <td>0</td>\n",
              "      <td>0</td>\n",
              "      <td>0</td>\n",
              "      <td>0</td>\n",
              "      <td>7432</td>\n",
              "      <td>0.0</td>\n",
              "      <td>25.0</td>\n",
              "      <td>20.0</td>\n",
              "      <td>0.0</td>\n",
              "      <td>1</td>\n",
              "      <td>4</td>\n",
              "      <td>0</td>\n",
              "    </tr>\n",
              "    <tr>\n",
              "      <th>1</th>\n",
              "      <td>1</td>\n",
              "      <td>0</td>\n",
              "      <td>0</td>\n",
              "      <td>0</td>\n",
              "      <td>2720</td>\n",
              "      <td>0.0</td>\n",
              "      <td>25.0</td>\n",
              "      <td>20.0</td>\n",
              "      <td>0.0</td>\n",
              "      <td>1</td>\n",
              "      <td>4</td>\n",
              "      <td>0</td>\n",
              "    </tr>\n",
              "    <tr>\n",
              "      <th>2</th>\n",
              "      <td>2</td>\n",
              "      <td>0</td>\n",
              "      <td>0</td>\n",
              "      <td>0</td>\n",
              "      <td>5376</td>\n",
              "      <td>0.0</td>\n",
              "      <td>25.0</td>\n",
              "      <td>20.0</td>\n",
              "      <td>0.0</td>\n",
              "      <td>1</td>\n",
              "      <td>4</td>\n",
              "      <td>0</td>\n",
              "    </tr>\n",
              "    <tr>\n",
              "      <th>3</th>\n",
              "      <td>3</td>\n",
              "      <td>0</td>\n",
              "      <td>0</td>\n",
              "      <td>0</td>\n",
              "      <td>23685</td>\n",
              "      <td>0.0</td>\n",
              "      <td>25.0</td>\n",
              "      <td>20.0</td>\n",
              "      <td>0.0</td>\n",
              "      <td>1</td>\n",
              "      <td>4</td>\n",
              "      <td>0</td>\n",
              "    </tr>\n",
              "    <tr>\n",
              "      <th>4</th>\n",
              "      <td>4</td>\n",
              "      <td>0</td>\n",
              "      <td>0</td>\n",
              "      <td>0</td>\n",
              "      <td>116607</td>\n",
              "      <td>0.0</td>\n",
              "      <td>25.0</td>\n",
              "      <td>20.0</td>\n",
              "      <td>0.0</td>\n",
              "      <td>1</td>\n",
              "      <td>4</td>\n",
              "      <td>0</td>\n",
              "    </tr>\n",
              "  </tbody>\n",
              "</table>\n",
              "</div>"
            ],
            "text/plain": [
              "   building_id  meter  site_id  primary_use  ...  wind_speed  month  dayofweek  hour\n",
              "0            0      0        0            0  ...         0.0      1          4     0\n",
              "1            1      0        0            0  ...         0.0      1          4     0\n",
              "2            2      0        0            0  ...         0.0      1          4     0\n",
              "3            3      0        0            0  ...         0.0      1          4     0\n",
              "4            4      0        0            0  ...         0.0      1          4     0\n",
              "\n",
              "[5 rows x 12 columns]"
            ]
          },
          "metadata": {
            "tags": []
          },
          "execution_count": 18
        }
      ]
    },
    {
      "cell_type": "markdown",
      "metadata": {
        "id": "u_GJFfH1_6Qo"
      },
      "source": [
        "### First model"
      ]
    },
    {
      "cell_type": "markdown",
      "metadata": {
        "id": "rrwiKzo1Ha1U"
      },
      "source": [
        "### Data"
      ]
    },
    {
      "cell_type": "code",
      "metadata": {
        "id": "-rENeFA8-SLP"
      },
      "source": [
        "#data\r\n",
        "\r\n",
        "X= train.drop(['log_meter_reading'],axis=1)\r\n",
        "y =train['log_meter_reading']"
      ],
      "execution_count": 22,
      "outputs": []
    },
    {
      "cell_type": "markdown",
      "metadata": {
        "id": "w5SzKR68HH4T"
      },
      "source": [
        "### Spliting data into training set and test set"
      ]
    },
    {
      "cell_type": "code",
      "metadata": {
        "id": "_ogp5WDj-8yy"
      },
      "source": [
        "X_train, X_test, y_train, y_test = train_test_split(X, y, test_size=0.2, random_state=42)"
      ],
      "execution_count": 23,
      "outputs": []
    },
    {
      "cell_type": "code",
      "metadata": {
        "colab": {
          "base_uri": "https://localhost:8080/"
        },
        "id": "mjtxtcNYBEXe",
        "outputId": "fd885e3f-fe04-4e1a-f558-bfe7a515583d"
      },
      "source": [
        "print(\"la taille de X_train est: \",X_train.shape)\r\n",
        "print(\"la taille de y_train est: \",y_train.shape)"
      ],
      "execution_count": 25,
      "outputs": [
        {
          "output_type": "stream",
          "text": [
            "la taille de X_train est:  (16054164, 11)\n",
            "la taille de y_train est:  (16054164,)\n"
          ],
          "name": "stdout"
        }
      ]
    },
    {
      "cell_type": "markdown",
      "metadata": {
        "id": "rjeMVCw9MEo5"
      },
      "source": [
        "### 1 DecisionTreeRegressor"
      ]
    },
    {
      "cell_type": "code",
      "metadata": {
        "id": "GhLejaO7-SOC"
      },
      "source": [
        "from sklearn.tree import DecisionTreeRegressor\r\n",
        "\r\n",
        "decisionT_model = DecisionTreeRegressor(min_samples_split = 200, min_samples_leaf = 150)\r\n",
        "decisionT_model = decisionT_model.fit(X_train, y_train)\r\n",
        "\r\n"
      ],
      "execution_count": 26,
      "outputs": []
    },
    {
      "cell_type": "markdown",
      "metadata": {
        "id": "cEpL6UHEBlAY"
      },
      "source": [
        "###1.1 accuracy du model"
      ]
    },
    {
      "cell_type": "code",
      "metadata": {
        "colab": {
          "base_uri": "https://localhost:8080/"
        },
        "id": "FvaF79hg-85N",
        "outputId": "701f94c7-375c-4d6e-dda4-04e4325d1e4d"
      },
      "source": [
        "y_pred_test = decisionT_model.predict(X_test)\r\n",
        "\r\n",
        "from sklearn.metrics import mean_squared_error\r\n",
        "\r\n",
        "print(\"l'erreur RMSE est: \",mean_squared_error(y_test, y_pred_test,squared=False))\r\n"
      ],
      "execution_count": 27,
      "outputs": [
        {
          "output_type": "stream",
          "text": [
            "l'erreur RMSE est:  0.7109444855615193\n"
          ],
          "name": "stdout"
        }
      ]
    },
    {
      "cell_type": "markdown",
      "metadata": {
        "id": "wX3ytCVOJeOT"
      },
      "source": [
        "### 2 RandomForestRegressor"
      ]
    },
    {
      "cell_type": "code",
      "metadata": {
        "id": "Se4Nn48Get87"
      },
      "source": [
        "from sklearn.ensemble import RandomForestRegressor\r\n",
        "\r\n",
        "RF_model= RandomForestRegressor(min_samples_split=100,min_samples_leaf=50)\r\n",
        "RF_model= RF_model.fit(X_train, y_train)\r\n",
        "\r\n"
      ],
      "execution_count": null,
      "outputs": []
    },
    {
      "cell_type": "markdown",
      "metadata": {
        "id": "_TnSBThRL8ZK"
      },
      "source": [
        "### 2.1 Accuracy du modèle"
      ]
    },
    {
      "cell_type": "code",
      "metadata": {
        "id": "X5iUP_mhD_S2",
        "colab": {
          "base_uri": "https://localhost:8080/"
        },
        "outputId": "21d522b2-f46d-41bb-ac28-bf46e3563f7c"
      },
      "source": [
        "y_pred_test_rf = RF_model.predict(X_test)\r\n",
        "\r\n",
        "from sklearn.metrics import mean_squared_error\r\n",
        "\r\n",
        "print(\"l'erreur RMSE est: \",mean_squared_error(y_test, y_pred_test_rf,squared=False))\r\n"
      ],
      "execution_count": 47,
      "outputs": [
        {
          "output_type": "stream",
          "text": [
            "l'erreur RMSE est:  0.6872086300431037\n"
          ],
          "name": "stdout"
        }
      ]
    },
    {
      "cell_type": "markdown",
      "metadata": {
        "id": "dlK4mVRPMQw5"
      },
      "source": [
        "### 3 BaggingRegressor"
      ]
    },
    {
      "cell_type": "code",
      "metadata": {
        "id": "wFUyPVB0D_au"
      },
      "source": [
        "from sklearn.ensemble import BaggingRegressor\r\n",
        "\r\n",
        "Bg_model= BaggingRegressor(n_estimators=10,max_samples=300,max_features=11 )\r\n",
        "Bg_model= Bg_model.fit(X_train, y_train)"
      ],
      "execution_count": 43,
      "outputs": []
    },
    {
      "cell_type": "markdown",
      "metadata": {
        "id": "hE2eSvFRNWQ5"
      },
      "source": [
        "### 3.1 Accuracy du modèle"
      ]
    },
    {
      "cell_type": "code",
      "metadata": {
        "colab": {
          "base_uri": "https://localhost:8080/"
        },
        "id": "sG-MukfMMPZe",
        "outputId": "75cfae2a-56be-4d68-d648-170711bf8145"
      },
      "source": [
        "y_pred_test_bg = Bg_model.predict(X_test)\r\n",
        "\r\n",
        "from sklearn.metrics import mean_squared_error\r\n",
        "\r\n",
        "print(\"l'erreur RMSE est: \",mean_squared_error(y_test, y_pred_test_bg,squared=False))\r\n"
      ],
      "execution_count": 44,
      "outputs": [
        {
          "output_type": "stream",
          "text": [
            "l'erreur RMSE est:  1.770618800664036\n"
          ],
          "name": "stdout"
        }
      ]
    },
    {
      "cell_type": "markdown",
      "metadata": {
        "id": "QcHbnktnd7ix"
      },
      "source": [
        "### 4 GradientBoostingRegressor"
      ]
    },
    {
      "cell_type": "code",
      "metadata": {
        "id": "HB6lS1qoic4T"
      },
      "source": [
        "from sklearn.ensemble import GradientBoostingRegressor\r\n",
        "\r\n",
        "Gb_model = GradientBoostingRegressor()\r\n",
        "Gb_model = Gb_model.fit(X_train, y_train)\r\n"
      ],
      "execution_count": null,
      "outputs": []
    },
    {
      "cell_type": "markdown",
      "metadata": {
        "id": "YfqdsIjdeYq8"
      },
      "source": [
        "### 4.1 Accuracy du modèle"
      ]
    },
    {
      "cell_type": "code",
      "metadata": {
        "id": "qrvonaxfMPkO"
      },
      "source": [
        "y_pred_test_Gb = Gb_model.predict(X_test)\r\n",
        "\r\n",
        "from sklearn.metrics import mean_squared_error\r\n",
        "\r\n",
        "print(\"l'erreur RMSE est: \",mean_squared_error(y_test, y_pred_test_Gb,squared=False))\r\n"
      ],
      "execution_count": null,
      "outputs": []
    },
    {
      "cell_type": "markdown",
      "metadata": {
        "id": "L66xDJ9qhoGM"
      },
      "source": [
        "### 5 SGDRegressor"
      ]
    },
    {
      "cell_type": "markdown",
      "metadata": {
        "id": "ltg6yldChtvv"
      },
      "source": [
        "### 5.1 Accuracy modèle"
      ]
    },
    {
      "cell_type": "code",
      "metadata": {
        "colab": {
          "base_uri": "https://localhost:8080/"
        },
        "id": "y4D72ewLkoEb",
        "outputId": "dc77fd81-bb94-4d49-d59c-9af23b62f6d8"
      },
      "source": [
        "from sklearn.linear_model import SGDRegressor\r\n",
        "from sklearn.pipeline import make_pipeline\r\n",
        "from sklearn.preprocessing import StandardScaler\r\n",
        "\r\n",
        "sgd_model = make_pipeline(StandardScaler(),SGDRegressor(max_iter=3000, tol=1e-3))\r\n",
        "sgd_model.fit(X_train, y_train)\r\n"
      ],
      "execution_count": 64,
      "outputs": [
        {
          "output_type": "execute_result",
          "data": {
            "text/plain": [
              "Pipeline(memory=None,\n",
              "         steps=[('standardscaler',\n",
              "                 StandardScaler(copy=True, with_mean=True, with_std=True)),\n",
              "                ('sgdregressor',\n",
              "                 SGDRegressor(alpha=0.0001, average=False, early_stopping=False,\n",
              "                              epsilon=0.1, eta0=0.01, fit_intercept=True,\n",
              "                              l1_ratio=0.15, learning_rate='invscaling',\n",
              "                              loss='squared_loss', max_iter=3000,\n",
              "                              n_iter_no_change=5, penalty='l2', power_t=0.25,\n",
              "                              random_state=None, shuffle=True, tol=0.001,\n",
              "                              validation_fraction=0.1, verbose=0,\n",
              "                              warm_start=False))],\n",
              "         verbose=False)"
            ]
          },
          "metadata": {
            "tags": []
          },
          "execution_count": 64
        }
      ]
    },
    {
      "cell_type": "code",
      "metadata": {
        "colab": {
          "base_uri": "https://localhost:8080/"
        },
        "id": "mWyXCQOthJQR",
        "outputId": "4df49516-9187-431f-f0e6-2fba4da8bd01"
      },
      "source": [
        "y_pred_test_sgd = sgd_model.predict(X_test)\r\n",
        "\r\n",
        "from sklearn.metrics import mean_squared_error\r\n",
        "\r\n",
        "print(\"l'erreur RMSE est: \",mean_squared_error(y_test, y_pred_test_sgd,squared=False))"
      ],
      "execution_count": 65,
      "outputs": [
        {
          "output_type": "stream",
          "text": [
            "l'erreur RMSE est:  1.9069443027620574\n"
          ],
          "name": "stdout"
        }
      ]
    },
    {
      "cell_type": "code",
      "metadata": {
        "id": "wVcImN-ThJKw"
      },
      "source": [
        ""
      ],
      "execution_count": null,
      "outputs": []
    }
  ]
}