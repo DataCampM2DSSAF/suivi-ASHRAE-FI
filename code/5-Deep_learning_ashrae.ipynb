{
  "nbformat": 4,
  "nbformat_minor": 0,
  "metadata": {
    "colab": {
      "name": "Deep_learning_ashrae.ipynb",
      "provenance": [],
      "collapsed_sections": []
    },
    "kernelspec": {
      "name": "python3",
      "display_name": "Python 3"
    }
  },
  "cells": [
    {
      "cell_type": "code",
      "metadata": {
        "id": "urKdT5nkWxaQ"
      },
      "source": [
        "#from google.colab import drive\n",
        "#drive.mount('/content/drive')\n",
        "#!cp /content/drive/MyDrive/ashrae.zip ashrae.zip\n",
        "#!unzip -q ashrae.zip"
      ],
      "execution_count": null,
      "outputs": []
    },
    {
      "cell_type": "code",
      "metadata": {
        "colab": {
          "base_uri": "https://localhost:8080/",
          "height": 17
        },
        "id": "i2zx2E54W2eA",
        "outputId": "88d5041e-05cf-4917-e200-3629dbc5b644"
      },
      "source": [
        "import warnings\n",
        "warnings.simplefilter(action='ignore', category=FutureWarning)\n",
        "\n",
        "import gc\n",
        "import pandas as pd\n",
        "import numpy as np\n",
        "import matplotlib.pyplot as plt\n",
        "import seaborn as sns\n",
        "import plotly.graph_objects as go\n",
        "import plotly.figure_factory as ff\n",
        "\n",
        "from IPython.core.pylabtools import figsize\n",
        "from plotly.offline import init_notebook_mode,iplot,plot\n",
        "%matplotlib inline\n",
        "init_notebook_mode(connected=True)\n",
        "plt.style.use(\"ggplot\")\n",
        "from sklearn.utils import shuffle\n",
        "\n",
        "from sklearn.preprocessing import  LabelEncoder, StandardScaler\n",
        "from sklearn.model_selection import train_test_split\n",
        "\n",
        "from keras.models import load_model\n",
        "from keras.models import Model \n",
        "from keras.layers import Input, Dense, Lambda\n",
        "from keras.layers import Embedding, Flatten, Dropout, Add, Activation\n",
        "from keras.optimizers import Adam \n",
        "from keras.callbacks import ModelCheckpoint,EarlyStopping\n",
        "import keras.backend as K\n",
        "\n",
        "# importer les fichiers .py sur le notebook\n",
        "%run utils.py"
      ],
      "execution_count": null,
      "outputs": [
        {
          "output_type": "display_data",
          "data": {
            "text/html": [
              "        <script type=\"text/javascript\">\n",
              "        window.PlotlyConfig = {MathJaxConfig: 'local'};\n",
              "        if (window.MathJax) {MathJax.Hub.Config({SVG: {font: \"STIX-Web\"}});}\n",
              "        if (typeof require !== 'undefined') {\n",
              "        require.undef(\"plotly\");\n",
              "        requirejs.config({\n",
              "            paths: {\n",
              "                'plotly': ['https://cdn.plot.ly/plotly-latest.min']\n",
              "            }\n",
              "        });\n",
              "        require(['plotly'], function(Plotly) {\n",
              "            window._Plotly = Plotly;\n",
              "        });\n",
              "        }\n",
              "        </script>\n",
              "        "
            ]
          },
          "metadata": {
            "tags": []
          }
        }
      ]
    },
    {
      "cell_type": "code",
      "metadata": {
        "id": "XP1Ms_WdW8VR"
      },
      "source": [
        "building = pd.read_csv('/content/building_metadata.csv')\n",
        "weather = pd.read_csv('/content/weather_train.csv')\n",
        "train = pd.read_csv('/content/train.csv')\n",
        "\n",
        "train.loc[(train.meter == 0),'meter_reading'] = train['meter_reading'] * 0.2931 # convertir du kwh vers kbtu"
      ],
      "execution_count": null,
      "outputs": []
    },
    {
      "cell_type": "code",
      "metadata": {
        "id": "4sAM2Cv1uFKC"
      },
      "source": [
        "def join_data(data , weather_data , building_data):\n",
        "    building_data = reduce_mem_usage(building_data)\n",
        "    weather_data  = reduce_mem_usage(weather_data)\n",
        "    data = reduce_mem_usage(data)\n",
        "\n",
        "    data = data.merge(building_data, on='building_id', how='left')\n",
        "    data = data.merge(weather_data, how='left', on = ['site_id', 'timestamp'], validate='many_to_one')\n",
        "\n",
        "    return data\n",
        "\n",
        "\n",
        "def preprocess_data(data , cols_to_scale , cols_to_drop):\n",
        "    data = data.drop(cols_to_drop, axis= 1)\n",
        "    data = data.dropna(axis=0)\n",
        "\n",
        "    LE = LabelEncoder()\n",
        "    LE.fit(data['primary_use'])\n",
        "\n",
        "    data['primary_use'] = LE.transform(data['primary_use'])\n",
        "\n",
        "\n",
        "    stats = {}\n",
        "    for col in cols_to_scale:\n",
        "        data[col] = ( data[col] - data[col].mean())/ data[col].std()\n",
        "        stats[col] = ( data[col].mean() , data[col].std())\n",
        "\n",
        "    data = time_features(data)\n",
        "    \n",
        "    return data , stats , LE"
      ],
      "execution_count": null,
      "outputs": []
    },
    {
      "cell_type": "code",
      "metadata": {
        "colab": {
          "base_uri": "https://localhost:8080/"
        },
        "id": "On0jd7ppXFUg",
        "outputId": "92b7a390-a883-4931-bf8e-93e35cc38262"
      },
      "source": [
        "train = join_data(train , weather , building)\n",
        "\n",
        "train['log_meter_reading'] = np.log(train['meter_reading'] + 1)\n",
        "\n",
        "\n",
        "del weather, building\n",
        "gc.collect()"
      ],
      "execution_count": null,
      "outputs": [
        {
          "output_type": "stream",
          "text": [
            "Memory usage of dataframe is 0.07 MB\n",
            "Memory usage after optimization is: 0.02 MB\n",
            "Decreased by 65.4%\n",
            "Memory usage of dataframe is 9.60 MB\n",
            "Memory usage after optimization is: 4.51 MB\n",
            "Decreased by 53.0%\n",
            "Memory usage of dataframe is 616.95 MB\n",
            "Memory usage after optimization is: 173.90 MB\n",
            "Decreased by 71.8%\n"
          ],
          "name": "stdout"
        },
        {
          "output_type": "execute_result",
          "data": {
            "text/plain": [
              "35"
            ]
          },
          "metadata": {
            "tags": []
          },
          "execution_count": 5
        }
      ]
    },
    {
      "cell_type": "code",
      "metadata": {
        "id": "-TGB8FaOXjj5"
      },
      "source": [
        "#print(train.columns)\n",
        "#print('--------------------------')\n",
        "#for col in train.columns:\n",
        "#  if train[col].isnull().values.any():\n",
        "#    print('Dans la variable', '(',col,')' , '-- il y a', train[col].isnull().values.sum() , ' Nan ')"
      ],
      "execution_count": null,
      "outputs": []
    },
    {
      "cell_type": "markdown",
      "metadata": {
        "id": "gQhR6k1Y9-_M"
      },
      "source": [
        "## On supprime les variables qui contient plus de 150 000 valeurs manquantes."
      ]
    },
    {
      "cell_type": "code",
      "metadata": {
        "id": "Sy29N7vCYVft"
      },
      "source": [
        "train = train.drop([ 'meter_reading' ] , axis= 1)\n",
        "cols_to_drop = ['year_built' , 'floor_count' , 'cloud_coverage' , 'precip_depth_1_hr' , 'wind_direction' , 'sea_level_pressure']\n",
        "cols_to_scale = ['square_feet' , 'air_temperature' , 'dew_temperature' , 'wind_speed']\n",
        "\n",
        "train , stats, label_encoder = preprocess_data(train, cols_to_scale, cols_to_drop)"
      ],
      "execution_count": null,
      "outputs": []
    },
    {
      "cell_type": "code",
      "metadata": {
        "id": "3oFOr4fwb0Ge"
      },
      "source": [
        "for col in train.columns:\n",
        "  if train[col].isnull().values.any():\n",
        "    print(col , 'il y a', train[col].isnull().values.sum() , ' Nan ')"
      ],
      "execution_count": null,
      "outputs": []
    },
    {
      "cell_type": "code",
      "metadata": {
        "id": "VnQh-XKCxQf2"
      },
      "source": [
        "train = train.drop([ 'timestamp' ] , axis= 1)"
      ],
      "execution_count": null,
      "outputs": []
    },
    {
      "cell_type": "code",
      "metadata": {
        "id": "bnqpg5PN1I4r"
      },
      "source": [
        "train = shuffle(train, random_state=0)"
      ],
      "execution_count": null,
      "outputs": []
    },
    {
      "cell_type": "code",
      "metadata": {
        "id": "enPoSsTcvkMA"
      },
      "source": [
        "def residual_block(input_x, nodes):\n",
        "    d1 = Dense(nodes,activation='relu')(input_x)\n",
        "    d2 = Dense(nodes,activation='relu')(d1)\n",
        "\n",
        "    projected_x = Dense(nodes,activation='relu')(input_x)\n",
        "\n",
        "    add = Add()([projected_x , d2])\n",
        "    return add\n",
        "\n",
        "def create_model(data , categorical_vars , numerical_vars):\n",
        "    categ_inputs = []\n",
        "    embed_layers = []  \n",
        "    for col in categorical_vars:\n",
        "        num_classes = len(np.unique(data[col]))\n",
        "\n",
        "        input_x = Input(shape = [1] , name = col)\n",
        "        categ_inputs.append(input_x)\n",
        "\n",
        "        embed_x = Embedding(num_classes, 3)(input_x)\n",
        "        embed_layers.append(embed_x)\n",
        "\n",
        "    num_inputs = []\n",
        "    for col in numerical_vars:\n",
        "        num_inputs.append(Input(shape=[1] , name = col))\n",
        "\n",
        "    concat_emb = K.concatenate([Flatten()(emb_layer) for emb_layer in embed_layers])\n",
        "\n",
        "    d1 = residual_block(concat_emb , 512)\n",
        "    main = K.concatenate(num_inputs+[d1])\n",
        "\n",
        "    d3 = residual_block(main , 512)\n",
        "    d6 = residual_block(d3 , 8)\n",
        "    \n",
        "    output = Dense(1 )(d6)\n",
        "    model  = Model(categ_inputs + num_inputs, output)\n",
        "\n",
        "    return model \n",
        "\n",
        "\n",
        "def flatten_cols(X):\n",
        "    X = [X[:,i].flatten() for i in range(len(X[0,:])) ] \n",
        "    return X \n",
        "\n",
        "def split_data(data, categorical_vars, numerical_vars, validation_split = 0.2, target_var = 'log_meter_reading'):\n",
        "\n",
        "    y = data[target_var].values\n",
        "    y = y.reshape((len(y) , 1))\n",
        "\n",
        "    co_vars = categorical_vars + numerical_vars\n",
        "    X = data[co_vars].values\n",
        "\n",
        "    if validation_split ==0 : \n",
        "      return X,y\n",
        "      \n",
        "    X_train, X_val, y_train, y_val = train_test_split(X, y, test_size = validation_split, random_state=42) \n",
        "    return X_train, X_val , y_train , y_val\n",
        "\n",
        "def rmse(y_true, y_pred):\n",
        "    \"\"\" root_mean_squared_error \"\"\"\n",
        "    return K.sqrt(K.mean(K.square(y_pred - y_true)))"
      ],
      "execution_count": null,
      "outputs": []
    },
    {
      "cell_type": "code",
      "metadata": {
        "colab": {
          "base_uri": "https://localhost:8080/"
        },
        "id": "-OkyaC4140Nh",
        "outputId": "4726b251-b426-4aac-9f5e-5baaa799b1b2"
      },
      "source": [
        "categorical_vars = ['building_id' , 'meter' , 'site_id' , 'primary_use' , 'hour' , 'dayofweek' , 'month']\n",
        "numerical_vars = ['square_feet' , 'air_temperature' , 'dew_temperature' , 'wind_speed']\n",
        "model = create_model( train, categorical_vars ,  numerical_vars)\n",
        "\n",
        "X , y = split_data(train , categorical_vars , numerical_vars , validation_split = 0)\n",
        "\n",
        "X = flatten_cols(X)\n",
        "\n",
        "del train\n",
        "gc.collect()"
      ],
      "execution_count": null,
      "outputs": [
        {
          "output_type": "execute_result",
          "data": {
            "text/plain": [
              "526"
            ]
          },
          "metadata": {
            "tags": []
          },
          "execution_count": 12
        }
      ]
    },
    {
      "cell_type": "code",
      "metadata": {
        "id": "xNfaClEYLtoY"
      },
      "source": [
        "model = load_model('/content/drive/MyDrive/model_ann.h5' , \n",
        "                   custom_objects={ \"rmse\": rmse})"
      ],
      "execution_count": null,
      "outputs": []
    },
    {
      "cell_type": "code",
      "metadata": {
        "id": "M_SVDntbrxK6"
      },
      "source": [
        "if 1==0:\n",
        "    checkpoint = ModelCheckpoint( '/content/drive/MyDrive/model_ann.h5', \n",
        "                                monitor='loss', \n",
        "                                verbose=1, \n",
        "                                save_best_only=True, \n",
        "                                mode='min')\n",
        "\n",
        "    early_stopping = EarlyStopping(patience = 5 ,monitor = \"rmse\")\n",
        "    callbacks_list = [checkpoint , early_stopping]\n",
        "\n",
        "    model.compile(optimizer = Adam(lr=1e-4), loss = 'mse',  metrics = [rmse])\n",
        "    history_1 = model.fit(X, y, epochs = 100, batch_size = 2048, callbacks = callbacks_list)"
      ],
      "execution_count": null,
      "outputs": []
    },
    {
      "cell_type": "code",
      "metadata": {
        "id": "XuwQNagti4Py",
        "colab": {
          "base_uri": "https://localhost:8080/"
        },
        "outputId": "6b0c2f7b-7022-40e6-9465-837db5bdb904"
      },
      "source": [
        "del X,y\n",
        "gc.collect()"
      ],
      "execution_count": null,
      "outputs": [
        {
          "output_type": "execute_result",
          "data": {
            "text/plain": [
              "2300"
            ]
          },
          "metadata": {
            "tags": []
          },
          "execution_count": 15
        }
      ]
    },
    {
      "cell_type": "code",
      "metadata": {
        "colab": {
          "base_uri": "https://localhost:8080/"
        },
        "id": "XYAzq17t5rMZ",
        "outputId": "9d6c95e0-c304-422c-f192-705ef7dc2aba"
      },
      "source": [
        "building = pd.read_csv('/content/building_metadata.csv')\n",
        "weather = pd.read_csv('/content/weather_test.csv')\n",
        "test = pd.read_csv('/content/test.csv')\n",
        "\n",
        "test = join_data(test , weather , building)\n",
        "test = test.drop(cols_to_drop, axis= 1)"
      ],
      "execution_count": null,
      "outputs": [
        {
          "output_type": "stream",
          "text": [
            "Memory usage of dataframe is 0.07 MB\n",
            "Memory usage after optimization is: 0.02 MB\n",
            "Decreased by 65.4%\n",
            "Memory usage of dataframe is 19.04 MB\n",
            "Memory usage after optimization is: 8.96 MB\n",
            "Decreased by 53.0%\n",
            "Memory usage of dataframe is 1272.51 MB\n",
            "Memory usage after optimization is: 358.65 MB\n",
            "Decreased by 71.8%\n"
          ],
          "name": "stdout"
        }
      ]
    },
    {
      "cell_type": "code",
      "metadata": {
        "colab": {
          "base_uri": "https://localhost:8080/"
        },
        "id": "j_t7sluF3lCN",
        "outputId": "d74a016b-10b7-4809-aac1-9a69b79a36cf"
      },
      "source": [
        "del building,weather\n",
        "gc.collect()"
      ],
      "execution_count": null,
      "outputs": [
        {
          "output_type": "execute_result",
          "data": {
            "text/plain": [
              "53"
            ]
          },
          "metadata": {
            "tags": []
          },
          "execution_count": 17
        }
      ]
    },
    {
      "cell_type": "code",
      "metadata": {
        "id": "xYGLXJiF3vpb"
      },
      "source": [
        "test['primary_use'] = label_encoder.transform(test['primary_use'])"
      ],
      "execution_count": null,
      "outputs": []
    },
    {
      "cell_type": "code",
      "metadata": {
        "id": "2PG7oolx35T0"
      },
      "source": [
        "for col in cols_to_scale:\n",
        "    test[col] = (test[col] - stats[col][0])/stats[col][1]\n",
        "    \n",
        "\n",
        "test = time_features(test)"
      ],
      "execution_count": null,
      "outputs": []
    },
    {
      "cell_type": "code",
      "metadata": {
        "id": "dppUZJ5I4diO"
      },
      "source": [
        "row_id = test['row_id']\n",
        "meter = test['meter']\n",
        "test = test.drop(['row_id' , 'timestamp'] , axis=1)"
      ],
      "execution_count": null,
      "outputs": []
    },
    {
      "cell_type": "code",
      "metadata": {
        "id": "ZzZR-YwK4ww-"
      },
      "source": [
        "co_vars = categorical_vars + numerical_vars\n",
        "test = test[co_vars].values"
      ],
      "execution_count": null,
      "outputs": []
    },
    {
      "cell_type": "code",
      "metadata": {
        "id": "vvTp65i37KEe"
      },
      "source": [
        "test = flatten_cols(test)"
      ],
      "execution_count": null,
      "outputs": []
    },
    {
      "cell_type": "code",
      "metadata": {
        "colab": {
          "base_uri": "https://localhost:8080/"
        },
        "id": "sDoQtu7y7R7U",
        "outputId": "773889bc-8cf4-4b89-9d3c-c9c457128697"
      },
      "source": [
        "test"
      ],
      "execution_count": null,
      "outputs": [
        {
          "output_type": "execute_result",
          "data": {
            "text/plain": [
              "[array([0.000e+00, 1.000e+00, 2.000e+00, ..., 1.446e+03, 1.447e+03,\n",
              "        1.448e+03]),\n",
              " array([0., 0., 0., ..., 0., 0., 0.]),\n",
              " array([ 0.,  0.,  0., ..., 15., 15., 15.]),\n",
              " array([0., 0., 0., ..., 1., 4., 6.]),\n",
              " array([0., 0., 0., ..., 7., 7., 7.]),\n",
              " array([6., 6., 6., ..., 2., 2., 2.]),\n",
              " array([0., 0., 0., ..., 4., 4., 4.]),\n",
              " array([ 7432.        ,  2720.        ,  5376.        , ...,\n",
              "        11265.        , 29775.        , 92270.99999999]),\n",
              " array([17.51616042, 17.51616042, 17.51616042, ...,         nan,\n",
              "                nan,         nan]),\n",
              " array([11.52454959, 11.52454959, 11.52454959, ...,         nan,\n",
              "                nan,         nan]),\n",
              " array([3.65176807, 3.65176807, 3.65176807, ...,        nan,        nan,\n",
              "               nan])]"
            ]
          },
          "metadata": {
            "tags": []
          },
          "execution_count": 32
        }
      ]
    },
    {
      "cell_type": "code",
      "metadata": {
        "id": "woz-lYAySS0L",
        "colab": {
          "base_uri": "https://localhost:8080/"
        },
        "outputId": "81488b4c-a5f3-44e5-dbd1-c106af2d4227"
      },
      "source": [
        "from tqdm import tqdm\n",
        "\n",
        "step_size = 10000\n",
        "res = np.array([])\n",
        "i = 0\n",
        "for j in range(int(np.ceil(test[0].shape[0]/step_size))):\n",
        "    r = np.exp(model.predict([v[i:i+step_size] for v in test])) - 1\n",
        "    print(len(r))\n",
        "    print(r)\n",
        "    break\n",
        "    res = np.append(res,r)\n",
        "    i += step_size"
      ],
      "execution_count": null,
      "outputs": [
        {
          "output_type": "stream",
          "text": [
            "10000\n",
            "[[          inf]\n",
            " [2.3154978e+08]\n",
            " [2.0914330e+36]\n",
            " ...\n",
            " [          inf]\n",
            " [          inf]\n",
            " [          inf]]\n"
          ],
          "name": "stdout"
        },
        {
          "output_type": "stream",
          "text": [
            "/usr/local/lib/python3.7/dist-packages/ipykernel_launcher.py:7: RuntimeWarning:\n",
            "\n",
            "overflow encountered in exp\n",
            "\n"
          ],
          "name": "stderr"
        }
      ]
    },
    {
      "cell_type": "code",
      "metadata": {
        "id": "it4bdRD87Ehb"
      },
      "source": [
        ""
      ],
      "execution_count": null,
      "outputs": []
    }
  ]
}