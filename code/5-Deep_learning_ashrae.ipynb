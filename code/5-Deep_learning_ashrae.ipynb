{
  "nbformat": 4,
  "nbformat_minor": 0,
  "metadata": {
    "colab": {
      "name": "Deep_learning_ashrae.ipynb",
      "provenance": [],
      "collapsed_sections": []
    },
    "kernelspec": {
      "name": "python3",
      "display_name": "Python 3"
    },
    "accelerator": "GPU"
  },
  "cells": [
    {
      "cell_type": "code",
      "metadata": {
        "colab": {
          "base_uri": "https://localhost:8080/"
        },
        "id": "vdJLq0Ih7_cM",
        "outputId": "b014b0e0-7e13-4ad1-e9f1-cf0c43e0b677"
      },
      "source": [
        "!pip install meteocalc"
      ],
      "execution_count": 5,
      "outputs": [
        {
          "output_type": "stream",
          "text": [
            "Requirement already satisfied: meteocalc in /usr/local/lib/python3.7/dist-packages (1.1.0)\n"
          ],
          "name": "stdout"
        }
      ]
    },
    {
      "cell_type": "code",
      "metadata": {
        "id": "urKdT5nkWxaQ"
      },
      "source": [
        "#from google.colab import drive\n",
        "#drive.mount('/content/drive')\n",
        "#!cp /content/drive/MyDrive/ashrae.zip ashrae.zip\n",
        "#!unzip -q ashrae.zip"
      ],
      "execution_count": 6,
      "outputs": []
    },
    {
      "cell_type": "code",
      "metadata": {
        "colab": {
          "base_uri": "https://localhost:8080/",
          "height": 17
        },
        "id": "i2zx2E54W2eA",
        "outputId": "4ba64fb8-576c-4d4c-c4e0-a2d2df485f52"
      },
      "source": [
        "import warnings\n",
        "warnings.simplefilter(action='ignore', category=FutureWarning)\n",
        "\n",
        "import gc\n",
        "import pandas as pd\n",
        "import numpy as np\n",
        "import matplotlib.pyplot as plt\n",
        "import seaborn as sns\n",
        "import plotly.graph_objects as go\n",
        "import plotly.figure_factory as ff\n",
        "\n",
        "from IPython.core.pylabtools import figsize\n",
        "from plotly.offline import init_notebook_mode,iplot,plot\n",
        "%matplotlib inline\n",
        "init_notebook_mode(connected=True)\n",
        "plt.style.use(\"ggplot\")\n",
        "from sklearn.utils import shuffle\n",
        "\n",
        "from sklearn.preprocessing import  LabelEncoder, StandardScaler\n",
        "from sklearn.model_selection import train_test_split\n",
        "\n",
        "from keras.models import load_model\n",
        "from keras.models import Model \n",
        "from keras.layers import Input, Dense, Lambda\n",
        "from keras.layers import Embedding, Flatten, Dropout, Add, Activation\n",
        "from keras.optimizers import Adam \n",
        "from keras.callbacks import ModelCheckpoint,EarlyStopping\n",
        "import keras.backend as K\n",
        "\n",
        "# importer les fichiers .py sur le notebook\n",
        "%run utils.py\n",
        "%run feature_enginering.py"
      ],
      "execution_count": 7,
      "outputs": [
        {
          "output_type": "display_data",
          "data": {
            "text/html": [
              "        <script type=\"text/javascript\">\n",
              "        window.PlotlyConfig = {MathJaxConfig: 'local'};\n",
              "        if (window.MathJax) {MathJax.Hub.Config({SVG: {font: \"STIX-Web\"}});}\n",
              "        if (typeof require !== 'undefined') {\n",
              "        require.undef(\"plotly\");\n",
              "        requirejs.config({\n",
              "            paths: {\n",
              "                'plotly': ['https://cdn.plot.ly/plotly-latest.min']\n",
              "            }\n",
              "        });\n",
              "        require(['plotly'], function(Plotly) {\n",
              "            window._Plotly = Plotly;\n",
              "        });\n",
              "        }\n",
              "        </script>\n",
              "        "
            ]
          },
          "metadata": {
            "tags": []
          }
        }
      ]
    },
    {
      "cell_type": "code",
      "metadata": {
        "id": "XP1Ms_WdW8VR"
      },
      "source": [
        "building = pd.read_csv('/content/building_metadata.csv')\n",
        "weather = pd.read_csv('/content/weather_train.csv')\n",
        "train = pd.read_csv('/content/train.csv')\n",
        "\n",
        "train.loc[(train.meter == 0),'meter_reading'] = train['meter_reading'] * 0.2931 # convertir du kwh vers kbtu"
      ],
      "execution_count": 8,
      "outputs": []
    },
    {
      "cell_type": "code",
      "metadata": {
        "id": "4sAM2Cv1uFKC"
      },
      "source": [
        "def join_data(data , weather_data , building_data):\n",
        "    building_data = reduce_mem_usage(building_data)\n",
        "    weather_data  = reduce_mem_usage(weather_data)\n",
        "    data = reduce_mem_usage(data)\n",
        "\n",
        "    weather_data = prepare_weather_data(weather_data)\n",
        "    building_data = prepare_building_data(building_data)\n",
        "    data  = time_features(data)\n",
        "    \n",
        "    data = data.merge(building_data, left_on = \"building_id\", right_on = \"building_id\", how = \"left\")\n",
        "    data = data.merge(weather_data, left_on = [\"site_id\", \"timestamp\"], right_on = [\"site_id\", \"timestamp\"])\n",
        "\n",
        "    data = shuffle(data, random_state=0)\n",
        "    \n",
        "    data = reduce_mem_usage(data)\n",
        "    return data"
      ],
      "execution_count": 9,
      "outputs": []
    },
    {
      "cell_type": "code",
      "metadata": {
        "colab": {
          "base_uri": "https://localhost:8080/"
        },
        "id": "On0jd7ppXFUg",
        "outputId": "e16e5655-1a43-43e3-9be9-30acb406da34"
      },
      "source": [
        "train = join_data(train , weather , building)\n",
        "\n",
        "train['log_meter_reading'] = np.log(train['meter_reading'] + 1)\n",
        "train['month_group'] = train['month_group'] - 1\n",
        "\n",
        "del weather, building\n",
        "gc.collect()"
      ],
      "execution_count": 10,
      "outputs": [
        {
          "output_type": "stream",
          "text": [
            "Memory usage of dataframe is 0.07 MB\n",
            "Memory usage after optimization is: 0.02 MB\n",
            "Decreased by 65.4%\n",
            "Memory usage of dataframe is 9.60 MB\n",
            "Memory usage after optimization is: 4.51 MB\n",
            "Decreased by 53.0%\n",
            "Memory usage of dataframe is 616.95 MB\n",
            "Memory usage after optimization is: 173.90 MB\n",
            "Decreased by 71.8%\n",
            "Memory usage of dataframe is 2361.15 MB\n",
            "Memory usage after optimization is: 1401.49 MB\n",
            "Decreased by 40.6%\n"
          ],
          "name": "stdout"
        },
        {
          "output_type": "execute_result",
          "data": {
            "text/plain": [
              "53"
            ]
          },
          "metadata": {
            "tags": []
          },
          "execution_count": 10
        }
      ]
    },
    {
      "cell_type": "code",
      "metadata": {
        "id": "-TGB8FaOXjj5",
        "colab": {
          "base_uri": "https://localhost:8080/",
          "height": 302
        },
        "outputId": "8bc98e5b-f1d8-4e05-ab8d-78620b2b3fd3"
      },
      "source": [
        "train = train.drop(['meter_reading'] , axis= 1)\n",
        "\n",
        "train.head()"
      ],
      "execution_count": 11,
      "outputs": [
        {
          "output_type": "execute_result",
          "data": {
            "text/html": [
              "<div>\n",
              "<style scoped>\n",
              "    .dataframe tbody tr th:only-of-type {\n",
              "        vertical-align: middle;\n",
              "    }\n",
              "\n",
              "    .dataframe tbody tr th {\n",
              "        vertical-align: top;\n",
              "    }\n",
              "\n",
              "    .dataframe thead th {\n",
              "        text-align: right;\n",
              "    }\n",
              "</style>\n",
              "<table border=\"1\" class=\"dataframe\">\n",
              "  <thead>\n",
              "    <tr style=\"text-align: right;\">\n",
              "      <th></th>\n",
              "      <th>building_id</th>\n",
              "      <th>meter</th>\n",
              "      <th>timestamp</th>\n",
              "      <th>hour</th>\n",
              "      <th>dayofweek</th>\n",
              "      <th>month_group</th>\n",
              "      <th>site_id</th>\n",
              "      <th>primary_use</th>\n",
              "      <th>square_feet</th>\n",
              "      <th>year_built</th>\n",
              "      <th>floor_count</th>\n",
              "      <th>air_temperature</th>\n",
              "      <th>cloud_coverage</th>\n",
              "      <th>dew_temperature</th>\n",
              "      <th>precip_depth_1_hr</th>\n",
              "      <th>sea_level_pressure</th>\n",
              "      <th>wind_direction</th>\n",
              "      <th>wind_speed</th>\n",
              "      <th>relative_humidity</th>\n",
              "      <th>feels_like</th>\n",
              "      <th>city</th>\n",
              "      <th>country</th>\n",
              "      <th>is_holiday</th>\n",
              "      <th>log_meter_reading</th>\n",
              "    </tr>\n",
              "  </thead>\n",
              "  <tbody>\n",
              "    <tr>\n",
              "      <th>2217631</th>\n",
              "      <td>79</td>\n",
              "      <td>0</td>\n",
              "      <td>2016-02-10 16:00:00</td>\n",
              "      <td>16</td>\n",
              "      <td>2</td>\n",
              "      <td>0</td>\n",
              "      <td>0</td>\n",
              "      <td>Office</td>\n",
              "      <td>36240</td>\n",
              "      <td>2010.000000</td>\n",
              "      <td>0.0</td>\n",
              "      <td>11.700000</td>\n",
              "      <td>2.000000</td>\n",
              "      <td>-5.000000</td>\n",
              "      <td>0.000000</td>\n",
              "      <td>1024.099976</td>\n",
              "      <td>300.0</td>\n",
              "      <td>6.7</td>\n",
              "      <td>30.736702</td>\n",
              "      <td>53.060001</td>\n",
              "      <td>Orlando</td>\n",
              "      <td>US</td>\n",
              "      <td>0</td>\n",
              "      <td>0.000000</td>\n",
              "    </tr>\n",
              "    <tr>\n",
              "      <th>14843430</th>\n",
              "      <td>43</td>\n",
              "      <td>1</td>\n",
              "      <td>2016-09-28 17:00:00</td>\n",
              "      <td>17</td>\n",
              "      <td>2</td>\n",
              "      <td>2</td>\n",
              "      <td>0</td>\n",
              "      <td>Retail</td>\n",
              "      <td>59071</td>\n",
              "      <td>1980.000000</td>\n",
              "      <td>0.0</td>\n",
              "      <td>31.100000</td>\n",
              "      <td>2.222222</td>\n",
              "      <td>21.100000</td>\n",
              "      <td>0.000000</td>\n",
              "      <td>1015.700012</td>\n",
              "      <td>190.0</td>\n",
              "      <td>3.6</td>\n",
              "      <td>55.346207</td>\n",
              "      <td>93.080376</td>\n",
              "      <td>Orlando</td>\n",
              "      <td>US</td>\n",
              "      <td>0</td>\n",
              "      <td>6.688351</td>\n",
              "    </tr>\n",
              "    <tr>\n",
              "      <th>17098627</th>\n",
              "      <td>769</td>\n",
              "      <td>2</td>\n",
              "      <td>2016-11-07 18:00:00</td>\n",
              "      <td>18</td>\n",
              "      <td>0</td>\n",
              "      <td>2</td>\n",
              "      <td>6</td>\n",
              "      <td>Education</td>\n",
              "      <td>77263</td>\n",
              "      <td>1967.957031</td>\n",
              "      <td>0.0</td>\n",
              "      <td>17.200001</td>\n",
              "      <td>0.000000</td>\n",
              "      <td>0.000000</td>\n",
              "      <td>0.000000</td>\n",
              "      <td>1030.599976</td>\n",
              "      <td>0.0</td>\n",
              "      <td>0.0</td>\n",
              "      <td>31.195812</td>\n",
              "      <td>62.960003</td>\n",
              "      <td>Washington</td>\n",
              "      <td>US</td>\n",
              "      <td>0</td>\n",
              "      <td>4.678588</td>\n",
              "    </tr>\n",
              "    <tr>\n",
              "      <th>10198113</th>\n",
              "      <td>774</td>\n",
              "      <td>0</td>\n",
              "      <td>2016-07-07 08:00:00</td>\n",
              "      <td>8</td>\n",
              "      <td>3</td>\n",
              "      <td>1</td>\n",
              "      <td>6</td>\n",
              "      <td>Lodging/residential</td>\n",
              "      <td>93500</td>\n",
              "      <td>1967.957031</td>\n",
              "      <td>0.0</td>\n",
              "      <td>23.299999</td>\n",
              "      <td>0.000000</td>\n",
              "      <td>22.200001</td>\n",
              "      <td>0.000000</td>\n",
              "      <td>1009.500000</td>\n",
              "      <td>0.0</td>\n",
              "      <td>0.0</td>\n",
              "      <td>93.547615</td>\n",
              "      <td>73.940002</td>\n",
              "      <td>Washington</td>\n",
              "      <td>US</td>\n",
              "      <td>0</td>\n",
              "      <td>2.558731</td>\n",
              "    </tr>\n",
              "    <tr>\n",
              "      <th>15314118</th>\n",
              "      <td>1040</td>\n",
              "      <td>0</td>\n",
              "      <td>2016-10-07 00:00:00</td>\n",
              "      <td>0</td>\n",
              "      <td>4</td>\n",
              "      <td>2</td>\n",
              "      <td>12</td>\n",
              "      <td>Office</td>\n",
              "      <td>126960</td>\n",
              "      <td>1967.957031</td>\n",
              "      <td>0.0</td>\n",
              "      <td>10.300000</td>\n",
              "      <td>1.000000</td>\n",
              "      <td>6.600000</td>\n",
              "      <td>4.142857</td>\n",
              "      <td>1023.700012</td>\n",
              "      <td>100.0</td>\n",
              "      <td>6.0</td>\n",
              "      <td>77.832932</td>\n",
              "      <td>50.540001</td>\n",
              "      <td>Dublin</td>\n",
              "      <td>Ireland</td>\n",
              "      <td>0</td>\n",
              "      <td>3.926159</td>\n",
              "    </tr>\n",
              "  </tbody>\n",
              "</table>\n",
              "</div>"
            ],
            "text/plain": [
              "          building_id  meter  ... is_holiday  log_meter_reading\n",
              "2217631            79      0  ...          0           0.000000\n",
              "14843430           43      1  ...          0           6.688351\n",
              "17098627          769      2  ...          0           4.678588\n",
              "10198113          774      0  ...          0           2.558731\n",
              "15314118         1040      0  ...          0           3.926159\n",
              "\n",
              "[5 rows x 24 columns]"
            ]
          },
          "metadata": {
            "tags": []
          },
          "execution_count": 11
        }
      ]
    },
    {
      "cell_type": "code",
      "metadata": {
        "colab": {
          "base_uri": "https://localhost:8080/"
        },
        "id": "HQOjAEbl-pqc",
        "outputId": "bcdad6c8-ebfa-4dd4-eaa1-4cf4b3cf6604"
      },
      "source": [
        "print(len(train.columns))\n",
        "print(train.columns)\n",
        "print(train.shape)"
      ],
      "execution_count": 12,
      "outputs": [
        {
          "output_type": "stream",
          "text": [
            "24\n",
            "Index(['building_id', 'meter', 'timestamp', 'hour', 'dayofweek', 'month_group',\n",
            "       'site_id', 'primary_use', 'square_feet', 'year_built', 'floor_count',\n",
            "       'air_temperature', 'cloud_coverage', 'dew_temperature',\n",
            "       'precip_depth_1_hr', 'sea_level_pressure', 'wind_direction',\n",
            "       'wind_speed', 'relative_humidity', 'feels_like', 'city', 'country',\n",
            "       'is_holiday', 'log_meter_reading'],\n",
            "      dtype='object')\n",
            "(20125605, 24)\n"
          ],
          "name": "stdout"
        }
      ]
    },
    {
      "cell_type": "code",
      "metadata": {
        "id": "Sy29N7vCYVft"
      },
      "source": [
        "cols_to_drop = ['year_built' , 'floor_count' , 'timestamp']\n",
        "\n",
        "cols_to_scale = ['square_feet' , 'air_temperature' , 'dew_temperature' ,\n",
        "                 'wind_speed', 'cloud_coverage', 'sea_level_pressure', 'wind_direction',\n",
        "                 'relative_humidity', 'feels_like']\n",
        "\n",
        "cols_to_encode = ['primary_use' , 'city' , 'country']\n",
        "\n",
        "ScalerEncoder = Data_Scaler_Encoder(cols_to_scale , cols_to_drop , cols_to_encode)\n",
        "ScalerEncoder.fit(train)\n",
        "train = ScalerEncoder.transform(train)"
      ],
      "execution_count": 13,
      "outputs": []
    },
    {
      "cell_type": "code",
      "metadata": {
        "id": "3oFOr4fwb0Ge"
      },
      "source": [
        "for col in train.columns:\n",
        "  if train[col].isnull().values.any():\n",
        "    print(col , 'il y a', train[col].isnull().values.sum() , ' Nan ')"
      ],
      "execution_count": 14,
      "outputs": []
    },
    {
      "cell_type": "code",
      "metadata": {
        "id": "enPoSsTcvkMA"
      },
      "source": [
        "def residual_block(input_x, nodes):\n",
        "    d1 = Dense(nodes,activation='relu')(input_x)\n",
        "    d2 = Dense(nodes,activation='relu')(d1)\n",
        "\n",
        "    projected_x = Dense(nodes,activation='relu')(input_x)\n",
        "\n",
        "    add = Add()([projected_x , d2])\n",
        "    return add\n",
        "\n",
        "def create_model(data , categorical_vars , numerical_vars):\n",
        "    categ_inputs = []\n",
        "    embed_layers = []  \n",
        "    for col in categorical_vars:\n",
        "        num_classes = len(np.unique(data[col]))\n",
        "\n",
        "        input_x = Input(shape = [1] , name = col)\n",
        "        categ_inputs.append(input_x)\n",
        "\n",
        "        embed_x = Embedding(num_classes, 2)(input_x)\n",
        "        embed_layers.append(embed_x)\n",
        "\n",
        "    num_inputs = []\n",
        "    for col in numerical_vars:\n",
        "        num_inputs.append(Input(shape=[1] , name = col))\n",
        "\n",
        "    concat_emb = K.concatenate([Flatten()(emb_layer) for emb_layer in embed_layers])\n",
        "\n",
        "    d1 = residual_block(concat_emb , 512)\n",
        "    main = K.concatenate(num_inputs+[d1])\n",
        "\n",
        "    d3 = residual_block(main , 512)\n",
        "    d6 = residual_block(d3 , 8)\n",
        "    \n",
        "    output = Dense(1 )(d6)\n",
        "    model  = Model(categ_inputs + num_inputs, output)\n",
        "\n",
        "    return model \n",
        "\n",
        "def rmse(y_true, y_pred):\n",
        "    \"\"\" root_mean_squared_error \"\"\"\n",
        "    return K.sqrt(K.mean(K.square(y_pred - y_true)))"
      ],
      "execution_count": 15,
      "outputs": []
    },
    {
      "cell_type": "code",
      "metadata": {
        "colab": {
          "base_uri": "https://localhost:8080/",
          "height": 217
        },
        "id": "3tAXlGeOBEIG",
        "outputId": "f1ec9a2a-0e14-4b89-bae8-f80f255102ce"
      },
      "source": [
        "train.head()"
      ],
      "execution_count": 16,
      "outputs": [
        {
          "output_type": "execute_result",
          "data": {
            "text/html": [
              "<div>\n",
              "<style scoped>\n",
              "    .dataframe tbody tr th:only-of-type {\n",
              "        vertical-align: middle;\n",
              "    }\n",
              "\n",
              "    .dataframe tbody tr th {\n",
              "        vertical-align: top;\n",
              "    }\n",
              "\n",
              "    .dataframe thead th {\n",
              "        text-align: right;\n",
              "    }\n",
              "</style>\n",
              "<table border=\"1\" class=\"dataframe\">\n",
              "  <thead>\n",
              "    <tr style=\"text-align: right;\">\n",
              "      <th></th>\n",
              "      <th>building_id</th>\n",
              "      <th>meter</th>\n",
              "      <th>hour</th>\n",
              "      <th>dayofweek</th>\n",
              "      <th>month_group</th>\n",
              "      <th>site_id</th>\n",
              "      <th>primary_use</th>\n",
              "      <th>square_feet</th>\n",
              "      <th>air_temperature</th>\n",
              "      <th>cloud_coverage</th>\n",
              "      <th>dew_temperature</th>\n",
              "      <th>precip_depth_1_hr</th>\n",
              "      <th>sea_level_pressure</th>\n",
              "      <th>wind_direction</th>\n",
              "      <th>wind_speed</th>\n",
              "      <th>relative_humidity</th>\n",
              "      <th>feels_like</th>\n",
              "      <th>city</th>\n",
              "      <th>country</th>\n",
              "      <th>is_holiday</th>\n",
              "      <th>log_meter_reading</th>\n",
              "    </tr>\n",
              "  </thead>\n",
              "  <tbody>\n",
              "    <tr>\n",
              "      <th>2217631</th>\n",
              "      <td>79</td>\n",
              "      <td>0</td>\n",
              "      <td>16</td>\n",
              "      <td>2</td>\n",
              "      <td>0</td>\n",
              "      <td>0</td>\n",
              "      <td>6</td>\n",
              "      <td>-0.610650</td>\n",
              "      <td>-0.412257</td>\n",
              "      <td>-0.131424</td>\n",
              "      <td>-1.270034</td>\n",
              "      <td>0.000000</td>\n",
              "      <td>1.080684</td>\n",
              "      <td>1.204127</td>\n",
              "      <td>1.452095</td>\n",
              "      <td>-1.418302</td>\n",
              "      <td>-0.333380</td>\n",
              "      <td>5</td>\n",
              "      <td>3</td>\n",
              "      <td>0</td>\n",
              "      <td>0.000000</td>\n",
              "    </tr>\n",
              "    <tr>\n",
              "      <th>14843430</th>\n",
              "      <td>43</td>\n",
              "      <td>1</td>\n",
              "      <td>17</td>\n",
              "      <td>2</td>\n",
              "      <td>2</td>\n",
              "      <td>0</td>\n",
              "      <td>11</td>\n",
              "      <td>-0.415783</td>\n",
              "      <td>1.393175</td>\n",
              "      <td>-0.045833</td>\n",
              "      <td>1.333444</td>\n",
              "      <td>0.000000</td>\n",
              "      <td>1.011605</td>\n",
              "      <td>0.211103</td>\n",
              "      <td>0.047097</td>\n",
              "      <td>-0.324852</td>\n",
              "      <td>1.583867</td>\n",
              "      <td>5</td>\n",
              "      <td>3</td>\n",
              "      <td>0</td>\n",
              "      <td>6.688351</td>\n",
              "    </tr>\n",
              "    <tr>\n",
              "      <th>17098627</th>\n",
              "      <td>769</td>\n",
              "      <td>2</td>\n",
              "      <td>18</td>\n",
              "      <td>0</td>\n",
              "      <td>2</td>\n",
              "      <td>6</td>\n",
              "      <td>0</td>\n",
              "      <td>-0.260510</td>\n",
              "      <td>0.099592</td>\n",
              "      <td>-0.901748</td>\n",
              "      <td>-0.771283</td>\n",
              "      <td>0.000000</td>\n",
              "      <td>1.134138</td>\n",
              "      <td>-1.504119</td>\n",
              "      <td>-1.584513</td>\n",
              "      <td>-1.397903</td>\n",
              "      <td>0.140897</td>\n",
              "      <td>12</td>\n",
              "      <td>3</td>\n",
              "      <td>0</td>\n",
              "      <td>4.678588</td>\n",
              "    </tr>\n",
              "    <tr>\n",
              "      <th>10198113</th>\n",
              "      <td>774</td>\n",
              "      <td>0</td>\n",
              "      <td>8</td>\n",
              "      <td>3</td>\n",
              "      <td>1</td>\n",
              "      <td>6</td>\n",
              "      <td>4</td>\n",
              "      <td>-0.121924</td>\n",
              "      <td>0.667279</td>\n",
              "      <td>-0.901748</td>\n",
              "      <td>1.443169</td>\n",
              "      <td>0.000000</td>\n",
              "      <td>0.960617</td>\n",
              "      <td>-1.504119</td>\n",
              "      <td>-1.584513</td>\n",
              "      <td>1.372513</td>\n",
              "      <td>0.666913</td>\n",
              "      <td>12</td>\n",
              "      <td>3</td>\n",
              "      <td>0</td>\n",
              "      <td>2.558731</td>\n",
              "    </tr>\n",
              "    <tr>\n",
              "      <th>15314118</th>\n",
              "      <td>1040</td>\n",
              "      <td>0</td>\n",
              "      <td>0</td>\n",
              "      <td>4</td>\n",
              "      <td>2</td>\n",
              "      <td>12</td>\n",
              "      <td>6</td>\n",
              "      <td>0.163665</td>\n",
              "      <td>-0.542546</td>\n",
              "      <td>-0.516586</td>\n",
              "      <td>-0.112932</td>\n",
              "      <td>4.142857</td>\n",
              "      <td>1.077395</td>\n",
              "      <td>-0.601370</td>\n",
              "      <td>1.134837</td>\n",
              "      <td>0.674278</td>\n",
              "      <td>-0.454106</td>\n",
              "      <td>2</td>\n",
              "      <td>0</td>\n",
              "      <td>0</td>\n",
              "      <td>3.926159</td>\n",
              "    </tr>\n",
              "  </tbody>\n",
              "</table>\n",
              "</div>"
            ],
            "text/plain": [
              "          building_id  meter  hour  ...  country  is_holiday  log_meter_reading\n",
              "2217631            79      0    16  ...        3           0           0.000000\n",
              "14843430           43      1    17  ...        3           0           6.688351\n",
              "17098627          769      2    18  ...        3           0           4.678588\n",
              "10198113          774      0     8  ...        3           0           2.558731\n",
              "15314118         1040      0     0  ...        0           0           3.926159\n",
              "\n",
              "[5 rows x 21 columns]"
            ]
          },
          "metadata": {
            "tags": []
          },
          "execution_count": 16
        }
      ]
    },
    {
      "cell_type": "code",
      "metadata": {
        "id": "-OkyaC4140Nh"
      },
      "source": [
        "categorical_vars = ['building_id' , 'meter', 'hour', 'dayofweek' , 'month_group', 'site_id' , \n",
        "                    'primary_use', 'city', 'country', 'is_holiday']\n",
        "                    \n",
        "numerical_vars = ['square_feet', 'air_temperature', 'cloud_coverage', 'dew_temperature',\n",
        "                  'precip_depth_1_hr', 'sea_level_pressure', 'wind_direction', 'wind_speed', \n",
        "                  'relative_humidity' , 'feels_like']\n",
        "\n",
        "target_var = 'log_meter_reading'\n",
        "\n",
        "model = create_model(train, categorical_vars, numerical_vars)"
      ],
      "execution_count": 17,
      "outputs": []
    },
    {
      "cell_type": "code",
      "metadata": {
        "id": "FcwHeSZxMIFj"
      },
      "source": [
        "y = train[target_var].values\n",
        "y = y.reshape((len(y) , 1))\n",
        "\n",
        "train = train.drop( [target_var] , axis = 1)\n",
        "\n",
        "co_vars = categorical_vars + numerical_vars\n",
        "train = train[co_vars].values\n",
        "\n",
        "train = [ train[:,i].flatten() for i in range(len(train[0,:])) ]"
      ],
      "execution_count": 14,
      "outputs": []
    },
    {
      "cell_type": "code",
      "metadata": {
        "id": "xNfaClEYLtoY",
        "colab": {
          "base_uri": "https://localhost:8080/"
        },
        "outputId": "5df0495c-cd03-454e-b93f-78398397a343"
      },
      "source": [
        "# model = load_model('/content/drive/MyDrive/model_ann.h5', custom_objects={ \"rmse\": rmse})\n",
        "\n",
        "!cat /proc/meminfo"
      ],
      "execution_count": 15,
      "outputs": [
        {
          "output_type": "stream",
          "text": [
            "MemTotal:       13333568 kB\n",
            "MemFree:          252416 kB\n",
            "MemAvailable:    5137760 kB\n",
            "Buffers:            8696 kB\n",
            "Cached:           823440 kB\n",
            "SwapCached:            0 kB\n",
            "Active:          8492144 kB\n",
            "Inactive:        4231360 kB\n",
            "Active(anon):    7636748 kB\n",
            "Inactive(anon):     2412 kB\n",
            "Active(file):     855396 kB\n",
            "Inactive(file):  4228948 kB\n",
            "Unevictable:           0 kB\n",
            "Mlocked:               0 kB\n",
            "SwapTotal:             0 kB\n",
            "SwapFree:              0 kB\n",
            "Dirty:               264 kB\n",
            "Writeback:             0 kB\n",
            "AnonPages:      11891532 kB\n",
            "Mapped:           415228 kB\n",
            "Shmem:              3156 kB\n",
            "Slab:             132364 kB\n",
            "SReclaimable:      84568 kB\n",
            "SUnreclaim:        47796 kB\n",
            "KernelStack:        4832 kB\n",
            "PageTables:        31960 kB\n",
            "NFS_Unstable:          0 kB\n",
            "Bounce:                0 kB\n",
            "WritebackTmp:          0 kB\n",
            "CommitLimit:     6666784 kB\n",
            "Committed_AS:   15604576 kB\n",
            "VmallocTotal:   34359738367 kB\n",
            "VmallocUsed:           0 kB\n",
            "VmallocChunk:          0 kB\n",
            "Percpu:             1048 kB\n",
            "AnonHugePages:   4993024 kB\n",
            "ShmemHugePages:        0 kB\n",
            "ShmemPmdMapped:        0 kB\n",
            "HugePages_Total:       0\n",
            "HugePages_Free:        0\n",
            "HugePages_Rsvd:        0\n",
            "HugePages_Surp:        0\n",
            "Hugepagesize:       2048 kB\n",
            "Hugetlb:               0 kB\n",
            "DirectMap4k:      412876 kB\n",
            "DirectMap2M:    13217792 kB\n",
            "DirectMap1G:     2097152 kB\n"
          ],
          "name": "stdout"
        }
      ]
    },
    {
      "cell_type": "code",
      "metadata": {
        "id": "M_SVDntbrxK6"
      },
      "source": [
        "if 0==0:\n",
        "    checkpoint = ModelCheckpoint( '/content/drive/MyDrive/model_ann.h5', \n",
        "                                monitor='loss', \n",
        "                                verbose=1, \n",
        "                                save_best_only=True, \n",
        "                                mode='min')\n",
        "\n",
        "    early_stopping = EarlyStopping(patience = 5 ,monitor = \"rmse\")\n",
        "    callbacks_list = [checkpoint , early_stopping]\n",
        "\n",
        "    model.compile(optimizer = Adam(lr=1e-4), loss = 'mse',  metrics = [rmse])\n",
        "    history_1 = model.fit(train, y, epochs = 100, batch_size = 2048, callbacks = callbacks_list)"
      ],
      "execution_count": null,
      "outputs": []
    },
    {
      "cell_type": "code",
      "metadata": {
        "id": "XuwQNagti4Py"
      },
      "source": [
        "del X,y\n",
        "gc.collect()"
      ],
      "execution_count": null,
      "outputs": []
    },
    {
      "cell_type": "code",
      "metadata": {
        "id": "XYAzq17t5rMZ"
      },
      "source": [
        "building = pd.read_csv('/content/building_metadata.csv')\n",
        "weather = pd.read_csv('/content/weather_test.csv')\n",
        "test = pd.read_csv('/content/test.csv')\n",
        "\n",
        "test = join_data(test , weather , building)\n",
        "test = test.drop(cols_to_drop, axis= 1)"
      ],
      "execution_count": null,
      "outputs": []
    },
    {
      "cell_type": "code",
      "metadata": {
        "id": "j_t7sluF3lCN"
      },
      "source": [
        "del building,weather\n",
        "gc.collect()"
      ],
      "execution_count": null,
      "outputs": []
    },
    {
      "cell_type": "code",
      "metadata": {
        "id": "xYGLXJiF3vpb"
      },
      "source": [
        "test['primary_use'] = label_encoder.transform(test['primary_use'])"
      ],
      "execution_count": null,
      "outputs": []
    },
    {
      "cell_type": "code",
      "metadata": {
        "id": "2PG7oolx35T0"
      },
      "source": [
        "for col in cols_to_scale:\n",
        "    test[col] = (test[col] - stats[col][0])/stats[col][1]\n",
        "    \n",
        "\n",
        "test = time_features(test)"
      ],
      "execution_count": null,
      "outputs": []
    },
    {
      "cell_type": "code",
      "metadata": {
        "id": "dppUZJ5I4diO"
      },
      "source": [
        "row_id = test['row_id']\n",
        "meter = test['meter']\n",
        "test = test.drop(['row_id' , 'timestamp'] , axis=1)"
      ],
      "execution_count": null,
      "outputs": []
    },
    {
      "cell_type": "code",
      "metadata": {
        "id": "ZzZR-YwK4ww-"
      },
      "source": [
        "co_vars = categorical_vars + numerical_vars\n",
        "test = test[co_vars].values"
      ],
      "execution_count": null,
      "outputs": []
    },
    {
      "cell_type": "code",
      "metadata": {
        "id": "vvTp65i37KEe"
      },
      "source": [
        "test = flatten_cols(test)"
      ],
      "execution_count": null,
      "outputs": []
    },
    {
      "cell_type": "code",
      "metadata": {
        "id": "sDoQtu7y7R7U"
      },
      "source": [
        "test"
      ],
      "execution_count": null,
      "outputs": []
    },
    {
      "cell_type": "code",
      "metadata": {
        "id": "woz-lYAySS0L"
      },
      "source": [
        "from tqdm import tqdm\n",
        "\n",
        "step_size = 10000\n",
        "res = np.array([])\n",
        "i = 0\n",
        "for j in range(int(np.ceil(test[0].shape[0]/step_size))):\n",
        "    r = np.exp(model.predict([v[i:i+step_size] for v in test])) - 1\n",
        "    print(len(r))\n",
        "    print(r)\n",
        "    break\n",
        "    res = np.append(res,r)\n",
        "    i += step_size"
      ],
      "execution_count": null,
      "outputs": []
    },
    {
      "cell_type": "code",
      "metadata": {
        "id": "it4bdRD87Ehb"
      },
      "source": [
        "\n",
        "def preprocess_data(data , cols_to_scale , cols_to_drop):\n",
        "    data = data.drop(cols_to_drop, axis= 1)\n",
        "    data = data.dropna(axis=0)\n",
        "\n",
        "    LE = LabelEncoder()\n",
        "    LE.fit(data['primary_use'])\n",
        "\n",
        "    data['primary_use'] = LE.transform(data['primary_use'])\n",
        "\n",
        "\n",
        "    stats = {}\n",
        "    for col in cols_to_scale:\n",
        "        data[col] = ( data[col] - data[col].mean())/ data[col].std()\n",
        "        stats[col] = ( data[col].mean() , data[col].std())\n",
        "\n",
        "    data = time_features(data)\n",
        "    \n",
        "    return data , stats , LE"
      ],
      "execution_count": null,
      "outputs": []
    }
  ]
}