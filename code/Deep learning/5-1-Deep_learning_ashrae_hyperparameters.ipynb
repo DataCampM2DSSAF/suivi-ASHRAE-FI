{
  "nbformat": 4,
  "nbformat_minor": 0,
  "metadata": {
    "colab": {
      "name": "5_Deep_learning_ashrae_hyperparameters.ipynb",
      "provenance": [],
      "collapsed_sections": []
    },
    "kernelspec": {
      "name": "python3",
      "display_name": "Python 3"
    },
    "accelerator": "GPU"
  },
  "cells": [
    {
      "cell_type": "code",
      "metadata": {
        "colab": {
          "base_uri": "https://localhost:8080/"
        },
        "id": "vdJLq0Ih7_cM",
        "outputId": "dcd4dc1e-2806-4bdb-e89b-7cfcc687410e"
      },
      "source": [
        "!pip install meteocalc"
      ],
      "execution_count": 1,
      "outputs": [
        {
          "output_type": "stream",
          "text": [
            "Collecting meteocalc\n",
            "  Downloading https://files.pythonhosted.org/packages/6c/f7/95473a929f0a02547461fa3698b7f8082ff40445ba5e21601f5d9a5e48ec/meteocalc-1.1.0.tar.gz\n",
            "Building wheels for collected packages: meteocalc\n",
            "  Building wheel for meteocalc (setup.py) ... \u001b[?25l\u001b[?25hdone\n",
            "  Created wheel for meteocalc: filename=meteocalc-1.1.0-cp37-none-any.whl size=8195 sha256=a46ce4ecb8810c4a0cfc69e1873dcfc6cf0bc627ad03127368c9e895e8a8cffc\n",
            "  Stored in directory: /root/.cache/pip/wheels/9e/34/13/83d36ecc28837e3c2a5b696542e697538e7c1025382f4ded55\n",
            "Successfully built meteocalc\n",
            "Installing collected packages: meteocalc\n",
            "Successfully installed meteocalc-1.1.0\n"
          ],
          "name": "stdout"
        }
      ]
    },
    {
      "cell_type": "code",
      "metadata": {
        "id": "urKdT5nkWxaQ",
        "colab": {
          "base_uri": "https://localhost:8080/"
        },
        "outputId": "f6d7af0a-5627-450d-9ce3-a32e1ad7b6d1"
      },
      "source": [
        "#from google.colab import drive\n",
        "#drive.mount('/content/drive')\n",
        "#!cp /content/drive/MyDrive/ashrae.zip ashrae.zip\n",
        "#!unzip -q ashrae.zip"
      ],
      "execution_count": 5,
      "outputs": [
        {
          "output_type": "stream",
          "text": [
            "Mounted at /content/drive\n"
          ],
          "name": "stdout"
        }
      ]
    },
    {
      "cell_type": "code",
      "metadata": {
        "colab": {
          "base_uri": "https://localhost:8080/",
          "height": 17
        },
        "id": "i2zx2E54W2eA",
        "outputId": "aec9d44b-d4f3-4cdf-dc79-69ef8507f84b"
      },
      "source": [
        "import warnings\n",
        "warnings.simplefilter(action='ignore', category=FutureWarning)\n",
        "\n",
        "import gc\n",
        "import pandas as pd\n",
        "import numpy as np\n",
        "import matplotlib.pyplot as plt\n",
        "import seaborn as sns\n",
        "import plotly.graph_objects as go\n",
        "import plotly.figure_factory as ff\n",
        "\n",
        "from IPython.core.pylabtools import figsize\n",
        "from plotly.offline import init_notebook_mode,iplot,plot\n",
        "%matplotlib inline\n",
        "init_notebook_mode(connected=True)\n",
        "plt.style.use(\"ggplot\")\n",
        "from sklearn.utils import shuffle\n",
        "\n",
        "from sklearn.preprocessing import  LabelEncoder, StandardScaler\n",
        "from sklearn.model_selection import train_test_split\n",
        "\n",
        "from keras.models import load_model\n",
        "from keras.models import Model \n",
        "from keras.layers import Input, Dense, Lambda\n",
        "from keras.layers import Embedding, Flatten, Dropout, Add, Activation\n",
        "from keras.optimizers import Adam \n",
        "from keras.callbacks import ModelCheckpoint,EarlyStopping\n",
        "import keras.backend as K\n",
        "\n",
        "# importer les fichiers .py sur le notebook\n",
        "%run utils.py\n",
        "%run feature_enginering.py"
      ],
      "execution_count": 6,
      "outputs": [
        {
          "output_type": "display_data",
          "data": {
            "text/html": [
              "        <script type=\"text/javascript\">\n",
              "        window.PlotlyConfig = {MathJaxConfig: 'local'};\n",
              "        if (window.MathJax) {MathJax.Hub.Config({SVG: {font: \"STIX-Web\"}});}\n",
              "        if (typeof require !== 'undefined') {\n",
              "        require.undef(\"plotly\");\n",
              "        requirejs.config({\n",
              "            paths: {\n",
              "                'plotly': ['https://cdn.plot.ly/plotly-latest.min']\n",
              "            }\n",
              "        });\n",
              "        require(['plotly'], function(Plotly) {\n",
              "            window._Plotly = Plotly;\n",
              "        });\n",
              "        }\n",
              "        </script>\n",
              "        "
            ]
          },
          "metadata": {
            "tags": []
          }
        }
      ]
    },
    {
      "cell_type": "code",
      "metadata": {
        "id": "XP1Ms_WdW8VR"
      },
      "source": [
        "building = pd.read_csv('/content/building_metadata.csv')\n",
        "weather = pd.read_csv('/content/weather_train.csv')\n",
        "train = pd.read_csv('/content/train.csv')\n",
        "\n",
        "train.loc[(train.meter == 0),'meter_reading'] = train['meter_reading'] * 0.2931 # convertir du kwh vers kbtu"
      ],
      "execution_count": 7,
      "outputs": []
    },
    {
      "cell_type": "code",
      "metadata": {
        "id": "Jc7z3jkrB5ex"
      },
      "source": [
        "building = reduce_mem_usage(building)\n",
        "weather  = reduce_mem_usage(weather)\n",
        "train = reduce_mem_usage(train)"
      ],
      "execution_count": 8,
      "outputs": []
    },
    {
      "cell_type": "code",
      "metadata": {
        "id": "KwbcY8FGCA6Z"
      },
      "source": [
        "building = prepare_building_data(building)\n",
        "weather = prepare_weather_data(weather)\n",
        "train  = time_features(train)"
      ],
      "execution_count": 9,
      "outputs": []
    },
    {
      "cell_type": "code",
      "metadata": {
        "id": "4sAM2Cv1uFKC"
      },
      "source": [
        "def join_data(data , weather_data , building_data):\n",
        "\n",
        "    data = data.merge(building_data, on = 'building_id' , how='left')\n",
        "    data = data.merge(weather_data , on = ['site_id','timestamp'], how= 'left')\n",
        "    data = shuffle(data, random_state=0)\n",
        "\n",
        "    return data"
      ],
      "execution_count": 10,
      "outputs": []
    },
    {
      "cell_type": "code",
      "metadata": {
        "id": "On0jd7ppXFUg",
        "colab": {
          "base_uri": "https://localhost:8080/"
        },
        "outputId": "4733af52-7e4b-41a4-acad-055bd11d396c"
      },
      "source": [
        "train = join_data(train , weather , building)\n",
        "\n",
        "train['log_meter_reading'] = np.log(train['meter_reading'] + 1)\n",
        "train['month_group'] = train['month_group'] - 1\n",
        "\n",
        "train = train.drop(['meter_reading'] , axis= 1)\n",
        "\n",
        "train  = reduce_mem_usage(train)\n",
        "del weather, building\n",
        "gc.collect()"
      ],
      "execution_count": 11,
      "outputs": [
        {
          "output_type": "execute_result",
          "data": {
            "text/plain": [
              "26"
            ]
          },
          "metadata": {
            "tags": []
          },
          "execution_count": 11
        }
      ]
    },
    {
      "cell_type": "code",
      "metadata": {
        "id": "HQOjAEbl-pqc",
        "colab": {
          "base_uri": "https://localhost:8080/"
        },
        "outputId": "07f80819-1ac2-4676-b8ed-9e88447949e1"
      },
      "source": [
        "print(len(train.columns))\n",
        "print(train.columns)\n",
        "print(train.shape)"
      ],
      "execution_count": 12,
      "outputs": [
        {
          "output_type": "stream",
          "text": [
            "24\n",
            "Index(['building_id', 'meter', 'timestamp', 'hour', 'dayofweek', 'month_group',\n",
            "       'site_id', 'primary_use', 'square_feet', 'year_built', 'floor_count',\n",
            "       'air_temperature', 'cloud_coverage', 'dew_temperature',\n",
            "       'precip_depth_1_hr', 'sea_level_pressure', 'wind_direction',\n",
            "       'wind_speed', 'relative_humidity', 'feels_like', 'city', 'country',\n",
            "       'is_holiday', 'log_meter_reading'],\n",
            "      dtype='object')\n",
            "(20216100, 24)\n"
          ],
          "name": "stdout"
        }
      ]
    },
    {
      "cell_type": "code",
      "metadata": {
        "colab": {
          "base_uri": "https://localhost:8080/"
        },
        "id": "Q0LfiAYztqY_",
        "outputId": "03bfb9ba-6f62-4b87-f9d1-9bf45b48f162"
      },
      "source": [
        "for col in train.columns:\n",
        "  if train[col].isnull().values.any():\n",
        "    print(col , 'il y a', train[col].isnull().values.sum() , ' Nan ')"
      ],
      "execution_count": 13,
      "outputs": [
        {
          "output_type": "stream",
          "text": [
            "air_temperature il y a 90495  Nan \n",
            "cloud_coverage il y a 90495  Nan \n",
            "dew_temperature il y a 90495  Nan \n",
            "precip_depth_1_hr il y a 90495  Nan \n",
            "sea_level_pressure il y a 90495  Nan \n",
            "wind_direction il y a 90495  Nan \n",
            "wind_speed il y a 90495  Nan \n",
            "relative_humidity il y a 90495  Nan \n",
            "feels_like il y a 90495  Nan \n",
            "city il y a 90495  Nan \n",
            "country il y a 90495  Nan \n",
            "is_holiday il y a 90495  Nan \n"
          ],
          "name": "stdout"
        }
      ]
    },
    {
      "cell_type": "code",
      "metadata": {
        "id": "Sy29N7vCYVft"
      },
      "source": [
        "cols_to_drop = ['year_built' , 'floor_count' , 'timestamp']\n",
        "\n",
        "cols_to_scale = ['square_feet' , 'air_temperature' , 'dew_temperature' ,\n",
        "                 'wind_speed', 'cloud_coverage', 'sea_level_pressure', 'wind_direction',\n",
        "                 'relative_humidity', 'feels_like']\n",
        "\n",
        "cols_to_encode = ['primary_use' , 'city' , 'country']\n",
        "\n",
        "cols_to_fill_median = ['air_temperature', 'cloud_coverage', 'dew_temperature', 'precip_depth_1_hr',\n",
        "                       'sea_level_pressure','wind_direction' , 'wind_speed', 'relative_humidity' ,\n",
        "                       'feels_like']\n",
        "\n",
        "cols_to_fill_categ = ['city' , 'country' , 'is_holiday']\n",
        "\n",
        "\n",
        "Filler = Data_Filler(cols_to_fill_median,\n",
        "                     cols_to_fill_categ)\n",
        "\n",
        "Filler.fit(train)\n",
        "train = Filler.transform(train)\n",
        "\n",
        "ScalerEncoder = Data_Scaler_Encoder(cols_to_scale ,\n",
        "                                    cols_to_drop , \n",
        "                                    cols_to_encode)\n",
        "ScalerEncoder.fit(train)\n",
        "train = ScalerEncoder.transform(train)"
      ],
      "execution_count": 14,
      "outputs": []
    },
    {
      "cell_type": "code",
      "metadata": {
        "id": "enPoSsTcvkMA"
      },
      "source": [
        "def residual_block(input_x, nodes):\n",
        "    d1 = Dense(nodes,activation='relu')(input_x)\n",
        "    d2 = Dense(nodes,activation='relu')(d1)\n",
        "\n",
        "    projected_x = Dense(nodes,activation='relu')(input_x)\n",
        "\n",
        "    add = Add()([projected_x , d2])\n",
        "    return add\n",
        "\n",
        "def create_model(data , categorical_vars , numerical_vars):\n",
        "    categ_inputs = []\n",
        "    embed_layers = []  \n",
        "    for col in categorical_vars:\n",
        "        num_classes = len(np.unique(data[col]))\n",
        "\n",
        "        input_x = Input(shape = [1] , name = col)\n",
        "        categ_inputs.append(input_x)\n",
        "\n",
        "        embed_x = Embedding(num_classes, 2)(input_x)\n",
        "        embed_layers.append(embed_x)\n",
        "\n",
        "    num_inputs = []\n",
        "    for col in numerical_vars:\n",
        "        num_inputs.append(Input(shape=[1] , name = col))\n",
        "\n",
        "    concat_emb = K.concatenate([Flatten()(emb_layer) for emb_layer in embed_layers])\n",
        "\n",
        "    d1 = residual_block(concat_emb , 512)\n",
        "    main = K.concatenate(num_inputs+[d1])\n",
        "\n",
        "    d2 = residual_block(main , 512)\n",
        "    d3 = residual_block(d2 , 256)\n",
        "    d4 = residual_block(d3 , 8)\n",
        "\n",
        "    df = Dense(4 , name='second_to_last_layer')(d3)\n",
        "\n",
        "    output = Dense(1)(df)\n",
        "    model  = Model(categ_inputs + num_inputs, output)\n",
        "\n",
        "    return model \n",
        "\n",
        "def rmse(y_true, y_pred):\n",
        "    \"\"\" root_mean_squared_error \"\"\"\n",
        "    return K.sqrt(K.mean(K.square(y_pred - y_true)))"
      ],
      "execution_count": 15,
      "outputs": []
    },
    {
      "cell_type": "code",
      "metadata": {
        "id": "3tAXlGeOBEIG",
        "colab": {
          "base_uri": "https://localhost:8080/",
          "height": 217
        },
        "outputId": "52dcf885-556f-4379-bb02-b01eca588d88"
      },
      "source": [
        "train.head()"
      ],
      "execution_count": 16,
      "outputs": [
        {
          "output_type": "execute_result",
          "data": {
            "text/html": [
              "<div>\n",
              "<style scoped>\n",
              "    .dataframe tbody tr th:only-of-type {\n",
              "        vertical-align: middle;\n",
              "    }\n",
              "\n",
              "    .dataframe tbody tr th {\n",
              "        vertical-align: top;\n",
              "    }\n",
              "\n",
              "    .dataframe thead th {\n",
              "        text-align: right;\n",
              "    }\n",
              "</style>\n",
              "<table border=\"1\" class=\"dataframe\">\n",
              "  <thead>\n",
              "    <tr style=\"text-align: right;\">\n",
              "      <th></th>\n",
              "      <th>building_id</th>\n",
              "      <th>meter</th>\n",
              "      <th>hour</th>\n",
              "      <th>dayofweek</th>\n",
              "      <th>month_group</th>\n",
              "      <th>site_id</th>\n",
              "      <th>primary_use</th>\n",
              "      <th>square_feet</th>\n",
              "      <th>air_temperature</th>\n",
              "      <th>cloud_coverage</th>\n",
              "      <th>dew_temperature</th>\n",
              "      <th>precip_depth_1_hr</th>\n",
              "      <th>sea_level_pressure</th>\n",
              "      <th>wind_direction</th>\n",
              "      <th>wind_speed</th>\n",
              "      <th>relative_humidity</th>\n",
              "      <th>feels_like</th>\n",
              "      <th>city</th>\n",
              "      <th>country</th>\n",
              "      <th>is_holiday</th>\n",
              "      <th>log_meter_reading</th>\n",
              "    </tr>\n",
              "  </thead>\n",
              "  <tbody>\n",
              "    <tr>\n",
              "      <th>11990877</th>\n",
              "      <td>774</td>\n",
              "      <td>1</td>\n",
              "      <td>8</td>\n",
              "      <td>6</td>\n",
              "      <td>1</td>\n",
              "      <td>6</td>\n",
              "      <td>4</td>\n",
              "      <td>-0.121928</td>\n",
              "      <td>0.622309</td>\n",
              "      <td>-0.493968</td>\n",
              "      <td>1.335863</td>\n",
              "      <td>0.000000</td>\n",
              "      <td>0.971994</td>\n",
              "      <td>-1.508241</td>\n",
              "      <td>-1.586555</td>\n",
              "      <td>1.220804</td>\n",
              "      <td>0.625725</td>\n",
              "      <td>12</td>\n",
              "      <td>3</td>\n",
              "      <td>0.0</td>\n",
              "      <td>3.614396</td>\n",
              "    </tr>\n",
              "    <tr>\n",
              "      <th>15256244</th>\n",
              "      <td>206</td>\n",
              "      <td>0</td>\n",
              "      <td>14</td>\n",
              "      <td>1</td>\n",
              "      <td>2</td>\n",
              "      <td>2</td>\n",
              "      <td>9</td>\n",
              "      <td>2.032176</td>\n",
              "      <td>-0.004326</td>\n",
              "      <td>-0.902715</td>\n",
              "      <td>-0.443634</td>\n",
              "      <td>0.000000</td>\n",
              "      <td>0.950487</td>\n",
              "      <td>-0.693963</td>\n",
              "      <td>-0.905198</td>\n",
              "      <td>-0.907559</td>\n",
              "      <td>0.046760</td>\n",
              "      <td>11</td>\n",
              "      <td>3</td>\n",
              "      <td>0.0</td>\n",
              "      <td>4.209454</td>\n",
              "    </tr>\n",
              "    <tr>\n",
              "      <th>18401495</th>\n",
              "      <td>1269</td>\n",
              "      <td>0</td>\n",
              "      <td>10</td>\n",
              "      <td>1</td>\n",
              "      <td>2</td>\n",
              "      <td>14</td>\n",
              "      <td>3</td>\n",
              "      <td>-0.438739</td>\n",
              "      <td>-0.733841</td>\n",
              "      <td>-0.902715</td>\n",
              "      <td>-0.273682</td>\n",
              "      <td>0.000000</td>\n",
              "      <td>1.015009</td>\n",
              "      <td>-0.603487</td>\n",
              "      <td>-0.405537</td>\n",
              "      <td>0.755967</td>\n",
              "      <td>-0.627258</td>\n",
              "      <td>7</td>\n",
              "      <td>3</td>\n",
              "      <td>0.0</td>\n",
              "      <td>2.241073</td>\n",
              "    </tr>\n",
              "    <tr>\n",
              "      <th>15573710</th>\n",
              "      <td>951</td>\n",
              "      <td>0</td>\n",
              "      <td>4</td>\n",
              "      <td>0</td>\n",
              "      <td>2</td>\n",
              "      <td>9</td>\n",
              "      <td>6</td>\n",
              "      <td>-0.032943</td>\n",
              "      <td>0.098554</td>\n",
              "      <td>-0.902715</td>\n",
              "      <td>-0.213699</td>\n",
              "      <td>0.000000</td>\n",
              "      <td>1.066786</td>\n",
              "      <td>-1.508241</td>\n",
              "      <td>-1.586555</td>\n",
              "      <td>-0.727844</td>\n",
              "      <td>0.141815</td>\n",
              "      <td>0</td>\n",
              "      <td>3</td>\n",
              "      <td>1.0</td>\n",
              "      <td>3.529892</td>\n",
              "    </tr>\n",
              "    <tr>\n",
              "      <th>6515439</th>\n",
              "      <td>656</td>\n",
              "      <td>0</td>\n",
              "      <td>21</td>\n",
              "      <td>6</td>\n",
              "      <td>1</td>\n",
              "      <td>5</td>\n",
              "      <td>7</td>\n",
              "      <td>-0.870854</td>\n",
              "      <td>-0.481317</td>\n",
              "      <td>-0.902715</td>\n",
              "      <td>0.226177</td>\n",
              "      <td>-0.041667</td>\n",
              "      <td>0.990017</td>\n",
              "      <td>1.206021</td>\n",
              "      <td>-0.405537</td>\n",
              "      <td>1.372431</td>\n",
              "      <td>-0.393944</td>\n",
              "      <td>10</td>\n",
              "      <td>2</td>\n",
              "      <td>0.0</td>\n",
              "      <td>2.359378</td>\n",
              "    </tr>\n",
              "  </tbody>\n",
              "</table>\n",
              "</div>"
            ],
            "text/plain": [
              "          building_id  meter  hour  ...  country  is_holiday  log_meter_reading\n",
              "11990877          774      1     8  ...        3         0.0           3.614396\n",
              "15256244          206      0    14  ...        3         0.0           4.209454\n",
              "18401495         1269      0    10  ...        3         0.0           2.241073\n",
              "15573710          951      0     4  ...        3         1.0           3.529892\n",
              "6515439           656      0    21  ...        2         0.0           2.359378\n",
              "\n",
              "[5 rows x 21 columns]"
            ]
          },
          "metadata": {
            "tags": []
          },
          "execution_count": 16
        }
      ]
    },
    {
      "cell_type": "code",
      "metadata": {
        "id": "-OkyaC4140Nh"
      },
      "source": [
        "categorical_vars = ['building_id' , 'meter', 'hour', 'dayofweek' , 'month_group', 'site_id' , \n",
        "                    'primary_use', 'city', 'country', 'is_holiday']\n",
        "                    \n",
        "numerical_vars = ['square_feet', 'air_temperature', 'cloud_coverage', 'dew_temperature',\n",
        "                  'precip_depth_1_hr', 'sea_level_pressure', 'wind_direction', 'wind_speed', \n",
        "                  'relative_humidity' , 'feels_like']\n",
        "\n",
        "target_var = 'log_meter_reading'\n",
        "\n",
        "model = create_model(train, categorical_vars, numerical_vars)"
      ],
      "execution_count": 17,
      "outputs": []
    },
    {
      "cell_type": "code",
      "metadata": {
        "id": "FcwHeSZxMIFj"
      },
      "source": [
        "y = train[target_var].values\n",
        "y = y.reshape((len(y) , 1))\n",
        "\n",
        "train = train.drop( [target_var] , axis = 1)\n",
        "\n",
        "co_vars = categorical_vars + numerical_vars\n",
        "train = train[co_vars].values\n",
        "\n",
        "train = [ train[:,i].flatten() for i in range(len(train[0,:])) ]"
      ],
      "execution_count": 18,
      "outputs": []
    },
    {
      "cell_type": "code",
      "metadata": {
        "id": "M_SVDntbrxK6",
        "colab": {
          "base_uri": "https://localhost:8080/"
        },
        "outputId": "90df051c-d9ac-4547-9ba3-ffb2d73f5e78"
      },
      "source": [
        "checkpoint = ModelCheckpoint( '/content/drive/MyDrive/model_ann.h5', \n",
        "                                monitor='val_rmse', \n",
        "                                verbose=1, \n",
        "                                save_best_only=True, \n",
        "                                mode='min')\n",
        "\n",
        "early_stopping = EarlyStopping(patience = 5 ,monitor = \"val_rmse\")\n",
        "callbacks_list = [checkpoint , early_stopping]\n",
        "\n",
        "model.compile(optimizer = Adam(lr=1e-4), loss = 'mse',  metrics = [rmse])\n",
        "history = model.fit(train, y, epochs = 90, batch_size = 1024, callbacks = callbacks_list, validation_split = 0.25)"
      ],
      "execution_count": 19,
      "outputs": [
        {
          "output_type": "stream",
          "text": [
            "Epoch 1/90\n",
            "14807/14807 [==============================] - 165s 11ms/step - loss: 1.5654 - rmse: 1.1874 - val_loss: 0.8148 - val_rmse: 0.9006\n",
            "\n",
            "Epoch 00001: val_rmse improved from inf to 0.90059, saving model to /content/drive/MyDrive/model_ann.h5\n",
            "Epoch 2/90\n",
            "14807/14807 [==============================] - 156s 11ms/step - loss: 0.7907 - rmse: 0.8872 - val_loss: 0.7251 - val_rmse: 0.8494\n",
            "\n",
            "Epoch 00002: val_rmse improved from 0.90059 to 0.84936, saving model to /content/drive/MyDrive/model_ann.h5\n",
            "Epoch 3/90\n",
            "14807/14807 [==============================] - 155s 10ms/step - loss: 0.7123 - rmse: 0.8420 - val_loss: 0.6721 - val_rmse: 0.8178\n",
            "\n",
            "Epoch 00003: val_rmse improved from 0.84936 to 0.81775, saving model to /content/drive/MyDrive/model_ann.h5\n",
            "Epoch 4/90\n",
            "14807/14807 [==============================] - 155s 10ms/step - loss: 0.6584 - rmse: 0.8094 - val_loss: 0.6297 - val_rmse: 0.7914\n",
            "\n",
            "Epoch 00004: val_rmse improved from 0.81775 to 0.79136, saving model to /content/drive/MyDrive/model_ann.h5\n",
            "Epoch 5/90\n",
            "14807/14807 [==============================] - 155s 10ms/step - loss: 0.6170 - rmse: 0.7834 - val_loss: 0.5886 - val_rmse: 0.7649\n",
            "\n",
            "Epoch 00005: val_rmse improved from 0.79136 to 0.76493, saving model to /content/drive/MyDrive/model_ann.h5\n",
            "Epoch 6/90\n",
            "14807/14807 [==============================] - 154s 10ms/step - loss: 0.5844 - rmse: 0.7624 - val_loss: 0.5638 - val_rmse: 0.7486\n",
            "\n",
            "Epoch 00006: val_rmse improved from 0.76493 to 0.74856, saving model to /content/drive/MyDrive/model_ann.h5\n",
            "Epoch 7/90\n",
            "14807/14807 [==============================] - 153s 10ms/step - loss: 0.5558 - rmse: 0.7433 - val_loss: 0.5405 - val_rmse: 0.7329\n",
            "\n",
            "Epoch 00007: val_rmse improved from 0.74856 to 0.73290, saving model to /content/drive/MyDrive/model_ann.h5\n",
            "Epoch 8/90\n",
            "14807/14807 [==============================] - 154s 10ms/step - loss: 0.5309 - rmse: 0.7265 - val_loss: 0.5255 - val_rmse: 0.7225\n",
            "\n",
            "Epoch 00008: val_rmse improved from 0.73290 to 0.72249, saving model to /content/drive/MyDrive/model_ann.h5\n",
            "Epoch 9/90\n",
            "14807/14807 [==============================] - 154s 10ms/step - loss: 0.5106 - rmse: 0.7123 - val_loss: 0.5096 - val_rmse: 0.7115\n",
            "\n",
            "Epoch 00009: val_rmse improved from 0.72249 to 0.71148, saving model to /content/drive/MyDrive/model_ann.h5\n",
            "Epoch 10/90\n",
            "14807/14807 [==============================] - 152s 10ms/step - loss: 0.4919 - rmse: 0.6991 - val_loss: 0.4876 - val_rmse: 0.6958\n",
            "\n",
            "Epoch 00010: val_rmse improved from 0.71148 to 0.69580, saving model to /content/drive/MyDrive/model_ann.h5\n",
            "Epoch 11/90\n",
            "14807/14807 [==============================] - 153s 10ms/step - loss: 0.4757 - rmse: 0.6874 - val_loss: 0.4755 - val_rmse: 0.6871\n",
            "\n",
            "Epoch 00011: val_rmse improved from 0.69580 to 0.68711, saving model to /content/drive/MyDrive/model_ann.h5\n",
            "Epoch 12/90\n",
            "14807/14807 [==============================] - 153s 10ms/step - loss: 0.4612 - rmse: 0.6769 - val_loss: 0.4666 - val_rmse: 0.6806\n",
            "\n",
            "Epoch 00012: val_rmse improved from 0.68711 to 0.68063, saving model to /content/drive/MyDrive/model_ann.h5\n",
            "Epoch 13/90\n",
            "14807/14807 [==============================] - 153s 10ms/step - loss: 0.4482 - rmse: 0.6671 - val_loss: 0.4592 - val_rmse: 0.6753\n",
            "\n",
            "Epoch 00013: val_rmse improved from 0.68063 to 0.67533, saving model to /content/drive/MyDrive/model_ann.h5\n",
            "Epoch 14/90\n",
            "14807/14807 [==============================] - 155s 10ms/step - loss: 0.4353 - rmse: 0.6574 - val_loss: 0.4440 - val_rmse: 0.6638\n",
            "\n",
            "Epoch 00014: val_rmse improved from 0.67533 to 0.66375, saving model to /content/drive/MyDrive/model_ann.h5\n",
            "Epoch 15/90\n",
            "14807/14807 [==============================] - 155s 10ms/step - loss: 0.4242 - rmse: 0.6489 - val_loss: 0.4325 - val_rmse: 0.6552\n",
            "\n",
            "Epoch 00015: val_rmse improved from 0.66375 to 0.65521, saving model to /content/drive/MyDrive/model_ann.h5\n",
            "Epoch 16/90\n",
            "14807/14807 [==============================] - 154s 10ms/step - loss: 0.4141 - rmse: 0.6412 - val_loss: 0.4300 - val_rmse: 0.6533\n",
            "\n",
            "Epoch 00016: val_rmse improved from 0.65521 to 0.65331, saving model to /content/drive/MyDrive/model_ann.h5\n",
            "Epoch 17/90\n",
            "14807/14807 [==============================] - 155s 10ms/step - loss: 0.4048 - rmse: 0.6340 - val_loss: 0.4251 - val_rmse: 0.6496\n",
            "\n",
            "Epoch 00017: val_rmse improved from 0.65331 to 0.64959, saving model to /content/drive/MyDrive/model_ann.h5\n",
            "Epoch 18/90\n",
            "14807/14807 [==============================] - 153s 10ms/step - loss: 0.3981 - rmse: 0.6286 - val_loss: 0.4109 - val_rmse: 0.6385\n",
            "\n",
            "Epoch 00018: val_rmse improved from 0.64959 to 0.63846, saving model to /content/drive/MyDrive/model_ann.h5\n",
            "Epoch 19/90\n",
            "14807/14807 [==============================] - 152s 10ms/step - loss: 0.3877 - rmse: 0.6204 - val_loss: 0.4075 - val_rmse: 0.6358\n",
            "\n",
            "Epoch 00019: val_rmse improved from 0.63846 to 0.63577, saving model to /content/drive/MyDrive/model_ann.h5\n",
            "Epoch 20/90\n",
            "14807/14807 [==============================] - 148s 10ms/step - loss: 0.3805 - rmse: 0.6146 - val_loss: 0.4077 - val_rmse: 0.6359\n",
            "\n",
            "Epoch 00020: val_rmse did not improve from 0.63577\n",
            "Epoch 21/90\n",
            "14807/14807 [==============================] - 146s 10ms/step - loss: 0.3739 - rmse: 0.6091 - val_loss: 0.3982 - val_rmse: 0.6285\n",
            "\n",
            "Epoch 00021: val_rmse improved from 0.63577 to 0.62848, saving model to /content/drive/MyDrive/model_ann.h5\n",
            "Epoch 22/90\n",
            "14807/14807 [==============================] - 143s 10ms/step - loss: 0.3678 - rmse: 0.6041 - val_loss: 0.3905 - val_rmse: 0.6223\n",
            "\n",
            "Epoch 00022: val_rmse improved from 0.62848 to 0.62232, saving model to /content/drive/MyDrive/model_ann.h5\n",
            "Epoch 23/90\n",
            "14807/14807 [==============================] - 142s 10ms/step - loss: 0.3602 - rmse: 0.5978 - val_loss: 0.3879 - val_rmse: 0.6203\n",
            "\n",
            "Epoch 00023: val_rmse improved from 0.62232 to 0.62026, saving model to /content/drive/MyDrive/model_ann.h5\n",
            "Epoch 24/90\n",
            "14807/14807 [==============================] - 141s 10ms/step - loss: 0.3548 - rmse: 0.5932 - val_loss: 0.3909 - val_rmse: 0.6226\n",
            "\n",
            "Epoch 00024: val_rmse did not improve from 0.62026\n",
            "Epoch 25/90\n",
            "14807/14807 [==============================] - 141s 10ms/step - loss: 0.3496 - rmse: 0.5890 - val_loss: 0.3818 - val_rmse: 0.6153\n",
            "\n",
            "Epoch 00025: val_rmse improved from 0.62026 to 0.61531, saving model to /content/drive/MyDrive/model_ann.h5\n",
            "Epoch 26/90\n",
            "14807/14807 [==============================] - 141s 10ms/step - loss: 0.3440 - rmse: 0.5841 - val_loss: 0.3790 - val_rmse: 0.6129\n",
            "\n",
            "Epoch 00026: val_rmse improved from 0.61531 to 0.61294, saving model to /content/drive/MyDrive/model_ann.h5\n",
            "Epoch 27/90\n",
            "14807/14807 [==============================] - 139s 9ms/step - loss: 0.3394 - rmse: 0.5802 - val_loss: 0.3732 - val_rmse: 0.6082\n",
            "\n",
            "Epoch 00027: val_rmse improved from 0.61294 to 0.60824, saving model to /content/drive/MyDrive/model_ann.h5\n",
            "Epoch 28/90\n",
            "14807/14807 [==============================] - 139s 9ms/step - loss: 0.3343 - rmse: 0.5759 - val_loss: 0.3680 - val_rmse: 0.6039\n",
            "\n",
            "Epoch 00028: val_rmse improved from 0.60824 to 0.60393, saving model to /content/drive/MyDrive/model_ann.h5\n",
            "Epoch 29/90\n",
            "14807/14807 [==============================] - 139s 9ms/step - loss: 0.3300 - rmse: 0.5721 - val_loss: 0.3701 - val_rmse: 0.6057\n",
            "\n",
            "Epoch 00029: val_rmse did not improve from 0.60393\n",
            "Epoch 30/90\n",
            "14807/14807 [==============================] - 139s 9ms/step - loss: 0.3254 - rmse: 0.5681 - val_loss: 0.3668 - val_rmse: 0.6030\n",
            "\n",
            "Epoch 00030: val_rmse improved from 0.60393 to 0.60298, saving model to /content/drive/MyDrive/model_ann.h5\n",
            "Epoch 31/90\n",
            "14807/14807 [==============================] - 140s 9ms/step - loss: 0.3211 - rmse: 0.5644 - val_loss: 0.3623 - val_rmse: 0.5992\n",
            "\n",
            "Epoch 00031: val_rmse improved from 0.60298 to 0.59916, saving model to /content/drive/MyDrive/model_ann.h5\n",
            "Epoch 32/90\n",
            "14807/14807 [==============================] - 141s 9ms/step - loss: 0.3168 - rmse: 0.5606 - val_loss: 0.3613 - val_rmse: 0.5984\n",
            "\n",
            "Epoch 00032: val_rmse improved from 0.59916 to 0.59843, saving model to /content/drive/MyDrive/model_ann.h5\n",
            "Epoch 33/90\n",
            "14807/14807 [==============================] - 141s 10ms/step - loss: 0.3132 - rmse: 0.5574 - val_loss: 0.3607 - val_rmse: 0.5979\n",
            "\n",
            "Epoch 00033: val_rmse improved from 0.59843 to 0.59787, saving model to /content/drive/MyDrive/model_ann.h5\n",
            "Epoch 34/90\n",
            "14807/14807 [==============================] - 139s 9ms/step - loss: 0.3100 - rmse: 0.5545 - val_loss: 0.3573 - val_rmse: 0.5950\n",
            "\n",
            "Epoch 00034: val_rmse improved from 0.59787 to 0.59503, saving model to /content/drive/MyDrive/model_ann.h5\n",
            "Epoch 35/90\n",
            "14807/14807 [==============================] - 140s 9ms/step - loss: 0.3050 - rmse: 0.5500 - val_loss: 0.3527 - val_rmse: 0.5912\n",
            "\n",
            "Epoch 00035: val_rmse improved from 0.59503 to 0.59123, saving model to /content/drive/MyDrive/model_ann.h5\n",
            "Epoch 36/90\n",
            "14807/14807 [==============================] - 139s 9ms/step - loss: 0.3015 - rmse: 0.5468 - val_loss: 0.3538 - val_rmse: 0.5921\n",
            "\n",
            "Epoch 00036: val_rmse did not improve from 0.59123\n",
            "Epoch 37/90\n",
            "14807/14807 [==============================] - 137s 9ms/step - loss: 0.2982 - rmse: 0.5438 - val_loss: 0.3491 - val_rmse: 0.5881\n",
            "\n",
            "Epoch 00037: val_rmse improved from 0.59123 to 0.58811, saving model to /content/drive/MyDrive/model_ann.h5\n",
            "Epoch 38/90\n",
            "14807/14807 [==============================] - 135s 9ms/step - loss: 0.2951 - rmse: 0.5409 - val_loss: 0.3475 - val_rmse: 0.5869\n",
            "\n",
            "Epoch 00038: val_rmse improved from 0.58811 to 0.58689, saving model to /content/drive/MyDrive/model_ann.h5\n",
            "Epoch 39/90\n",
            "14807/14807 [==============================] - 136s 9ms/step - loss: 0.2914 - rmse: 0.5375 - val_loss: 0.3484 - val_rmse: 0.5877\n",
            "\n",
            "Epoch 00039: val_rmse did not improve from 0.58689\n",
            "Epoch 40/90\n",
            "14807/14807 [==============================] - 136s 9ms/step - loss: 0.2881 - rmse: 0.5345 - val_loss: 0.3416 - val_rmse: 0.5817\n",
            "\n",
            "Epoch 00040: val_rmse improved from 0.58689 to 0.58172, saving model to /content/drive/MyDrive/model_ann.h5\n",
            "Epoch 41/90\n",
            "14807/14807 [==============================] - 136s 9ms/step - loss: 0.2857 - rmse: 0.5322 - val_loss: 0.3458 - val_rmse: 0.5853\n",
            "\n",
            "Epoch 00041: val_rmse did not improve from 0.58172\n",
            "Epoch 42/90\n",
            "14807/14807 [==============================] - 134s 9ms/step - loss: 0.2822 - rmse: 0.5289 - val_loss: 0.3425 - val_rmse: 0.5825\n",
            "\n",
            "Epoch 00042: val_rmse did not improve from 0.58172\n",
            "Epoch 43/90\n",
            "14807/14807 [==============================] - 135s 9ms/step - loss: 0.2801 - rmse: 0.5270 - val_loss: 0.3407 - val_rmse: 0.5810\n",
            "\n",
            "Epoch 00043: val_rmse improved from 0.58172 to 0.58098, saving model to /content/drive/MyDrive/model_ann.h5\n",
            "Epoch 44/90\n",
            "14807/14807 [==============================] - 135s 9ms/step - loss: 0.2773 - rmse: 0.5243 - val_loss: 0.3355 - val_rmse: 0.5764\n",
            "\n",
            "Epoch 00044: val_rmse improved from 0.58098 to 0.57641, saving model to /content/drive/MyDrive/model_ann.h5\n",
            "Epoch 45/90\n",
            "14807/14807 [==============================] - 135s 9ms/step - loss: 0.2742 - rmse: 0.5213 - val_loss: 0.3326 - val_rmse: 0.5740\n",
            "\n",
            "Epoch 00045: val_rmse improved from 0.57641 to 0.57397, saving model to /content/drive/MyDrive/model_ann.h5\n",
            "Epoch 46/90\n",
            "14807/14807 [==============================] - 135s 9ms/step - loss: 0.2711 - rmse: 0.5184 - val_loss: 0.3357 - val_rmse: 0.5766\n",
            "\n",
            "Epoch 00046: val_rmse did not improve from 0.57397\n",
            "Epoch 47/90\n",
            "14807/14807 [==============================] - 135s 9ms/step - loss: 0.2692 - rmse: 0.5166 - val_loss: 0.3313 - val_rmse: 0.5728\n",
            "\n",
            "Epoch 00047: val_rmse improved from 0.57397 to 0.57281, saving model to /content/drive/MyDrive/model_ann.h5\n",
            "Epoch 48/90\n",
            "14807/14807 [==============================] - 136s 9ms/step - loss: 0.2671 - rmse: 0.5145 - val_loss: 0.3342 - val_rmse: 0.5752\n",
            "\n",
            "Epoch 00048: val_rmse did not improve from 0.57281\n",
            "Epoch 49/90\n",
            "14807/14807 [==============================] - 145s 10ms/step - loss: 0.2647 - rmse: 0.5123 - val_loss: 0.3305 - val_rmse: 0.5722\n",
            "\n",
            "Epoch 00049: val_rmse improved from 0.57281 to 0.57223, saving model to /content/drive/MyDrive/model_ann.h5\n",
            "Epoch 50/90\n",
            "14807/14807 [==============================] - 148s 10ms/step - loss: 0.2625 - rmse: 0.5101 - val_loss: 0.3353 - val_rmse: 0.5762\n",
            "\n",
            "Epoch 00050: val_rmse did not improve from 0.57223\n",
            "Epoch 51/90\n",
            "14807/14807 [==============================] - 142s 10ms/step - loss: 0.2592 - rmse: 0.5069 - val_loss: 0.3252 - val_rmse: 0.5675\n",
            "\n",
            "Epoch 00051: val_rmse improved from 0.57223 to 0.56748, saving model to /content/drive/MyDrive/model_ann.h5\n",
            "Epoch 52/90\n",
            "14807/14807 [==============================] - 142s 10ms/step - loss: 0.2580 - rmse: 0.5057 - val_loss: 0.3268 - val_rmse: 0.5688\n",
            "\n",
            "Epoch 00052: val_rmse did not improve from 0.56748\n",
            "Epoch 53/90\n",
            "14807/14807 [==============================] - 147s 10ms/step - loss: 0.2554 - rmse: 0.5031 - val_loss: 0.3240 - val_rmse: 0.5664\n",
            "\n",
            "Epoch 00053: val_rmse improved from 0.56748 to 0.56635, saving model to /content/drive/MyDrive/model_ann.h5\n",
            "Epoch 54/90\n",
            "14807/14807 [==============================] - 147s 10ms/step - loss: 0.2530 - rmse: 0.5008 - val_loss: 0.3282 - val_rmse: 0.5700\n",
            "\n",
            "Epoch 00054: val_rmse did not improve from 0.56635\n",
            "Epoch 55/90\n",
            "14807/14807 [==============================] - 144s 10ms/step - loss: 0.2519 - rmse: 0.4997 - val_loss: 0.3245 - val_rmse: 0.5668\n",
            "\n",
            "Epoch 00055: val_rmse did not improve from 0.56635\n",
            "Epoch 56/90\n",
            "14807/14807 [==============================] - 143s 10ms/step - loss: 0.2499 - rmse: 0.4976 - val_loss: 0.3253 - val_rmse: 0.5676\n",
            "\n",
            "Epoch 00056: val_rmse did not improve from 0.56635\n",
            "Epoch 57/90\n",
            "14807/14807 [==============================] - 143s 10ms/step - loss: 0.2480 - rmse: 0.4958 - val_loss: 0.3218 - val_rmse: 0.5645\n",
            "\n",
            "Epoch 00057: val_rmse improved from 0.56635 to 0.56446, saving model to /content/drive/MyDrive/model_ann.h5\n",
            "Epoch 58/90\n",
            "14807/14807 [==============================] - 143s 10ms/step - loss: 0.2461 - rmse: 0.4938 - val_loss: 0.3234 - val_rmse: 0.5658\n",
            "\n",
            "Epoch 00058: val_rmse did not improve from 0.56446\n",
            "Epoch 59/90\n",
            "14807/14807 [==============================] - 144s 10ms/step - loss: 0.2444 - rmse: 0.4921 - val_loss: 0.3205 - val_rmse: 0.5632\n",
            "\n",
            "Epoch 00059: val_rmse improved from 0.56446 to 0.56325, saving model to /content/drive/MyDrive/model_ann.h5\n",
            "Epoch 60/90\n",
            "14807/14807 [==============================] - 144s 10ms/step - loss: 0.2421 - rmse: 0.4897 - val_loss: 0.3186 - val_rmse: 0.5616\n",
            "\n",
            "Epoch 00060: val_rmse improved from 0.56325 to 0.56161, saving model to /content/drive/MyDrive/model_ann.h5\n",
            "Epoch 61/90\n",
            "14807/14807 [==============================] - 149s 10ms/step - loss: 0.2408 - rmse: 0.4885 - val_loss: 0.3198 - val_rmse: 0.5626\n",
            "\n",
            "Epoch 00061: val_rmse did not improve from 0.56161\n",
            "Epoch 62/90\n",
            "14807/14807 [==============================] - 148s 10ms/step - loss: 0.2393 - rmse: 0.4869 - val_loss: 0.3207 - val_rmse: 0.5635\n",
            "\n",
            "Epoch 00062: val_rmse did not improve from 0.56161\n",
            "Epoch 63/90\n",
            "14807/14807 [==============================] - 148s 10ms/step - loss: 0.2376 - rmse: 0.4852 - val_loss: 0.3172 - val_rmse: 0.5602\n",
            "\n",
            "Epoch 00063: val_rmse improved from 0.56161 to 0.56022, saving model to /content/drive/MyDrive/model_ann.h5\n",
            "Epoch 64/90\n",
            "14807/14807 [==============================] - 150s 10ms/step - loss: 0.2359 - rmse: 0.4835 - val_loss: 0.3174 - val_rmse: 0.5606\n",
            "\n",
            "Epoch 00064: val_rmse did not improve from 0.56022\n",
            "Epoch 65/90\n",
            "14807/14807 [==============================] - 149s 10ms/step - loss: 0.2344 - rmse: 0.4820 - val_loss: 0.3164 - val_rmse: 0.5596\n",
            "\n",
            "Epoch 00065: val_rmse improved from 0.56022 to 0.55958, saving model to /content/drive/MyDrive/model_ann.h5\n",
            "Epoch 66/90\n",
            "14807/14807 [==============================] - 156s 11ms/step - loss: 0.2327 - rmse: 0.4803 - val_loss: 0.3168 - val_rmse: 0.5598\n",
            "\n",
            "Epoch 00066: val_rmse did not improve from 0.55958\n",
            "Epoch 67/90\n",
            "14807/14807 [==============================] - 155s 10ms/step - loss: 0.2311 - rmse: 0.4785 - val_loss: 0.3166 - val_rmse: 0.5597\n",
            "\n",
            "Epoch 00067: val_rmse did not improve from 0.55958\n",
            "Epoch 68/90\n",
            "14807/14807 [==============================] - 150s 10ms/step - loss: 0.2299 - rmse: 0.4773 - val_loss: 0.3173 - val_rmse: 0.5604\n",
            "\n",
            "Epoch 00068: val_rmse did not improve from 0.55958\n",
            "Epoch 69/90\n",
            "14807/14807 [==============================] - 149s 10ms/step - loss: 0.2285 - rmse: 0.4759 - val_loss: 0.3154 - val_rmse: 0.5586\n",
            "\n",
            "Epoch 00069: val_rmse improved from 0.55958 to 0.55865, saving model to /content/drive/MyDrive/model_ann.h5\n",
            "Epoch 70/90\n",
            "14807/14807 [==============================] - 145s 10ms/step - loss: 0.2264 - rmse: 0.4736 - val_loss: 0.3147 - val_rmse: 0.5581\n",
            "\n",
            "Epoch 00070: val_rmse improved from 0.55865 to 0.55809, saving model to /content/drive/MyDrive/model_ann.h5\n",
            "Epoch 71/90\n",
            "14807/14807 [==============================] - 145s 10ms/step - loss: 0.2251 - rmse: 0.4723 - val_loss: 0.3123 - val_rmse: 0.5559\n",
            "\n",
            "Epoch 00071: val_rmse improved from 0.55809 to 0.55594, saving model to /content/drive/MyDrive/model_ann.h5\n",
            "Epoch 72/90\n",
            "14807/14807 [==============================] - 144s 10ms/step - loss: 0.2244 - rmse: 0.4715 - val_loss: 0.3138 - val_rmse: 0.5572\n",
            "\n",
            "Epoch 00072: val_rmse did not improve from 0.55594\n",
            "Epoch 73/90\n",
            "14807/14807 [==============================] - 145s 10ms/step - loss: 0.2226 - rmse: 0.4697 - val_loss: 0.3099 - val_rmse: 0.5538\n",
            "\n",
            "Epoch 00073: val_rmse improved from 0.55594 to 0.55378, saving model to /content/drive/MyDrive/model_ann.h5\n",
            "Epoch 74/90\n",
            "14807/14807 [==============================] - 148s 10ms/step - loss: 0.2214 - rmse: 0.4683 - val_loss: 0.3122 - val_rmse: 0.5558\n",
            "\n",
            "Epoch 00074: val_rmse did not improve from 0.55378\n",
            "Epoch 75/90\n",
            "14807/14807 [==============================] - 147s 10ms/step - loss: 0.2203 - rmse: 0.4672 - val_loss: 0.3141 - val_rmse: 0.5575\n",
            "\n",
            "Epoch 00075: val_rmse did not improve from 0.55378\n",
            "Epoch 76/90\n",
            "14807/14807 [==============================] - 147s 10ms/step - loss: 0.2195 - rmse: 0.4664 - val_loss: 0.3111 - val_rmse: 0.5548\n",
            "\n",
            "Epoch 00076: val_rmse did not improve from 0.55378\n",
            "Epoch 77/90\n",
            "14807/14807 [==============================] - 145s 10ms/step - loss: 0.2176 - rmse: 0.4643 - val_loss: 0.3110 - val_rmse: 0.5548\n",
            "\n",
            "Epoch 00077: val_rmse did not improve from 0.55378\n",
            "Epoch 78/90\n",
            "14807/14807 [==============================] - 147s 10ms/step - loss: 0.2166 - rmse: 0.4633 - val_loss: 0.3104 - val_rmse: 0.5541\n",
            "\n",
            "Epoch 00078: val_rmse did not improve from 0.55378\n"
          ],
          "name": "stdout"
        }
      ]
    },
    {
      "cell_type": "code",
      "metadata": {
        "id": "Ff1oW0o6peHE",
        "colab": {
          "base_uri": "https://localhost:8080/",
          "height": 346
        },
        "outputId": "fa6d56ec-2bf3-47e8-f8c9-0f1cbe6df9e5"
      },
      "source": [
        "fig, (ax1, ax2) = plt.subplots(1, 2 , figsize = (20,7))\n",
        "\n",
        "ax1.plot(history.history['rmse'])\n",
        "ax1.plot(history.history['val_rmse'])\n",
        "ax1.set_title('RMSE')\n",
        "ax1.set_ylabel('RMSE')\n",
        "ax1.set_xlabel('epoch')\n",
        "ax1.legend(['train', 'valid'], loc='upper right')\n",
        "\n",
        "ax2.plot(history.history['loss'])\n",
        "ax2.plot(history.history['val_loss'])\n",
        "ax2.set_title('MSE')\n",
        "ax2.set_ylabel('loss')\n",
        "ax2.set_xlabel('epoch')\n",
        "ax2.legend(['train', 'valid'], loc='upper right')\n",
        "\n",
        "plt.show()"
      ],
      "execution_count": 20,
      "outputs": [
        {
          "output_type": "display_data",
          "data": {
            "image/png": "[encoded data removed]",
            "text/plain": [
              "<Figure size 1440x504 with 2 Axes>"
            ]
          },
          "metadata": {
            "tags": []
          }
        }
      ]
    },
    {
      "cell_type": "code",
      "metadata": {
        "id": "fgkq6z3uZfN9"
      },
      "source": [
        ""
      ],
      "execution_count": 20,
      "outputs": []
    }
  ]
}