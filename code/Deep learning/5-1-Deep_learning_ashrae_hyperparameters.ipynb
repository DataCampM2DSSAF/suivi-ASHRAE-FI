{
  "nbformat": 4,
  "nbformat_minor": 0,
  "metadata": {
    "colab": {
      "name": "5-1-Deep_learning_ashrae_hyperparameters.ipynb",
      "provenance": [],
      "collapsed_sections": []
    },
    "kernelspec": {
      "name": "python3",
      "display_name": "Python 3"
    },
    "accelerator": "GPU"
  },
  "cells": [
    {
      "cell_type": "code",
      "metadata": {
        "colab": {
          "base_uri": "https://localhost:8080/"
        },
        "id": "vdJLq0Ih7_cM",
        "outputId": "1a98f29b-1054-4058-e52b-c8e5d95ee83c"
      },
      "source": [
        "!pip install meteocalc"
      ],
      "execution_count": 1,
      "outputs": [
        {
          "output_type": "stream",
          "text": [
            "Requirement already satisfied: meteocalc in /usr/local/lib/python3.7/dist-packages (1.1.0)\n"
          ],
          "name": "stdout"
        }
      ]
    },
    {
      "cell_type": "code",
      "metadata": {
        "id": "urKdT5nkWxaQ",
        "colab": {
          "base_uri": "https://localhost:8080/"
        },
        "outputId": "6853cee2-a3fb-41c4-835e-77477c86c617"
      },
      "source": [
        "#from google.colab import drive\n",
        "#drive.mount('/content/drive')\n",
        "#!cp /content/drive/MyDrive/ashrae.zip ashrae.zip\n",
        "#!unzip -q ashrae.zip"
      ],
      "execution_count": 2,
      "outputs": [
        {
          "output_type": "stream",
          "text": [
            "Drive already mounted at /content/drive; to attempt to forcibly remount, call drive.mount(\"/content/drive\", force_remount=True).\n"
          ],
          "name": "stdout"
        }
      ]
    },
    {
      "cell_type": "code",
      "metadata": {
        "colab": {
          "base_uri": "https://localhost:8080/",
          "height": 17
        },
        "id": "i2zx2E54W2eA",
        "outputId": "0992362c-e5d1-4bfa-83a8-2b53e36b8a85"
      },
      "source": [
        "import warnings\n",
        "warnings.simplefilter(action='ignore', category=FutureWarning)\n",
        "\n",
        "import gc\n",
        "import pandas as pd\n",
        "import numpy as np\n",
        "import matplotlib.pyplot as plt\n",
        "import seaborn as sns\n",
        "import plotly.graph_objects as go\n",
        "import plotly.figure_factory as ff\n",
        "\n",
        "from IPython.core.pylabtools import figsize\n",
        "from plotly.offline import init_notebook_mode,iplot,plot\n",
        "%matplotlib inline\n",
        "init_notebook_mode(connected=True)\n",
        "plt.style.use(\"ggplot\")\n",
        "from sklearn.utils import shuffle\n",
        "\n",
        "from sklearn.preprocessing import  LabelEncoder, StandardScaler\n",
        "from sklearn.model_selection import train_test_split\n",
        "\n",
        "from keras.models import load_model\n",
        "from keras.models import Model \n",
        "from keras.layers import Input, Dense, Lambda\n",
        "from keras.layers import Embedding, Flatten, Dropout, Add, Activation\n",
        "from keras.optimizers import Adam \n",
        "from keras.callbacks import ModelCheckpoint,EarlyStopping\n",
        "import keras.backend as K\n",
        "\n",
        "# importer les fichiers .py sur le notebook\n",
        "%run utils.py\n",
        "%run feature_enginering.py"
      ],
      "execution_count": 3,
      "outputs": [
        {
          "output_type": "display_data",
          "data": {
            "text/html": [
              "        <script type=\"text/javascript\">\n",
              "        window.PlotlyConfig = {MathJaxConfig: 'local'};\n",
              "        if (window.MathJax) {MathJax.Hub.Config({SVG: {font: \"STIX-Web\"}});}\n",
              "        if (typeof require !== 'undefined') {\n",
              "        require.undef(\"plotly\");\n",
              "        requirejs.config({\n",
              "            paths: {\n",
              "                'plotly': ['https://cdn.plot.ly/plotly-latest.min']\n",
              "            }\n",
              "        });\n",
              "        require(['plotly'], function(Plotly) {\n",
              "            window._Plotly = Plotly;\n",
              "        });\n",
              "        }\n",
              "        </script>\n",
              "        "
            ]
          },
          "metadata": {
            "tags": []
          }
        }
      ]
    },
    {
      "cell_type": "code",
      "metadata": {
        "id": "XP1Ms_WdW8VR"
      },
      "source": [
        "building = pd.read_csv('/content/building_metadata.csv')\n",
        "weather = pd.read_csv('/content/weather_train.csv')\n",
        "train = pd.read_csv('/content/train.csv')\n",
        "\n",
        "train.loc[(train.meter == 0),'meter_reading'] = train['meter_reading'] * 0.2931 # convertir du kwh vers kbtu"
      ],
      "execution_count": 4,
      "outputs": []
    },
    {
      "cell_type": "code",
      "metadata": {
        "id": "Jc7z3jkrB5ex"
      },
      "source": [
        "building = reduce_mem_usage(building)\n",
        "weather  = reduce_mem_usage(weather)\n",
        "train = reduce_mem_usage(train)"
      ],
      "execution_count": 5,
      "outputs": []
    },
    {
      "cell_type": "code",
      "metadata": {
        "id": "KwbcY8FGCA6Z"
      },
      "source": [
        "building = prepare_building_data(building)\n",
        "weather = prepare_weather_data(weather)\n",
        "train  = time_features(train)"
      ],
      "execution_count": 6,
      "outputs": []
    },
    {
      "cell_type": "code",
      "metadata": {
        "id": "4sAM2Cv1uFKC"
      },
      "source": [
        "def join_data(data , weather_data , building_data):\n",
        "\n",
        "    data = data.merge(building_data, on = 'building_id' , how='left')\n",
        "    data = data.merge(weather_data , on = ['site_id','timestamp'], how= 'left')\n",
        "    data = shuffle(data, random_state=0)\n",
        "\n",
        "    return data"
      ],
      "execution_count": 7,
      "outputs": []
    },
    {
      "cell_type": "code",
      "metadata": {
        "id": "On0jd7ppXFUg",
        "colab": {
          "base_uri": "https://localhost:8080/"
        },
        "outputId": "80dc45d9-8685-447b-cc3f-2e2531a36f85"
      },
      "source": [
        "train = join_data(train , weather , building)\n",
        "\n",
        "train['log_meter_reading'] = np.log(train['meter_reading'] + 1)\n",
        "train['month_group'] = train['month_group'] - 1\n",
        "\n",
        "train = train.drop(['meter_reading'] , axis= 1)\n",
        "\n",
        "train  = reduce_mem_usage(train)\n",
        "del weather, building\n",
        "gc.collect()"
      ],
      "execution_count": 8,
      "outputs": [
        {
          "output_type": "execute_result",
          "data": {
            "text/plain": [
              "26"
            ]
          },
          "metadata": {
            "tags": []
          },
          "execution_count": 8
        }
      ]
    },
    {
      "cell_type": "code",
      "metadata": {
        "id": "HQOjAEbl-pqc",
        "colab": {
          "base_uri": "https://localhost:8080/"
        },
        "outputId": "ded4b169-3b7d-49ac-9156-f69eaf74c323"
      },
      "source": [
        "print(len(train.columns))\n",
        "print(train.columns)\n",
        "print(train.shape)"
      ],
      "execution_count": 9,
      "outputs": [
        {
          "output_type": "stream",
          "text": [
            "24\n",
            "Index(['building_id', 'meter', 'timestamp', 'hour', 'dayofweek', 'month_group',\n",
            "       'site_id', 'primary_use', 'square_feet', 'year_built', 'floor_count',\n",
            "       'air_temperature', 'cloud_coverage', 'dew_temperature',\n",
            "       'precip_depth_1_hr', 'sea_level_pressure', 'wind_direction',\n",
            "       'wind_speed', 'relative_humidity', 'feels_like', 'city', 'country',\n",
            "       'is_holiday', 'log_meter_reading'],\n",
            "      dtype='object')\n",
            "(20216100, 24)\n"
          ],
          "name": "stdout"
        }
      ]
    },
    {
      "cell_type": "code",
      "metadata": {
        "colab": {
          "base_uri": "https://localhost:8080/"
        },
        "id": "Q0LfiAYztqY_",
        "outputId": "ab38218a-080f-4983-ae79-1efbff606a5d"
      },
      "source": [
        "for col in train.columns:\n",
        "  if train[col].isnull().values.any():\n",
        "    print(col , 'il y a', train[col].isnull().values.sum() , ' Nan ')"
      ],
      "execution_count": 10,
      "outputs": [
        {
          "output_type": "stream",
          "text": [
            "air_temperature il y a 90495  Nan \n",
            "cloud_coverage il y a 90495  Nan \n",
            "dew_temperature il y a 90495  Nan \n",
            "precip_depth_1_hr il y a 90495  Nan \n",
            "sea_level_pressure il y a 90495  Nan \n",
            "wind_direction il y a 90495  Nan \n",
            "wind_speed il y a 90495  Nan \n",
            "relative_humidity il y a 90495  Nan \n",
            "feels_like il y a 90495  Nan \n",
            "city il y a 90495  Nan \n",
            "country il y a 90495  Nan \n",
            "is_holiday il y a 90495  Nan \n"
          ],
          "name": "stdout"
        }
      ]
    },
    {
      "cell_type": "code",
      "metadata": {
        "id": "Sy29N7vCYVft"
      },
      "source": [
        "cols_to_drop = ['year_built' , 'floor_count' , 'timestamp']\n",
        "\n",
        "cols_to_scale = ['square_feet' , 'air_temperature' , 'dew_temperature' ,\n",
        "                 'wind_speed', 'cloud_coverage', 'sea_level_pressure', 'wind_direction',\n",
        "                 'relative_humidity', 'feels_like']\n",
        "\n",
        "cols_to_encode = ['primary_use' , 'city' , 'country']\n",
        "\n",
        "cols_to_fill_median = ['air_temperature', 'cloud_coverage', 'dew_temperature', 'precip_depth_1_hr',\n",
        "                       'sea_level_pressure','wind_direction' , 'wind_speed', 'relative_humidity' ,\n",
        "                       'feels_like']\n",
        "\n",
        "cols_to_fill_categ = ['city' , 'country' , 'is_holiday']\n",
        "\n",
        "\n",
        "Filler = Data_Filler(cols_to_fill_median,\n",
        "                     cols_to_fill_categ)\n",
        "\n",
        "Filler.fit(train)\n",
        "train = Filler.transform(train)\n",
        "\n",
        "ScalerEncoder = Data_Scaler_Encoder(cols_to_scale ,\n",
        "                                    cols_to_drop , \n",
        "                                    cols_to_encode)\n",
        "ScalerEncoder.fit(train)\n",
        "train = ScalerEncoder.transform(train)"
      ],
      "execution_count": 11,
      "outputs": []
    },
    {
      "cell_type": "code",
      "metadata": {
        "id": "enPoSsTcvkMA"
      },
      "source": [
        "def residual_block(input_x, nodes):\n",
        "    d1 = Dense(nodes,activation='relu')(input_x)\n",
        "    d2 = Dense(nodes,activation='relu')(d1)\n",
        "\n",
        "    projected_x = Dense(nodes,activation='relu')(input_x)\n",
        "\n",
        "    add = Add()([projected_x , d2])\n",
        "    return add\n",
        "\n",
        "def create_model(data , categorical_vars , numerical_vars):\n",
        "    categ_inputs = []\n",
        "    embed_layers = []  \n",
        "    for col in categorical_vars:\n",
        "        num_classes = len(np.unique(data[col]))\n",
        "\n",
        "        input_x = Input(shape = [1] , name = col)\n",
        "        categ_inputs.append(input_x)\n",
        "\n",
        "        embed_x = Embedding(num_classes, 2)(input_x)\n",
        "        embed_layers.append(embed_x)\n",
        "\n",
        "    num_inputs = []\n",
        "    for col in numerical_vars:\n",
        "        num_inputs.append(Input(shape=[1] , name = col))\n",
        "\n",
        "    concat_emb = K.concatenate([Flatten()(emb_layer) for emb_layer in embed_layers])\n",
        "\n",
        "    d1 = residual_block(concat_emb , 1024) # 512\n",
        "    #d1 = residual_block(d1 , 256)\n",
        "    main = K.concatenate(num_inputs + [d1])\n",
        "\n",
        "    d2 = residual_block(main , 1024) # 512\n",
        "    d2 = residual_block(d2 , 256)\n",
        "    #d2 = residual_block(d2 , 256)\n",
        "    d2 = residual_block(d2 , 8)\n",
        "\n",
        "    df = Dense(3 , name='second_to_last_layer')(d2)\n",
        "\n",
        "    output = Dense(1)(df)\n",
        "    model  = Model(categ_inputs + num_inputs, output)\n",
        "\n",
        "    return model \n",
        "\n",
        "def rmse(y_true, y_pred):\n",
        "    \"\"\" root_mean_squared_error \"\"\"\n",
        "    return K.sqrt(K.mean(K.square(y_pred - y_true)))"
      ],
      "execution_count": 12,
      "outputs": []
    },
    {
      "cell_type": "code",
      "metadata": {
        "id": "3tAXlGeOBEIG",
        "colab": {
          "base_uri": "https://localhost:8080/",
          "height": 217
        },
        "outputId": "b56b5c19-f9b1-440d-d466-4ea140bf58d7"
      },
      "source": [
        "train.head()"
      ],
      "execution_count": 13,
      "outputs": [
        {
          "output_type": "execute_result",
          "data": {
            "text/html": [
              "<div>\n",
              "<style scoped>\n",
              "    .dataframe tbody tr th:only-of-type {\n",
              "        vertical-align: middle;\n",
              "    }\n",
              "\n",
              "    .dataframe tbody tr th {\n",
              "        vertical-align: top;\n",
              "    }\n",
              "\n",
              "    .dataframe thead th {\n",
              "        text-align: right;\n",
              "    }\n",
              "</style>\n",
              "<table border=\"1\" class=\"dataframe\">\n",
              "  <thead>\n",
              "    <tr style=\"text-align: right;\">\n",
              "      <th></th>\n",
              "      <th>building_id</th>\n",
              "      <th>meter</th>\n",
              "      <th>hour</th>\n",
              "      <th>dayofweek</th>\n",
              "      <th>month_group</th>\n",
              "      <th>site_id</th>\n",
              "      <th>primary_use</th>\n",
              "      <th>square_feet</th>\n",
              "      <th>air_temperature</th>\n",
              "      <th>cloud_coverage</th>\n",
              "      <th>dew_temperature</th>\n",
              "      <th>precip_depth_1_hr</th>\n",
              "      <th>sea_level_pressure</th>\n",
              "      <th>wind_direction</th>\n",
              "      <th>wind_speed</th>\n",
              "      <th>relative_humidity</th>\n",
              "      <th>feels_like</th>\n",
              "      <th>city</th>\n",
              "      <th>country</th>\n",
              "      <th>is_holiday</th>\n",
              "      <th>log_meter_reading</th>\n",
              "    </tr>\n",
              "  </thead>\n",
              "  <tbody>\n",
              "    <tr>\n",
              "      <th>11990877</th>\n",
              "      <td>774</td>\n",
              "      <td>1</td>\n",
              "      <td>8</td>\n",
              "      <td>6</td>\n",
              "      <td>2</td>\n",
              "      <td>6</td>\n",
              "      <td>4</td>\n",
              "      <td>-0.121928</td>\n",
              "      <td>0.622309</td>\n",
              "      <td>-0.493968</td>\n",
              "      <td>1.335863</td>\n",
              "      <td>0.000000</td>\n",
              "      <td>0.971994</td>\n",
              "      <td>-1.508241</td>\n",
              "      <td>-1.586555</td>\n",
              "      <td>1.220804</td>\n",
              "      <td>0.625725</td>\n",
              "      <td>12</td>\n",
              "      <td>3</td>\n",
              "      <td>0.0</td>\n",
              "      <td>3.614396</td>\n",
              "    </tr>\n",
              "    <tr>\n",
              "      <th>15256244</th>\n",
              "      <td>206</td>\n",
              "      <td>0</td>\n",
              "      <td>14</td>\n",
              "      <td>1</td>\n",
              "      <td>2</td>\n",
              "      <td>2</td>\n",
              "      <td>9</td>\n",
              "      <td>2.032176</td>\n",
              "      <td>-0.004326</td>\n",
              "      <td>-0.902715</td>\n",
              "      <td>-0.443634</td>\n",
              "      <td>0.000000</td>\n",
              "      <td>0.950487</td>\n",
              "      <td>-0.693963</td>\n",
              "      <td>-0.905198</td>\n",
              "      <td>-0.907559</td>\n",
              "      <td>0.046760</td>\n",
              "      <td>11</td>\n",
              "      <td>3</td>\n",
              "      <td>0.0</td>\n",
              "      <td>4.209454</td>\n",
              "    </tr>\n",
              "    <tr>\n",
              "      <th>18401495</th>\n",
              "      <td>1269</td>\n",
              "      <td>0</td>\n",
              "      <td>10</td>\n",
              "      <td>1</td>\n",
              "      <td>2</td>\n",
              "      <td>14</td>\n",
              "      <td>3</td>\n",
              "      <td>-0.438739</td>\n",
              "      <td>-0.733841</td>\n",
              "      <td>-0.902715</td>\n",
              "      <td>-0.273682</td>\n",
              "      <td>0.000000</td>\n",
              "      <td>1.015009</td>\n",
              "      <td>-0.603487</td>\n",
              "      <td>-0.405537</td>\n",
              "      <td>0.755967</td>\n",
              "      <td>-0.627258</td>\n",
              "      <td>7</td>\n",
              "      <td>3</td>\n",
              "      <td>0.0</td>\n",
              "      <td>2.241073</td>\n",
              "    </tr>\n",
              "    <tr>\n",
              "      <th>15573710</th>\n",
              "      <td>951</td>\n",
              "      <td>0</td>\n",
              "      <td>4</td>\n",
              "      <td>0</td>\n",
              "      <td>2</td>\n",
              "      <td>9</td>\n",
              "      <td>6</td>\n",
              "      <td>-0.032943</td>\n",
              "      <td>0.098554</td>\n",
              "      <td>-0.902715</td>\n",
              "      <td>-0.213699</td>\n",
              "      <td>0.000000</td>\n",
              "      <td>1.066786</td>\n",
              "      <td>-1.508241</td>\n",
              "      <td>-1.586555</td>\n",
              "      <td>-0.727844</td>\n",
              "      <td>0.141815</td>\n",
              "      <td>0</td>\n",
              "      <td>3</td>\n",
              "      <td>1.0</td>\n",
              "      <td>3.529892</td>\n",
              "    </tr>\n",
              "    <tr>\n",
              "      <th>6515439</th>\n",
              "      <td>656</td>\n",
              "      <td>0</td>\n",
              "      <td>21</td>\n",
              "      <td>6</td>\n",
              "      <td>1</td>\n",
              "      <td>5</td>\n",
              "      <td>7</td>\n",
              "      <td>-0.870854</td>\n",
              "      <td>-0.481317</td>\n",
              "      <td>-0.902715</td>\n",
              "      <td>0.226177</td>\n",
              "      <td>-0.041667</td>\n",
              "      <td>0.990017</td>\n",
              "      <td>1.206021</td>\n",
              "      <td>-0.405537</td>\n",
              "      <td>1.372431</td>\n",
              "      <td>-0.393944</td>\n",
              "      <td>10</td>\n",
              "      <td>2</td>\n",
              "      <td>0.0</td>\n",
              "      <td>2.359378</td>\n",
              "    </tr>\n",
              "  </tbody>\n",
              "</table>\n",
              "</div>"
            ],
            "text/plain": [
              "          building_id  meter  hour  ...  country  is_holiday  log_meter_reading\n",
              "11990877          774      1     8  ...        3         0.0           3.614396\n",
              "15256244          206      0    14  ...        3         0.0           4.209454\n",
              "18401495         1269      0    10  ...        3         0.0           2.241073\n",
              "15573710          951      0     4  ...        3         1.0           3.529892\n",
              "6515439           656      0    21  ...        2         0.0           2.359378\n",
              "\n",
              "[5 rows x 21 columns]"
            ]
          },
          "metadata": {
            "tags": []
          },
          "execution_count": 13
        }
      ]
    },
    {
      "cell_type": "code",
      "metadata": {
        "id": "-OkyaC4140Nh"
      },
      "source": [
        "categorical_vars = ['building_id' , 'meter', 'hour', 'dayofweek' , 'month_group', 'site_id' , \n",
        "                    'primary_use', 'city', 'country', 'is_holiday']\n",
        "                    \n",
        "numerical_vars = ['square_feet', 'air_temperature', 'cloud_coverage', 'dew_temperature',\n",
        "                  'precip_depth_1_hr', 'sea_level_pressure', 'wind_direction', 'wind_speed', \n",
        "                  'relative_humidity' , 'feels_like']\n",
        "\n",
        "target_var = 'log_meter_reading'\n",
        "\n",
        "model = create_model(train, categorical_vars, numerical_vars)"
      ],
      "execution_count": 14,
      "outputs": []
    },
    {
      "cell_type": "code",
      "metadata": {
        "id": "FcwHeSZxMIFj"
      },
      "source": [
        "y = train[target_var].values\n",
        "y = y.reshape((len(y) , 1))\n",
        "\n",
        "train = train.drop( [target_var] , axis = 1)\n",
        "\n",
        "co_vars = categorical_vars + numerical_vars\n",
        "train = train[co_vars].values\n",
        "\n",
        "train = [ train[:,i].flatten() for i in range(len(train[0,:])) ]"
      ],
      "execution_count": 15,
      "outputs": []
    },
    {
      "cell_type": "code",
      "metadata": {
        "id": "M_SVDntbrxK6",
        "colab": {
          "base_uri": "https://localhost:8080/"
        },
        "outputId": "73528a67-d51c-4d66-ac08-3db2e2d2889e"
      },
      "source": [
        "checkpoint = ModelCheckpoint( '/content/drive/MyDrive/model_ann_test.h5', \n",
        "                                monitor = 'val_rmse', \n",
        "                                verbose = 1, \n",
        "                                save_best_only = True, \n",
        "                                mode = 'min')\n",
        "\n",
        "early_stopping = EarlyStopping(patience = 5 ,monitor = \"val_rmse\")\n",
        "callbacks_list = [checkpoint , early_stopping]\n",
        "\n",
        "model.compile(optimizer = Adam(lr = 1e-3), loss = 'mse',  metrics = [rmse])\n",
        "history = model.fit(train, y, \n",
        "                    epochs = 150,\n",
        "                    batch_size = 1024, \n",
        "                    callbacks = callbacks_list, \n",
        "                    validation_split = 0.20)"
      ],
      "execution_count": 16,
      "outputs": [
        {
          "output_type": "stream",
          "text": [
            "Epoch 1/150\n",
            "15794/15794 [==============================] - 231s 14ms/step - loss: 1.0163 - rmse: 0.9626 - val_loss: 0.5517 - val_rmse: 0.7404\n",
            "\n",
            "Epoch 00001: val_rmse improved from inf to 0.74041, saving model to /content/drive/MyDrive/model_ann_test.h5\n",
            "Epoch 2/150\n",
            "15794/15794 [==============================] - 228s 14ms/step - loss: 0.5240 - rmse: 0.7214 - val_loss: 0.4699 - val_rmse: 0.6830\n",
            "\n",
            "Epoch 00002: val_rmse improved from 0.74041 to 0.68296, saving model to /content/drive/MyDrive/model_ann_test.h5\n",
            "Epoch 3/150\n",
            "15794/15794 [==============================] - 226s 14ms/step - loss: 0.4509 - rmse: 0.6690 - val_loss: 0.4318 - val_rmse: 0.6547\n",
            "\n",
            "Epoch 00003: val_rmse improved from 0.68296 to 0.65466, saving model to /content/drive/MyDrive/model_ann_test.h5\n",
            "Epoch 4/150\n",
            "15794/15794 [==============================] - 225s 14ms/step - loss: 0.4113 - rmse: 0.6388 - val_loss: 0.4063 - val_rmse: 0.6347\n",
            "\n",
            "Epoch 00004: val_rmse improved from 0.65466 to 0.63471, saving model to /content/drive/MyDrive/model_ann_test.h5\n",
            "Epoch 5/150\n",
            "15794/15794 [==============================] - 225s 14ms/step - loss: 0.3836 - rmse: 0.6168 - val_loss: 0.3875 - val_rmse: 0.6198\n",
            "\n",
            "Epoch 00005: val_rmse improved from 0.63471 to 0.61983, saving model to /content/drive/MyDrive/model_ann_test.h5\n",
            "Epoch 6/150\n",
            "15794/15794 [==============================] - 224s 14ms/step - loss: 0.3622 - rmse: 0.5992 - val_loss: 0.3688 - val_rmse: 0.6046\n",
            "\n",
            "Epoch 00006: val_rmse improved from 0.61983 to 0.60459, saving model to /content/drive/MyDrive/model_ann_test.h5\n",
            "Epoch 7/150\n",
            "15794/15794 [==============================] - 224s 14ms/step - loss: 0.3444 - rmse: 0.5841 - val_loss: 0.3588 - val_rmse: 0.5962\n",
            "\n",
            "Epoch 00007: val_rmse improved from 0.60459 to 0.59620, saving model to /content/drive/MyDrive/model_ann_test.h5\n",
            "Epoch 8/150\n",
            "15794/15794 [==============================] - 225s 14ms/step - loss: 0.3299 - rmse: 0.5718 - val_loss: 0.3485 - val_rmse: 0.5876\n",
            "\n",
            "Epoch 00008: val_rmse improved from 0.59620 to 0.58758, saving model to /content/drive/MyDrive/model_ann_test.h5\n",
            "Epoch 9/150\n",
            "15794/15794 [==============================] - 226s 14ms/step - loss: 0.3160 - rmse: 0.5596 - val_loss: 0.3439 - val_rmse: 0.5835\n",
            "\n",
            "Epoch 00009: val_rmse improved from 0.58758 to 0.58347, saving model to /content/drive/MyDrive/model_ann_test.h5\n",
            "Epoch 10/150\n",
            "15794/15794 [==============================] - 225s 14ms/step - loss: 0.3061 - rmse: 0.5506 - val_loss: 0.3391 - val_rmse: 0.5794\n",
            "\n",
            "Epoch 00010: val_rmse improved from 0.58347 to 0.57943, saving model to /content/drive/MyDrive/model_ann_test.h5\n",
            "Epoch 11/150\n",
            "15794/15794 [==============================] - 225s 14ms/step - loss: 0.2964 - rmse: 0.5418 - val_loss: 0.3309 - val_rmse: 0.5722\n",
            "\n",
            "Epoch 00011: val_rmse improved from 0.57943 to 0.57220, saving model to /content/drive/MyDrive/model_ann_test.h5\n",
            "Epoch 12/150\n",
            "15794/15794 [==============================] - 225s 14ms/step - loss: 0.2873 - rmse: 0.5333 - val_loss: 0.3265 - val_rmse: 0.5685\n",
            "\n",
            "Epoch 00012: val_rmse improved from 0.57220 to 0.56851, saving model to /content/drive/MyDrive/model_ann_test.h5\n",
            "Epoch 13/150\n",
            "15794/15794 [==============================] - 226s 14ms/step - loss: 0.2805 - rmse: 0.5270 - val_loss: 0.3199 - val_rmse: 0.5626\n",
            "\n",
            "Epoch 00013: val_rmse improved from 0.56851 to 0.56261, saving model to /content/drive/MyDrive/model_ann_test.h5\n",
            "Epoch 14/150\n",
            "15794/15794 [==============================] - 225s 14ms/step - loss: 0.2721 - rmse: 0.5188 - val_loss: 0.3163 - val_rmse: 0.5593\n",
            "\n",
            "Epoch 00014: val_rmse improved from 0.56261 to 0.55934, saving model to /content/drive/MyDrive/model_ann_test.h5\n",
            "Epoch 15/150\n",
            "15794/15794 [==============================] - 225s 14ms/step - loss: 0.2659 - rmse: 0.5130 - val_loss: 0.3126 - val_rmse: 0.5560\n",
            "\n",
            "Epoch 00015: val_rmse improved from 0.55934 to 0.55605, saving model to /content/drive/MyDrive/model_ann_test.h5\n",
            "Epoch 16/150\n",
            "15794/15794 [==============================] - 225s 14ms/step - loss: 0.2599 - rmse: 0.5071 - val_loss: 0.3081 - val_rmse: 0.5520\n",
            "\n",
            "Epoch 00016: val_rmse improved from 0.55605 to 0.55204, saving model to /content/drive/MyDrive/model_ann_test.h5\n",
            "Epoch 17/150\n",
            "15794/15794 [==============================] - 225s 14ms/step - loss: 0.2548 - rmse: 0.5021 - val_loss: 0.3060 - val_rmse: 0.5500\n",
            "\n",
            "Epoch 00017: val_rmse improved from 0.55204 to 0.55004, saving model to /content/drive/MyDrive/model_ann_test.h5\n",
            "Epoch 18/150\n",
            "15794/15794 [==============================] - 225s 14ms/step - loss: 0.2495 - rmse: 0.4968 - val_loss: 0.3047 - val_rmse: 0.5489\n",
            "\n",
            "Epoch 00018: val_rmse improved from 0.55004 to 0.54892, saving model to /content/drive/MyDrive/model_ann_test.h5\n",
            "Epoch 19/150\n",
            "15794/15794 [==============================] - 224s 14ms/step - loss: 0.2446 - rmse: 0.4919 - val_loss: 0.3036 - val_rmse: 0.5480\n",
            "\n",
            "Epoch 00019: val_rmse improved from 0.54892 to 0.54799, saving model to /content/drive/MyDrive/model_ann_test.h5\n",
            "Epoch 20/150\n",
            "15794/15794 [==============================] - 224s 14ms/step - loss: 0.2407 - rmse: 0.4879 - val_loss: 0.3003 - val_rmse: 0.5449\n",
            "\n",
            "Epoch 00020: val_rmse improved from 0.54799 to 0.54488, saving model to /content/drive/MyDrive/model_ann_test.h5\n",
            "Epoch 21/150\n",
            "15794/15794 [==============================] - 225s 14ms/step - loss: 0.2358 - rmse: 0.4829 - val_loss: 0.2990 - val_rmse: 0.5437\n",
            "\n",
            "Epoch 00021: val_rmse improved from 0.54488 to 0.54375, saving model to /content/drive/MyDrive/model_ann_test.h5\n",
            "Epoch 22/150\n",
            "15794/15794 [==============================] - 224s 14ms/step - loss: 0.2310 - rmse: 0.4780 - val_loss: 0.2948 - val_rmse: 0.5398\n",
            "\n",
            "Epoch 00022: val_rmse improved from 0.54375 to 0.53979, saving model to /content/drive/MyDrive/model_ann_test.h5\n",
            "Epoch 23/150\n",
            "15794/15794 [==============================] - 222s 14ms/step - loss: 0.2280 - rmse: 0.4747 - val_loss: 0.2936 - val_rmse: 0.5387\n",
            "\n",
            "Epoch 00023: val_rmse improved from 0.53979 to 0.53868, saving model to /content/drive/MyDrive/model_ann_test.h5\n",
            "Epoch 24/150\n",
            "15794/15794 [==============================] - 219s 14ms/step - loss: 0.2252 - rmse: 0.4719 - val_loss: 0.2938 - val_rmse: 0.5387\n",
            "\n",
            "Epoch 00024: val_rmse did not improve from 0.53868\n",
            "Epoch 25/150\n",
            "15794/15794 [==============================] - 217s 14ms/step - loss: 0.2210 - rmse: 0.4674 - val_loss: 0.2932 - val_rmse: 0.5382\n",
            "\n",
            "Epoch 00025: val_rmse improved from 0.53868 to 0.53819, saving model to /content/drive/MyDrive/model_ann_test.h5\n",
            "Epoch 26/150\n",
            "15794/15794 [==============================] - 218s 14ms/step - loss: 0.2174 - rmse: 0.4637 - val_loss: 0.2944 - val_rmse: 0.5393\n",
            "\n",
            "Epoch 00026: val_rmse did not improve from 0.53819\n",
            "Epoch 27/150\n",
            "15794/15794 [==============================] - 217s 14ms/step - loss: 0.2150 - rmse: 0.4609 - val_loss: 0.2881 - val_rmse: 0.5335\n",
            "\n",
            "Epoch 00027: val_rmse improved from 0.53819 to 0.53351, saving model to /content/drive/MyDrive/model_ann_test.h5\n",
            "Epoch 28/150\n",
            "15794/15794 [==============================] - 217s 14ms/step - loss: 0.2121 - rmse: 0.4579 - val_loss: 0.2910 - val_rmse: 0.5362\n",
            "\n",
            "Epoch 00028: val_rmse did not improve from 0.53351\n",
            "Epoch 29/150\n",
            "15794/15794 [==============================] - 216s 14ms/step - loss: 0.2101 - rmse: 0.4557 - val_loss: 0.2883 - val_rmse: 0.5336\n",
            "\n",
            "Epoch 00029: val_rmse did not improve from 0.53351\n",
            "Epoch 30/150\n",
            "15794/15794 [==============================] - 217s 14ms/step - loss: 0.2066 - rmse: 0.4518 - val_loss: 0.2872 - val_rmse: 0.5326\n",
            "\n",
            "Epoch 00030: val_rmse improved from 0.53351 to 0.53258, saving model to /content/drive/MyDrive/model_ann_test.h5\n",
            "Epoch 31/150\n",
            "15794/15794 [==============================] - 215s 14ms/step - loss: 0.2041 - rmse: 0.4490 - val_loss: 0.2853 - val_rmse: 0.5308\n",
            "\n",
            "Epoch 00031: val_rmse improved from 0.53258 to 0.53083, saving model to /content/drive/MyDrive/model_ann_test.h5\n",
            "Epoch 32/150\n",
            "15794/15794 [==============================] - 215s 14ms/step - loss: 0.2012 - rmse: 0.4458 - val_loss: 0.2865 - val_rmse: 0.5319\n",
            "\n",
            "Epoch 00032: val_rmse did not improve from 0.53083\n",
            "Epoch 33/150\n",
            "15794/15794 [==============================] - 217s 14ms/step - loss: 0.1989 - rmse: 0.4434 - val_loss: 0.2859 - val_rmse: 0.5314\n",
            "\n",
            "Epoch 00033: val_rmse did not improve from 0.53083\n",
            "Epoch 34/150\n",
            "15794/15794 [==============================] - 216s 14ms/step - loss: 0.1963 - rmse: 0.4403 - val_loss: 0.2864 - val_rmse: 0.5319\n",
            "\n",
            "Epoch 00034: val_rmse did not improve from 0.53083\n",
            "Epoch 35/150\n",
            "15794/15794 [==============================] - 218s 14ms/step - loss: 0.1944 - rmse: 0.4382 - val_loss: 0.2818 - val_rmse: 0.5275\n",
            "\n",
            "Epoch 00035: val_rmse improved from 0.53083 to 0.52754, saving model to /content/drive/MyDrive/model_ann_test.h5\n",
            "Epoch 36/150\n",
            "15794/15794 [==============================] - 222s 14ms/step - loss: 0.1923 - rmse: 0.4358 - val_loss: 0.2838 - val_rmse: 0.5293\n",
            "\n",
            "Epoch 00036: val_rmse did not improve from 0.52754\n",
            "Epoch 37/150\n",
            "15794/15794 [==============================] - 216s 14ms/step - loss: 0.1897 - rmse: 0.4329 - val_loss: 0.2812 - val_rmse: 0.5269\n",
            "\n",
            "Epoch 00037: val_rmse improved from 0.52754 to 0.52689, saving model to /content/drive/MyDrive/model_ann_test.h5\n",
            "Epoch 38/150\n",
            "15794/15794 [==============================] - 216s 14ms/step - loss: 0.1889 - rmse: 0.4319 - val_loss: 0.2890 - val_rmse: 0.5342\n",
            "\n",
            "Epoch 00038: val_rmse did not improve from 0.52689\n",
            "Epoch 39/150\n",
            "15794/15794 [==============================] - 216s 14ms/step - loss: 0.1863 - rmse: 0.4290 - val_loss: 0.2848 - val_rmse: 0.5300\n",
            "\n",
            "Epoch 00039: val_rmse did not improve from 0.52689\n",
            "Epoch 40/150\n",
            "15794/15794 [==============================] - 216s 14ms/step - loss: 0.1848 - rmse: 0.4272 - val_loss: 0.2808 - val_rmse: 0.5264\n",
            "\n",
            "Epoch 00040: val_rmse improved from 0.52689 to 0.52637, saving model to /content/drive/MyDrive/model_ann_test.h5\n",
            "Epoch 41/150\n",
            "15794/15794 [==============================] - 212s 13ms/step - loss: 0.1832 - rmse: 0.4253 - val_loss: 0.2822 - val_rmse: 0.5277\n",
            "\n",
            "Epoch 00041: val_rmse did not improve from 0.52637\n",
            "Epoch 42/150\n",
            "15794/15794 [==============================] - 209s 13ms/step - loss: 0.1812 - rmse: 0.4230 - val_loss: 0.2873 - val_rmse: 0.5324\n",
            "\n",
            "Epoch 00042: val_rmse did not improve from 0.52637\n",
            "Epoch 43/150\n",
            "15794/15794 [==============================] - 208s 13ms/step - loss: 0.1791 - rmse: 0.4206 - val_loss: 0.2813 - val_rmse: 0.5268\n",
            "\n",
            "Epoch 00043: val_rmse did not improve from 0.52637\n",
            "Epoch 44/150\n",
            "15794/15794 [==============================] - 208s 13ms/step - loss: 0.1778 - rmse: 0.4190 - val_loss: 0.2845 - val_rmse: 0.5297\n",
            "\n",
            "Epoch 00044: val_rmse did not improve from 0.52637\n",
            "Epoch 45/150\n",
            "15794/15794 [==============================] - 208s 13ms/step - loss: 0.1765 - rmse: 0.4174 - val_loss: 0.2819 - val_rmse: 0.5273\n",
            "\n",
            "Epoch 00045: val_rmse did not improve from 0.52637\n"
          ],
          "name": "stdout"
        }
      ]
    },
    {
      "cell_type": "code",
      "metadata": {
        "id": "fgkq6z3uZfN9",
        "colab": {
          "base_uri": "https://localhost:8080/",
          "height": 348
        },
        "outputId": "00c8b816-0643-47f0-83ee-145155dfb40b"
      },
      "source": [
        "fig, (ax1, ax2) = plt.subplots(1, 2 , figsize = (20,7))\n",
        "\n",
        "ax1.plot(history.history['rmse'])\n",
        "ax1.plot(history.history['val_rmse'])\n",
        "ax1.set_title('RMSE')\n",
        "ax1.set_ylabel('RMSE')\n",
        "ax1.set_xlabel('epoch')\n",
        "ax1.legend(['train', 'valid'], loc='upper right')\n",
        "\n",
        "ax2.plot(history.history['loss'])\n",
        "ax2.plot(history.history['val_loss'])\n",
        "ax2.set_title('MSE')\n",
        "ax2.set_ylabel('loss')\n",
        "ax2.set_xlabel('epoch')\n",
        "ax2.legend(['train', 'valid'], loc='upper right')\n",
        "\n",
        "plt.show()"
      ],
      "execution_count": 17,
      "outputs": [
        {
          "output_type": "display_data",
          "data": {
            "image/png": "[encoded data removed]",
            "text/plain": [
              "<Figure size 1440x504 with 2 Axes>"
            ]
          },
          "metadata": {
            "tags": []
          }
        }
      ]
    },
    {
      "cell_type": "code",
      "metadata": {
        "id": "jRkrKnRlBSAz"
      },
      "source": [
        ""
      ],
      "execution_count": 17,
      "outputs": []
    }
  ]
}