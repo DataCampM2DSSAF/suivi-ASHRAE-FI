{
  "nbformat": 4,
  "nbformat_minor": 0,
  "metadata": {
    "colab": {
      "name": "5_3_Deep_learning_predictions.ipynb",
      "provenance": [],
      "collapsed_sections": []
    },
    "kernelspec": {
      "name": "python3",
      "display_name": "Python 3"
    },
    "accelerator": "GPU"
  },
  "cells": [
    {
      "cell_type": "code",
      "metadata": {
        "colab": {
          "base_uri": "https://localhost:8080/"
        },
        "id": "eqNEiR3QCsyp",
        "outputId": "57a30eae-93f5-4bfb-d213-264b553bbc79"
      },
      "source": [
        "!pip install meteocalc"
      ],
      "execution_count": null,
      "outputs": [
        {
          "output_type": "stream",
          "text": [
            "Requirement already satisfied: meteocalc in /usr/local/lib/python3.7/dist-packages (1.1.0)\n"
          ],
          "name": "stdout"
        }
      ]
    },
    {
      "cell_type": "code",
      "metadata": {
        "id": "nSFEi27UCtMe",
        "colab": {
          "base_uri": "https://localhost:8080/"
        },
        "outputId": "d38d8998-1679-4ced-87e5-fb1995a462be"
      },
      "source": [
        "#from google.colab import drive\n",
        "#drive.mount('/content/drive')\n",
        "#!cp /content/drive/MyDrive/ashrae.zip ashrae.zip\n",
        "#!unzip -q ashrae.zip"
      ],
      "execution_count": null,
      "outputs": [
        {
          "output_type": "stream",
          "text": [
            "Mounted at /content/drive\n"
          ],
          "name": "stdout"
        }
      ]
    },
    {
      "cell_type": "code",
      "metadata": {
        "colab": {
          "base_uri": "https://localhost:8080/",
          "height": 55
        },
        "id": "cBIf6a9eCllr",
        "outputId": "63483be6-025e-432e-8a35-edff0a0df973"
      },
      "source": [
        "import warnings\n",
        "warnings.simplefilter(action='ignore', category=FutureWarning)\n",
        "\n",
        "import gc\n",
        "import pandas as pd\n",
        "import numpy as np\n",
        "import matplotlib.pyplot as plt\n",
        "import seaborn as sns\n",
        "import plotly.graph_objects as go\n",
        "import plotly.figure_factory as ff\n",
        "\n",
        "from IPython.core.pylabtools import figsize\n",
        "from plotly.offline import init_notebook_mode,iplot,plot\n",
        "%matplotlib inline\n",
        "init_notebook_mode(connected=True)\n",
        "plt.style.use(\"ggplot\")\n",
        "\n",
        "from sklearn.utils import shuffle\n",
        "from sklearn.preprocessing import  LabelEncoder\n",
        "\n",
        "from keras.models import load_model\n",
        "import keras.backend as K\n",
        "\n",
        "# importer les fichiers .py sur le notebook\n",
        "%run utils.py\n",
        "%run feature_enginering.py"
      ],
      "execution_count": null,
      "outputs": [
        {
          "output_type": "display_data",
          "data": {
            "text/html": [
              "        <script type=\"text/javascript\">\n",
              "        window.PlotlyConfig = {MathJaxConfig: 'local'};\n",
              "        if (window.MathJax) {MathJax.Hub.Config({SVG: {font: \"STIX-Web\"}});}\n",
              "        if (typeof require !== 'undefined') {\n",
              "        require.undef(\"plotly\");\n",
              "        requirejs.config({\n",
              "            paths: {\n",
              "                'plotly': ['https://cdn.plot.ly/plotly-latest.min']\n",
              "            }\n",
              "        });\n",
              "        require(['plotly'], function(Plotly) {\n",
              "            window._Plotly = Plotly;\n",
              "        });\n",
              "        }\n",
              "        </script>\n",
              "        "
            ]
          },
          "metadata": {
            "tags": []
          }
        },
        {
          "output_type": "stream",
          "text": [
            "ERROR:root:File `'utils.py'` not found.\n",
            "ERROR:root:File `'feature_enginering.py'` not found.\n"
          ],
          "name": "stderr"
        }
      ]
    },
    {
      "cell_type": "code",
      "metadata": {
        "id": "gBQBF8jwC-pG"
      },
      "source": [
        "KWH_TO_KBTU = 0.2931\n",
        "\n",
        "building = pd.read_csv('/content/building_metadata.csv')\n",
        "weather_train = pd.read_csv('/content/weather_train.csv')\n",
        "train = pd.read_csv('/content/train.csv')"
      ],
      "execution_count": null,
      "outputs": []
    },
    {
      "cell_type": "code",
      "metadata": {
        "id": "4GfXFxsmDFo9"
      },
      "source": [
        "building = reduce_mem_usage(building)\n",
        "weather_train  = reduce_mem_usage(weather_train)\n",
        "train = reduce_mem_usage(train)"
      ],
      "execution_count": null,
      "outputs": []
    },
    {
      "cell_type": "code",
      "metadata": {
        "id": "DkSiJMkUmjlU"
      },
      "source": [
        "building = prepare_building_data(building)\n",
        "weather_train = prepare_weather_data(weather_train)\n",
        "train  = time_features(train)"
      ],
      "execution_count": null,
      "outputs": []
    },
    {
      "cell_type": "code",
      "metadata": {
        "id": "jI9exrTdnKu5"
      },
      "source": [
        "train = join_data(train , weather_train , building)\n",
        "\n",
        "train['month_group'] = train['month_group'] - 1\n",
        "train = train.drop(['meter_reading'] , axis= 1)\n",
        "train = reduce_mem_usage(train)"
      ],
      "execution_count": null,
      "outputs": []
    },
    {
      "cell_type": "code",
      "metadata": {
        "id": "FAY1_bm_mllY"
      },
      "source": [
        "def join_data(data , weather_data , building_data):\n",
        "\n",
        "    data = data.merge(building_data, on = 'building_id' , how='left')\n",
        "    data = data.merge(weather_data , on = ['site_id','timestamp'], how= 'left')\n",
        "    data = shuffle(data, random_state=0)\n",
        "\n",
        "    return data"
      ],
      "execution_count": null,
      "outputs": []
    },
    {
      "cell_type": "code",
      "metadata": {
        "colab": {
          "base_uri": "https://localhost:8080/"
        },
        "id": "dJ9J_KzUDNlz",
        "outputId": "1c60294f-fb3f-4fed-b6dc-c76a5d4ca808"
      },
      "source": [
        "cols_to_drop = ['year_built' , 'floor_count' , 'timestamp']\n",
        "\n",
        "cols_to_scale = ['square_feet' , 'air_temperature' , 'dew_temperature' ,\n",
        "                 'wind_speed', 'cloud_coverage', 'sea_level_pressure', 'wind_direction',\n",
        "                 'relative_humidity', 'feels_like']\n",
        "\n",
        "cols_to_encode = ['primary_use' , 'city' , 'country']\n",
        "\n",
        "cols_to_fill_median = ['air_temperature', 'cloud_coverage', 'dew_temperature', 'precip_depth_1_hr',\n",
        "                       'sea_level_pressure','wind_direction' , 'wind_speed', 'relative_humidity' ,\n",
        "                       'feels_like']\n",
        "\n",
        "cols_to_fill_categ = ['city' , 'country' , 'is_holiday']\n",
        "\n",
        "\n",
        "Filler = Data_Filler(cols_to_fill_median,\n",
        "                     cols_to_fill_categ)\n",
        "\n",
        "Filler.fit(train)\n",
        "train = Filler.transform(train)\n",
        "\n",
        "ScalerEncoder = Data_Scaler_Encoder(cols_to_scale ,\n",
        "                                    cols_to_drop , \n",
        "                                    cols_to_encode)\n",
        "ScalerEncoder.fit(train)\n",
        "train = ScalerEncoder.transform(train)\n",
        "\n",
        "del train, weather_train\n",
        "gc.collect()"
      ],
      "execution_count": null,
      "outputs": [
        {
          "output_type": "execute_result",
          "data": {
            "text/plain": [
              "171"
            ]
          },
          "metadata": {
            "tags": []
          },
          "execution_count": 26
        }
      ]
    },
    {
      "cell_type": "code",
      "metadata": {
        "id": "-cQ4TmcXDVk_"
      },
      "source": [
        "test = pd.read_csv('/content/test.csv')\n",
        "weather_test = pd.read_csv('/content/weather_test.csv')"
      ],
      "execution_count": null,
      "outputs": []
    },
    {
      "cell_type": "code",
      "metadata": {
        "id": "yynxYXrO5xhF"
      },
      "source": [
        "weather_test  = reduce_mem_usage(weather_test)\n",
        "test = reduce_mem_usage(test)"
      ],
      "execution_count": null,
      "outputs": []
    },
    {
      "cell_type": "code",
      "metadata": {
        "id": "hyW1KfPF6xnH"
      },
      "source": [
        "weather_test = prepare_weather_data(weather_test)\n",
        "test = time_features(test)"
      ],
      "execution_count": null,
      "outputs": []
    },
    {
      "cell_type": "code",
      "metadata": {
        "id": "DnHZrAc9fw0v"
      },
      "source": [
        "def rmse(y_true, y_pred):\n",
        "    \"\"\" root_mean_squared_error \"\"\"\n",
        "    return K.sqrt(K.mean(K.square(y_pred - y_true)))\n",
        "\n",
        "model = load_model('/content/drive/MyDrive/model_ann.h5',\n",
        "                   custom_objects = {'rmse' : rmse })\n",
        "\n",
        "model.compile('adam', loss='mse')"
      ],
      "execution_count": null,
      "outputs": []
    },
    {
      "cell_type": "code",
      "metadata": {
        "id": "RtmM22XgjPdO"
      },
      "source": [
        "categorical_vars = ['building_id' , 'meter', 'hour', 'dayofweek' , 'month_group', 'site_id' , \n",
        "                    'primary_use', 'city', 'country', 'is_holiday']\n",
        "                    \n",
        "numerical_vars = ['square_feet', 'air_temperature', 'cloud_coverage', 'dew_temperature',\n",
        "                  'precip_depth_1_hr', 'sea_level_pressure', 'wind_direction', 'wind_speed', \n",
        "                  'relative_humidity' , 'feels_like']\n",
        "\n",
        "co_vars = categorical_vars + numerical_vars"
      ],
      "execution_count": null,
      "outputs": []
    },
    {
      "cell_type": "code",
      "metadata": {
        "colab": {
          "base_uri": "https://localhost:8080/"
        },
        "id": "xizoPDBWdRut",
        "outputId": "0c8fa54b-52ea-481c-b026-f1e3dcd71440"
      },
      "source": [
        "step_size = 100000\n",
        "nrows = test.shape[0]\n",
        "num_steps = nrows//step_size\n",
        "print('nombre d\\'iterations' , num_steps)\n",
        "\n",
        "row_id = np.array([])\n",
        "meter_values = np.array([])\n",
        "y_pred = np.array([])\n",
        "\n",
        "for j in range(num_steps+1):\n",
        "    start_idx = j*step_size\n",
        "    end_idx = (j+1)*step_size\n",
        "    if j == num_steps : \n",
        "        start_idx = j*step_size\n",
        "        end_idx = nrows\n",
        "      \n",
        "    test_tmp = test.iloc[start_idx:end_idx]\n",
        "    \n",
        "    test_tmp = join_data(test_tmp , weather_test , building)\n",
        "    test_tmp = Filler.transform(test_tmp)\n",
        "    test_tmp = ScalerEncoder.transform(test_tmp)\n",
        "    test_tmp['month_group'] = test_tmp['month_group'] - 1\n",
        "    \n",
        "    row_id_tmp = test_tmp['row_id'].values\n",
        "    row_id = np.concatenate((row_id,row_id_tmp))\n",
        "\n",
        "    test_tmp = test_tmp.drop(['row_id'] , axis= 1)\n",
        "\n",
        "    meter_values_tmp = test_tmp['meter'].values\n",
        "    meter_values = np.concatenate((meter_values,meter_values_tmp))\n",
        "\n",
        "    test_tmp = test_tmp[co_vars].values\n",
        "    test_tmp = [ test_tmp[:,i].flatten() for i in range(len(test_tmp[0,:])) ]\n",
        "    \n",
        "    predictions = model.predict(test_tmp)\n",
        "    predictions = predictions.reshape(predictions.shape[0])\n",
        "\n",
        "    y_pred = np.concatenate((y_pred,predictions))\n",
        "    if j%50==0:\n",
        "        print('iteration' , j)"
      ],
      "execution_count": null,
      "outputs": [
        {
          "output_type": "stream",
          "text": [
            "nombre d'iterations 416\n",
            "iteration 0\n",
            "iteration 50\n",
            "iteration 100\n",
            "iteration 150\n",
            "iteration 200\n",
            "iteration 250\n",
            "iteration 300\n",
            "iteration 350\n",
            "iteration 400\n"
          ],
          "name": "stdout"
        }
      ]
    },
    {
      "cell_type": "code",
      "metadata": {
        "id": "YWBYwhkzKYpH",
        "colab": {
          "base_uri": "https://localhost:8080/",
          "height": 256
        },
        "outputId": "4d98182f-a7d8-4edf-9fc1-7f5f97178153"
      },
      "source": [
        "del building, weather_test,test\n",
        "\n",
        "gc.collect()"
      ],
      "execution_count": null,
      "outputs": [
        {
          "output_type": "error",
          "ename": "NameError",
          "evalue": "ignored",
          "traceback": [
            "\u001b[0;31m---------------------------------------------------------------------------\u001b[0m",
            "\u001b[0;31mNameError\u001b[0m                                 Traceback (most recent call last)",
            "\u001b[0;32m<ipython-input-50-6aecf347bac7>\u001b[0m in \u001b[0;36m<module>\u001b[0;34m()\u001b[0m\n\u001b[0;32m----> 1\u001b[0;31m \u001b[0;32mdel\u001b[0m \u001b[0mbuilding\u001b[0m\u001b[0;34m,\u001b[0m \u001b[0mweather_test\u001b[0m\u001b[0;34m,\u001b[0m\u001b[0mtest\u001b[0m\u001b[0;34m\u001b[0m\u001b[0;34m\u001b[0m\u001b[0m\n\u001b[0m\u001b[1;32m      2\u001b[0m \u001b[0;34m\u001b[0m\u001b[0m\n\u001b[1;32m      3\u001b[0m \u001b[0mgc\u001b[0m\u001b[0;34m.\u001b[0m\u001b[0mcollect\u001b[0m\u001b[0;34m(\u001b[0m\u001b[0;34m)\u001b[0m\u001b[0;34m\u001b[0m\u001b[0;34m\u001b[0m\u001b[0m\n",
            "\u001b[0;31mNameError\u001b[0m: name 'building' is not defined"
          ]
        }
      ]
    },
    {
      "cell_type": "code",
      "metadata": {
        "id": "pluFOGoyfzwi"
      },
      "source": [
        "pred_final = {'row_id': row_id, 'meter' : meter_values , 'meter_reading': y_pred}\n",
        "pred_final = pd.DataFrame(data = pred_final)"
      ],
      "execution_count": null,
      "outputs": []
    },
    {
      "cell_type": "code",
      "metadata": {
        "id": "__6DBSSiD7FH"
      },
      "source": [
        "pred_final['meter_reading'] = np.exp(pred_final['meter_reading']) - 1\n",
        "pred_final.loc[(pred_final.meter == 0),'meter_reading'] = pred_final['meter_reading'] / KWH_TO_KBTU # convertir du kwh vers kbtu"
      ],
      "execution_count": null,
      "outputs": []
    },
    {
      "cell_type": "code",
      "metadata": {
        "id": "q1_f-oGenINJ"
      },
      "source": [
        "pred_final = pred_final.sort_values(by=['row_id'])\n",
        "pred_final = pred_final.drop(['meter'] , axis = 1)\n",
        "pred_final.loc[pred_final.meter_reading < 0] = 0\n"
      ],
      "execution_count": null,
      "outputs": []
    },
    {
      "cell_type": "code",
      "metadata": {
        "id": "aYoxHZzbnU3q"
      },
      "source": [
        "compression_opts = dict(method='zip',archive_name='out.csv')  \n",
        "\n",
        "pred_final.to_csv('out.zip', index=False,compression=compression_opts)  "
      ],
      "execution_count": null,
      "outputs": []
    },
    {
      "cell_type": "code",
      "metadata": {
        "id": "JMkYhbbKYlcp"
      },
      "source": [
        "!cp out.zip /content/drive/MyDrive/out.zip"
      ],
      "execution_count": null,
      "outputs": []
    },
    {
      "cell_type": "code",
      "metadata": {
        "id": "ta_89y5UYpTg",
        "colab": {
          "base_uri": "https://localhost:8080/",
          "height": 405
        },
        "outputId": "5f5a6e00-40a4-4f8b-913d-6858e4d0709c"
      },
      "source": [
        "\n",
        "pred_final.loc[pred_final.meter_reading < 0] = 0\n",
        "pred_final"
      ],
      "execution_count": null,
      "outputs": [
        {
          "output_type": "execute_result",
          "data": {
            "text/html": [
              "<div>\n",
              "<style scoped>\n",
              "    .dataframe tbody tr th:only-of-type {\n",
              "        vertical-align: middle;\n",
              "    }\n",
              "\n",
              "    .dataframe tbody tr th {\n",
              "        vertical-align: top;\n",
              "    }\n",
              "\n",
              "    .dataframe thead th {\n",
              "        text-align: right;\n",
              "    }\n",
              "</style>\n",
              "<table border=\"1\" class=\"dataframe\">\n",
              "  <thead>\n",
              "    <tr style=\"text-align: right;\">\n",
              "      <th></th>\n",
              "      <th>row_id</th>\n",
              "      <th>meter_reading</th>\n",
              "    </tr>\n",
              "  </thead>\n",
              "  <tbody>\n",
              "    <tr>\n",
              "      <th>52860</th>\n",
              "      <td>0.0</td>\n",
              "      <td>0.000000</td>\n",
              "    </tr>\n",
              "    <tr>\n",
              "      <th>33031</th>\n",
              "      <td>1.0</td>\n",
              "      <td>0.021453</td>\n",
              "    </tr>\n",
              "    <tr>\n",
              "      <th>83905</th>\n",
              "      <td>0.0</td>\n",
              "      <td>0.000000</td>\n",
              "    </tr>\n",
              "    <tr>\n",
              "      <th>15517</th>\n",
              "      <td>3.0</td>\n",
              "      <td>0.040544</td>\n",
              "    </tr>\n",
              "    <tr>\n",
              "      <th>46516</th>\n",
              "      <td>4.0</td>\n",
              "      <td>0.060824</td>\n",
              "    </tr>\n",
              "    <tr>\n",
              "      <th>...</th>\n",
              "      <td>...</td>\n",
              "      <td>...</td>\n",
              "    </tr>\n",
              "    <tr>\n",
              "      <th>41640965</th>\n",
              "      <td>41697595.0</td>\n",
              "      <td>5.449270</td>\n",
              "    </tr>\n",
              "    <tr>\n",
              "      <th>41659597</th>\n",
              "      <td>41697596.0</td>\n",
              "      <td>3.694571</td>\n",
              "    </tr>\n",
              "    <tr>\n",
              "      <th>41675115</th>\n",
              "      <td>41697597.0</td>\n",
              "      <td>5.863081</td>\n",
              "    </tr>\n",
              "    <tr>\n",
              "      <th>41629031</th>\n",
              "      <td>41697598.0</td>\n",
              "      <td>146.382700</td>\n",
              "    </tr>\n",
              "    <tr>\n",
              "      <th>41667493</th>\n",
              "      <td>41697599.0</td>\n",
              "      <td>3.328277</td>\n",
              "    </tr>\n",
              "  </tbody>\n",
              "</table>\n",
              "<p>41697600 rows × 2 columns</p>\n",
              "</div>"
            ],
            "text/plain": [
              "              row_id  meter_reading\n",
              "52860            0.0       0.000000\n",
              "33031            1.0       0.021453\n",
              "83905            0.0       0.000000\n",
              "15517            3.0       0.040544\n",
              "46516            4.0       0.060824\n",
              "...              ...            ...\n",
              "41640965  41697595.0       5.449270\n",
              "41659597  41697596.0       3.694571\n",
              "41675115  41697597.0       5.863081\n",
              "41629031  41697598.0     146.382700\n",
              "41667493  41697599.0       3.328277\n",
              "\n",
              "[41697600 rows x 2 columns]"
            ]
          },
          "metadata": {
            "tags": []
          },
          "execution_count": 51
        }
      ]
    },
    {
      "cell_type": "code",
      "metadata": {
        "id": "fTPvdc_iSbVL"
      },
      "source": [
        "#!cp /content/drive/MyDrive/out.zip out.zip\n",
        "#!unzip -q out.zip"
      ],
      "execution_count": null,
      "outputs": []
    },
    {
      "cell_type": "code",
      "metadata": {
        "id": "SO3v7yxk7kCS"
      },
      "source": [
        "pred_final = pd.read_csv('/content/out.csv')\n",
        "pred_final.row_id = pred_final.row_id.astype('int32')"
      ],
      "execution_count": null,
      "outputs": []
    },
    {
      "cell_type": "code",
      "metadata": {
        "id": "b2s47mj4Siik"
      },
      "source": [
        "compression_opts = dict(method='zip',archive_name='out_final.csv')  \n",
        "\n",
        "pred_final.to_csv('out_final.zip', index=False,compression=compression_opts)"
      ],
      "execution_count": null,
      "outputs": []
    },
    {
      "cell_type": "code",
      "metadata": {
        "id": "PRiHtmhqSzEF"
      },
      "source": [
        "!cp out_final.zip /content/drive/MyDrive/out_final.zip"
      ],
      "execution_count": null,
      "outputs": []
    },
    {
      "cell_type": "code",
      "metadata": {
        "id": "KnuP4GeaTHrh"
      },
      "source": [
        "sample = pd.read_csv('/content/sample_submission.csv')"
      ],
      "execution_count": null,
      "outputs": []
    },
    {
      "cell_type": "code",
      "metadata": {
        "colab": {
          "base_uri": "https://localhost:8080/"
        },
        "id": "Npls5mTncf4d",
        "outputId": "0dc00a84-5db3-4555-8dc8-d44918e58c17"
      },
      "source": [
        "sample.meter_reading"
      ],
      "execution_count": null,
      "outputs": [
        {
          "output_type": "execute_result",
          "data": {
            "text/plain": [
              "0           0\n",
              "1           0\n",
              "2           0\n",
              "3           0\n",
              "4           0\n",
              "           ..\n",
              "41697595    0\n",
              "41697596    0\n",
              "41697597    0\n",
              "41697598    0\n",
              "41697599    0\n",
              "Name: meter_reading, Length: 41697600, dtype: int64"
            ]
          },
          "metadata": {
            "tags": []
          },
          "execution_count": 12
        }
      ]
    },
    {
      "cell_type": "code",
      "metadata": {
        "id": "bPMRnzLycjdb"
      },
      "source": [
        ""
      ],
      "execution_count": null,
      "outputs": []
    }
  ]
}