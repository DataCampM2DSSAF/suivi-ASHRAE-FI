{
  "nbformat": 4,
  "nbformat_minor": 0,
  "metadata": {
    "colab": {
      "name": "Deep_learning_ashrae.ipynb",
      "provenance": [],
      "collapsed_sections": []
    },
    "kernelspec": {
      "name": "python3",
      "display_name": "Python 3"
    },
    "accelerator": "GPU"
  },
  "cells": [
    {
      "cell_type": "code",
      "metadata": {
        "id": "urKdT5nkWxaQ"
      },
      "source": [
        "#from google.colab import drive\n",
        "#drive.mount('/content/drive')\n",
        "!cp /content/drive/MyDrive/ashrae.zip ashrae.zip\n",
        "!unzip -q ashrae.zip"
      ],
      "execution_count": 1,
      "outputs": []
    },
    {
      "cell_type": "code",
      "metadata": {
        "colab": {
          "base_uri": "https://localhost:8080/",
          "height": 17
        },
        "id": "i2zx2E54W2eA",
        "outputId": "641dabcf-8a7b-4d42-faa1-36df4326769a"
      },
      "source": [
        "import warnings\n",
        "warnings.simplefilter(action='ignore', category=FutureWarning)\n",
        "\n",
        "import gc\n",
        "import pandas as pd\n",
        "import numpy as np\n",
        "import matplotlib.pyplot as plt\n",
        "import seaborn as sns\n",
        "import plotly.graph_objects as go\n",
        "import plotly.figure_factory as ff\n",
        "\n",
        "from IPython.core.pylabtools import figsize\n",
        "from plotly.offline import init_notebook_mode,iplot,plot\n",
        "%matplotlib inline\n",
        "init_notebook_mode(connected=True)\n",
        "plt.style.use(\"ggplot\")\n",
        "\n",
        "from sklearn.utils import shuffle\n",
        "from sklearn.preprocessing import  LabelEncoder, StandardScaler\n",
        "from sklearn.model_selection import train_test_split\n",
        "\n",
        "from keras.models import Model\n",
        "from keras.layers import Input, Dense, BatchNormalization, Lambda\n",
        "from keras.layers import Embedding,Flatten,Dropout, Add,Activation\n",
        "from keras.optimizers import Adam, SGD, RMSprop\n",
        "import keras.backend as K\n",
        "\n",
        "# importer les fichiers .py sur le notebook\n",
        "%run utils.py"
      ],
      "execution_count": 2,
      "outputs": [
        {
          "output_type": "display_data",
          "data": {
            "text/html": [
              "        <script type=\"text/javascript\">\n",
              "        window.PlotlyConfig = {MathJaxConfig: 'local'};\n",
              "        if (window.MathJax) {MathJax.Hub.Config({SVG: {font: \"STIX-Web\"}});}\n",
              "        if (typeof require !== 'undefined') {\n",
              "        require.undef(\"plotly\");\n",
              "        requirejs.config({\n",
              "            paths: {\n",
              "                'plotly': ['https://cdn.plot.ly/plotly-latest.min']\n",
              "            }\n",
              "        });\n",
              "        require(['plotly'], function(Plotly) {\n",
              "            window._Plotly = Plotly;\n",
              "        });\n",
              "        }\n",
              "        </script>\n",
              "        "
            ]
          },
          "metadata": {
            "tags": []
          }
        }
      ]
    },
    {
      "cell_type": "code",
      "metadata": {
        "id": "XP1Ms_WdW8VR"
      },
      "source": [
        "building = pd.read_csv('/content/building_metadata.csv')\n",
        "weather = pd.read_csv('/content/weather_train.csv')\n",
        "train = pd.read_csv('/content/train.csv')\n",
        "\n",
        "train.loc[(train.meter == 0),'meter_reading'] = train['meter_reading'] * 0.2931 # convertir du kwh vers kbtu"
      ],
      "execution_count": 3,
      "outputs": []
    },
    {
      "cell_type": "code",
      "metadata": {
        "id": "4sAM2Cv1uFKC"
      },
      "source": [
        "def join_data(data , weather_data , building_data):\n",
        "    building_data = reduce_mem_usage(building_data)\n",
        "    weather_data  = reduce_mem_usage(weather_data)\n",
        "    data = reduce_mem_usage(data)\n",
        "\n",
        "    data = (data.merge(building_data, on='building_id', how='left'))\n",
        "    data = data.merge(weather_data, how='left', on = ['site_id', 'timestamp'], validate='many_to_one')\n",
        "\n",
        "    return data\n",
        "\n",
        "\n",
        "def preprocess_data(data , cols_to_scale , cols_to_drop):\n",
        "    data = data.drop(cols_to_drop, axis= 1)\n",
        "    data = data.dropna(axis=0)\n",
        "\n",
        "    LE = LabelEncoder()\n",
        "    LE.fit(data['primary_use'])\n",
        "\n",
        "    data['primary_use'] = LE.transform(data['primary_use'])\n",
        "\n",
        "    for col in cols_to_scale:\n",
        "        data[col] = ( data[col] - data[col].mean())/ data[col].std()\n",
        "    \n",
        "    data = time_features(data)\n",
        "    \n",
        "    return data"
      ],
      "execution_count": 4,
      "outputs": []
    },
    {
      "cell_type": "code",
      "metadata": {
        "colab": {
          "base_uri": "https://localhost:8080/"
        },
        "id": "On0jd7ppXFUg",
        "outputId": "26c3bd8a-a682-41c6-8adf-89b7ab14534d"
      },
      "source": [
        "train = join_data(train , weather , building)\n",
        "\n",
        "train['log_meter_reading'] = np.log(train['meter_reading'] + 1)\n",
        "\n",
        "\n",
        "del weather, building\n",
        "gc.collect()"
      ],
      "execution_count": 5,
      "outputs": [
        {
          "output_type": "stream",
          "text": [
            "Memory usage of dataframe is 0.07 MB\n",
            "Memory usage after optimization is: 0.02 MB\n",
            "Decreased by 65.4%\n",
            "Memory usage of dataframe is 9.60 MB\n",
            "Memory usage after optimization is: 4.51 MB\n",
            "Decreased by 53.0%\n",
            "Memory usage of dataframe is 616.95 MB\n",
            "Memory usage after optimization is: 173.90 MB\n",
            "Decreased by 71.8%\n"
          ],
          "name": "stdout"
        },
        {
          "output_type": "execute_result",
          "data": {
            "text/plain": [
              "13"
            ]
          },
          "metadata": {
            "tags": []
          },
          "execution_count": 5
        }
      ]
    },
    {
      "cell_type": "code",
      "metadata": {
        "colab": {
          "base_uri": "https://localhost:8080/"
        },
        "id": "-TGB8FaOXjj5",
        "outputId": "68775d3d-c6b1-4239-cafc-caf2dd41d29b"
      },
      "source": [
        "print(train.columns)\n",
        "print('--------------------------')\n",
        "for col in train.columns:\n",
        "  if train[col].isnull().values.any():\n",
        "    print('Dans la variable', '(',col,')' , '-- il y a', train[col].isnull().values.sum() , ' Nan ')"
      ],
      "execution_count": 6,
      "outputs": [
        {
          "output_type": "stream",
          "text": [
            "Index(['building_id', 'meter', 'timestamp', 'meter_reading', 'site_id',\n",
            "       'primary_use', 'square_feet', 'year_built', 'floor_count',\n",
            "       'air_temperature', 'cloud_coverage', 'dew_temperature',\n",
            "       'precip_depth_1_hr', 'sea_level_pressure', 'wind_direction',\n",
            "       'wind_speed', 'log_meter_reading'],\n",
            "      dtype='object')\n",
            "--------------------------\n",
            "Dans la variable ( year_built ) -- il y a 12127645  Nan \n",
            "Dans la variable ( floor_count ) -- il y a 16709167  Nan \n",
            "Dans la variable ( air_temperature ) -- il y a 96658  Nan \n",
            "Dans la variable ( cloud_coverage ) -- il y a 8825365  Nan \n",
            "Dans la variable ( dew_temperature ) -- il y a 100140  Nan \n",
            "Dans la variable ( precip_depth_1_hr ) -- il y a 3749023  Nan \n",
            "Dans la variable ( sea_level_pressure ) -- il y a 1231669  Nan \n",
            "Dans la variable ( wind_direction ) -- il y a 1449048  Nan \n",
            "Dans la variable ( wind_speed ) -- il y a 143676  Nan \n"
          ],
          "name": "stdout"
        }
      ]
    },
    {
      "cell_type": "markdown",
      "metadata": {
        "id": "gQhR6k1Y9-_M"
      },
      "source": [
        "## On supprime les variables qui contient plus de 150 000 valeurs manquantes."
      ]
    },
    {
      "cell_type": "code",
      "metadata": {
        "colab": {
          "base_uri": "https://localhost:8080/",
          "height": 309
        },
        "id": "WIVkoJZa0Bt5",
        "outputId": "53b39a36-31a3-4529-8115-1ebbb1793d27"
      },
      "source": [
        "train.head()"
      ],
      "execution_count": 7,
      "outputs": [
        {
          "output_type": "execute_result",
          "data": {
            "text/html": [
              "<div>\n",
              "<style scoped>\n",
              "    .dataframe tbody tr th:only-of-type {\n",
              "        vertical-align: middle;\n",
              "    }\n",
              "\n",
              "    .dataframe tbody tr th {\n",
              "        vertical-align: top;\n",
              "    }\n",
              "\n",
              "    .dataframe thead th {\n",
              "        text-align: right;\n",
              "    }\n",
              "</style>\n",
              "<table border=\"1\" class=\"dataframe\">\n",
              "  <thead>\n",
              "    <tr style=\"text-align: right;\">\n",
              "      <th></th>\n",
              "      <th>building_id</th>\n",
              "      <th>meter</th>\n",
              "      <th>timestamp</th>\n",
              "      <th>meter_reading</th>\n",
              "      <th>site_id</th>\n",
              "      <th>primary_use</th>\n",
              "      <th>square_feet</th>\n",
              "      <th>year_built</th>\n",
              "      <th>floor_count</th>\n",
              "      <th>air_temperature</th>\n",
              "      <th>cloud_coverage</th>\n",
              "      <th>dew_temperature</th>\n",
              "      <th>precip_depth_1_hr</th>\n",
              "      <th>sea_level_pressure</th>\n",
              "      <th>wind_direction</th>\n",
              "      <th>wind_speed</th>\n",
              "      <th>log_meter_reading</th>\n",
              "    </tr>\n",
              "  </thead>\n",
              "  <tbody>\n",
              "    <tr>\n",
              "      <th>0</th>\n",
              "      <td>0</td>\n",
              "      <td>0</td>\n",
              "      <td>2016-01-01 00:00:00</td>\n",
              "      <td>0.0</td>\n",
              "      <td>0</td>\n",
              "      <td>Education</td>\n",
              "      <td>7432</td>\n",
              "      <td>2008.0</td>\n",
              "      <td>NaN</td>\n",
              "      <td>25.0</td>\n",
              "      <td>6.0</td>\n",
              "      <td>20.0</td>\n",
              "      <td>NaN</td>\n",
              "      <td>1019.700012</td>\n",
              "      <td>0.0</td>\n",
              "      <td>0.0</td>\n",
              "      <td>0.0</td>\n",
              "    </tr>\n",
              "    <tr>\n",
              "      <th>1</th>\n",
              "      <td>1</td>\n",
              "      <td>0</td>\n",
              "      <td>2016-01-01 00:00:00</td>\n",
              "      <td>0.0</td>\n",
              "      <td>0</td>\n",
              "      <td>Education</td>\n",
              "      <td>2720</td>\n",
              "      <td>2004.0</td>\n",
              "      <td>NaN</td>\n",
              "      <td>25.0</td>\n",
              "      <td>6.0</td>\n",
              "      <td>20.0</td>\n",
              "      <td>NaN</td>\n",
              "      <td>1019.700012</td>\n",
              "      <td>0.0</td>\n",
              "      <td>0.0</td>\n",
              "      <td>0.0</td>\n",
              "    </tr>\n",
              "    <tr>\n",
              "      <th>2</th>\n",
              "      <td>2</td>\n",
              "      <td>0</td>\n",
              "      <td>2016-01-01 00:00:00</td>\n",
              "      <td>0.0</td>\n",
              "      <td>0</td>\n",
              "      <td>Education</td>\n",
              "      <td>5376</td>\n",
              "      <td>1991.0</td>\n",
              "      <td>NaN</td>\n",
              "      <td>25.0</td>\n",
              "      <td>6.0</td>\n",
              "      <td>20.0</td>\n",
              "      <td>NaN</td>\n",
              "      <td>1019.700012</td>\n",
              "      <td>0.0</td>\n",
              "      <td>0.0</td>\n",
              "      <td>0.0</td>\n",
              "    </tr>\n",
              "    <tr>\n",
              "      <th>3</th>\n",
              "      <td>3</td>\n",
              "      <td>0</td>\n",
              "      <td>2016-01-01 00:00:00</td>\n",
              "      <td>0.0</td>\n",
              "      <td>0</td>\n",
              "      <td>Education</td>\n",
              "      <td>23685</td>\n",
              "      <td>2002.0</td>\n",
              "      <td>NaN</td>\n",
              "      <td>25.0</td>\n",
              "      <td>6.0</td>\n",
              "      <td>20.0</td>\n",
              "      <td>NaN</td>\n",
              "      <td>1019.700012</td>\n",
              "      <td>0.0</td>\n",
              "      <td>0.0</td>\n",
              "      <td>0.0</td>\n",
              "    </tr>\n",
              "    <tr>\n",
              "      <th>4</th>\n",
              "      <td>4</td>\n",
              "      <td>0</td>\n",
              "      <td>2016-01-01 00:00:00</td>\n",
              "      <td>0.0</td>\n",
              "      <td>0</td>\n",
              "      <td>Education</td>\n",
              "      <td>116607</td>\n",
              "      <td>1975.0</td>\n",
              "      <td>NaN</td>\n",
              "      <td>25.0</td>\n",
              "      <td>6.0</td>\n",
              "      <td>20.0</td>\n",
              "      <td>NaN</td>\n",
              "      <td>1019.700012</td>\n",
              "      <td>0.0</td>\n",
              "      <td>0.0</td>\n",
              "      <td>0.0</td>\n",
              "    </tr>\n",
              "  </tbody>\n",
              "</table>\n",
              "</div>"
            ],
            "text/plain": [
              "   building_id  meter  ... wind_speed  log_meter_reading\n",
              "0            0      0  ...        0.0                0.0\n",
              "1            1      0  ...        0.0                0.0\n",
              "2            2      0  ...        0.0                0.0\n",
              "3            3      0  ...        0.0                0.0\n",
              "4            4      0  ...        0.0                0.0\n",
              "\n",
              "[5 rows x 17 columns]"
            ]
          },
          "metadata": {
            "tags": []
          },
          "execution_count": 7
        }
      ]
    },
    {
      "cell_type": "code",
      "metadata": {
        "colab": {
          "base_uri": "https://localhost:8080/"
        },
        "id": "h6tr_NbK0nDp",
        "outputId": "731afe7d-e019-406e-89c9-b03c22c40f00"
      },
      "source": [
        "for col in train.columns:\n",
        "  if train[col].isnull().values.any():\n",
        "    print(col , 'il y a', train[col].isnull().values.sum() , ' Nan ')"
      ],
      "execution_count": 8,
      "outputs": [
        {
          "output_type": "stream",
          "text": [
            "year_built il y a 12127645  Nan \n",
            "floor_count il y a 16709167  Nan \n",
            "air_temperature il y a 96658  Nan \n",
            "cloud_coverage il y a 8825365  Nan \n",
            "dew_temperature il y a 100140  Nan \n",
            "precip_depth_1_hr il y a 3749023  Nan \n",
            "sea_level_pressure il y a 1231669  Nan \n",
            "wind_direction il y a 1449048  Nan \n",
            "wind_speed il y a 143676  Nan \n"
          ],
          "name": "stdout"
        }
      ]
    },
    {
      "cell_type": "code",
      "metadata": {
        "id": "Sy29N7vCYVft"
      },
      "source": [
        "train = train.drop([ 'meter_reading' ] , axis= 1)\n",
        "cols_to_drop = ['year_built' , 'floor_count' , 'cloud_coverage' , 'precip_depth_1_hr' , 'wind_direction' , 'sea_level_pressure']\n",
        "cols_to_scale = ['square_feet' , 'air_temperature' , 'dew_temperature' , 'wind_speed']\n",
        "\n",
        "train = preprocess_data(train, cols_to_scale, cols_to_drop)"
      ],
      "execution_count": 9,
      "outputs": []
    },
    {
      "cell_type": "code",
      "metadata": {
        "id": "3oFOr4fwb0Ge"
      },
      "source": [
        "for col in train.columns:\n",
        "  if train[col].isnull().values.any():\n",
        "    print(col , 'il y a', train[col].isnull().values.sum() , ' Nan ')"
      ],
      "execution_count": 10,
      "outputs": []
    },
    {
      "cell_type": "code",
      "metadata": {
        "colab": {
          "base_uri": "https://localhost:8080/"
        },
        "id": "CVJiZScVcVM4",
        "outputId": "b3b67d7a-1a46-4511-9d27-24222a6a8862"
      },
      "source": [
        "train.shape"
      ],
      "execution_count": 11,
      "outputs": [
        {
          "output_type": "execute_result",
          "data": {
            "text/plain": [
              "(20067705, 13)"
            ]
          },
          "metadata": {
            "tags": []
          },
          "execution_count": 11
        }
      ]
    },
    {
      "cell_type": "code",
      "metadata": {
        "colab": {
          "base_uri": "https://localhost:8080/",
          "height": 204
        },
        "id": "cOrzizQbjCnd",
        "outputId": "c8563cca-da50-47aa-c604-4773f7151240"
      },
      "source": [
        "train.head()"
      ],
      "execution_count": 12,
      "outputs": [
        {
          "output_type": "execute_result",
          "data": {
            "text/html": [
              "<div>\n",
              "<style scoped>\n",
              "    .dataframe tbody tr th:only-of-type {\n",
              "        vertical-align: middle;\n",
              "    }\n",
              "\n",
              "    .dataframe tbody tr th {\n",
              "        vertical-align: top;\n",
              "    }\n",
              "\n",
              "    .dataframe thead th {\n",
              "        text-align: right;\n",
              "    }\n",
              "</style>\n",
              "<table border=\"1\" class=\"dataframe\">\n",
              "  <thead>\n",
              "    <tr style=\"text-align: right;\">\n",
              "      <th></th>\n",
              "      <th>building_id</th>\n",
              "      <th>meter</th>\n",
              "      <th>timestamp</th>\n",
              "      <th>site_id</th>\n",
              "      <th>primary_use</th>\n",
              "      <th>square_feet</th>\n",
              "      <th>air_temperature</th>\n",
              "      <th>dew_temperature</th>\n",
              "      <th>wind_speed</th>\n",
              "      <th>log_meter_reading</th>\n",
              "      <th>hour</th>\n",
              "      <th>dayofweek</th>\n",
              "      <th>month</th>\n",
              "    </tr>\n",
              "  </thead>\n",
              "  <tbody>\n",
              "    <tr>\n",
              "      <th>0</th>\n",
              "      <td>0</td>\n",
              "      <td>0</td>\n",
              "      <td>2016-01-01 00:00:00</td>\n",
              "      <td>0</td>\n",
              "      <td>0</td>\n",
              "      <td>-0.856176</td>\n",
              "      <td>0.859954</td>\n",
              "      <td>1.225522</td>\n",
              "      <td>-1.551346</td>\n",
              "      <td>0.0</td>\n",
              "      <td>0</td>\n",
              "      <td>4</td>\n",
              "      <td>0</td>\n",
              "    </tr>\n",
              "    <tr>\n",
              "      <th>1</th>\n",
              "      <td>1</td>\n",
              "      <td>0</td>\n",
              "      <td>2016-01-01 00:00:00</td>\n",
              "      <td>0</td>\n",
              "      <td>0</td>\n",
              "      <td>-0.896400</td>\n",
              "      <td>0.859954</td>\n",
              "      <td>1.225522</td>\n",
              "      <td>-1.551346</td>\n",
              "      <td>0.0</td>\n",
              "      <td>0</td>\n",
              "      <td>4</td>\n",
              "      <td>0</td>\n",
              "    </tr>\n",
              "    <tr>\n",
              "      <th>2</th>\n",
              "      <td>2</td>\n",
              "      <td>0</td>\n",
              "      <td>2016-01-01 00:00:00</td>\n",
              "      <td>0</td>\n",
              "      <td>0</td>\n",
              "      <td>-0.873727</td>\n",
              "      <td>0.859954</td>\n",
              "      <td>1.225522</td>\n",
              "      <td>-1.551346</td>\n",
              "      <td>0.0</td>\n",
              "      <td>0</td>\n",
              "      <td>4</td>\n",
              "      <td>0</td>\n",
              "    </tr>\n",
              "    <tr>\n",
              "      <th>3</th>\n",
              "      <td>3</td>\n",
              "      <td>0</td>\n",
              "      <td>2016-01-01 00:00:00</td>\n",
              "      <td>0</td>\n",
              "      <td>0</td>\n",
              "      <td>-0.717434</td>\n",
              "      <td>0.859954</td>\n",
              "      <td>1.225522</td>\n",
              "      <td>-1.551346</td>\n",
              "      <td>0.0</td>\n",
              "      <td>0</td>\n",
              "      <td>4</td>\n",
              "      <td>0</td>\n",
              "    </tr>\n",
              "    <tr>\n",
              "      <th>4</th>\n",
              "      <td>4</td>\n",
              "      <td>0</td>\n",
              "      <td>2016-01-01 00:00:00</td>\n",
              "      <td>0</td>\n",
              "      <td>0</td>\n",
              "      <td>0.075786</td>\n",
              "      <td>0.859954</td>\n",
              "      <td>1.225522</td>\n",
              "      <td>-1.551346</td>\n",
              "      <td>0.0</td>\n",
              "      <td>0</td>\n",
              "      <td>4</td>\n",
              "      <td>0</td>\n",
              "    </tr>\n",
              "  </tbody>\n",
              "</table>\n",
              "</div>"
            ],
            "text/plain": [
              "   building_id  meter            timestamp  ...  hour  dayofweek  month\n",
              "0            0      0  2016-01-01 00:00:00  ...     0          4      0\n",
              "1            1      0  2016-01-01 00:00:00  ...     0          4      0\n",
              "2            2      0  2016-01-01 00:00:00  ...     0          4      0\n",
              "3            3      0  2016-01-01 00:00:00  ...     0          4      0\n",
              "4            4      0  2016-01-01 00:00:00  ...     0          4      0\n",
              "\n",
              "[5 rows x 13 columns]"
            ]
          },
          "metadata": {
            "tags": []
          },
          "execution_count": 12
        }
      ]
    },
    {
      "cell_type": "code",
      "metadata": {
        "id": "VnQh-XKCxQf2"
      },
      "source": [
        "train = train.drop([ 'timestamp' ] , axis= 1)"
      ],
      "execution_count": 13,
      "outputs": []
    },
    {
      "cell_type": "code",
      "metadata": {
        "id": "bnqpg5PN1I4r"
      },
      "source": [
        "train = shuffle(train, random_state=0)"
      ],
      "execution_count": 14,
      "outputs": []
    },
    {
      "cell_type": "code",
      "metadata": {
        "colab": {
          "base_uri": "https://localhost:8080/",
          "height": 204
        },
        "id": "6r-ZY00S1fTG",
        "outputId": "d2e6bef8-b814-4b5b-fa10-7ae883fab395"
      },
      "source": [
        "train.head()"
      ],
      "execution_count": 15,
      "outputs": [
        {
          "output_type": "execute_result",
          "data": {
            "text/html": [
              "<div>\n",
              "<style scoped>\n",
              "    .dataframe tbody tr th:only-of-type {\n",
              "        vertical-align: middle;\n",
              "    }\n",
              "\n",
              "    .dataframe tbody tr th {\n",
              "        vertical-align: top;\n",
              "    }\n",
              "\n",
              "    .dataframe thead th {\n",
              "        text-align: right;\n",
              "    }\n",
              "</style>\n",
              "<table border=\"1\" class=\"dataframe\">\n",
              "  <thead>\n",
              "    <tr style=\"text-align: right;\">\n",
              "      <th></th>\n",
              "      <th>building_id</th>\n",
              "      <th>meter</th>\n",
              "      <th>site_id</th>\n",
              "      <th>primary_use</th>\n",
              "      <th>square_feet</th>\n",
              "      <th>air_temperature</th>\n",
              "      <th>dew_temperature</th>\n",
              "      <th>wind_speed</th>\n",
              "      <th>log_meter_reading</th>\n",
              "      <th>hour</th>\n",
              "      <th>dayofweek</th>\n",
              "      <th>month</th>\n",
              "    </tr>\n",
              "  </thead>\n",
              "  <tbody>\n",
              "    <tr>\n",
              "      <th>19012003</th>\n",
              "      <td>166</td>\n",
              "      <td>3</td>\n",
              "      <td>2</td>\n",
              "      <td>4</td>\n",
              "      <td>3.802808</td>\n",
              "      <td>0.192285</td>\n",
              "      <td>-0.489685</td>\n",
              "      <td>-0.180781</td>\n",
              "      <td>4.974006</td>\n",
              "      <td>18</td>\n",
              "      <td>5</td>\n",
              "      <td>11</td>\n",
              "    </tr>\n",
              "    <tr>\n",
              "      <th>2943606</th>\n",
              "      <td>1272</td>\n",
              "      <td>1</td>\n",
              "      <td>14</td>\n",
              "      <td>9</td>\n",
              "      <td>1.192895</td>\n",
              "      <td>-0.688666</td>\n",
              "      <td>0.008921</td>\n",
              "      <td>0.040278</td>\n",
              "      <td>0.000000</td>\n",
              "      <td>18</td>\n",
              "      <td>2</td>\n",
              "      <td>1</td>\n",
              "    </tr>\n",
              "    <tr>\n",
              "      <th>13187863</th>\n",
              "      <td>908</td>\n",
              "      <td>2</td>\n",
              "      <td>9</td>\n",
              "      <td>0</td>\n",
              "      <td>-0.140637</td>\n",
              "      <td>1.425618</td>\n",
              "      <td>1.444909</td>\n",
              "      <td>-0.622899</td>\n",
              "      <td>3.106826</td>\n",
              "      <td>23</td>\n",
              "      <td>6</td>\n",
              "      <td>7</td>\n",
              "    </tr>\n",
              "    <tr>\n",
              "      <th>6351780</th>\n",
              "      <td>699</td>\n",
              "      <td>0</td>\n",
              "      <td>5</td>\n",
              "      <td>0</td>\n",
              "      <td>-0.119211</td>\n",
              "      <td>-0.901949</td>\n",
              "      <td>-0.768905</td>\n",
              "      <td>1.631902</td>\n",
              "      <td>2.076409</td>\n",
              "      <td>23</td>\n",
              "      <td>3</td>\n",
              "      <td>3</td>\n",
              "    </tr>\n",
              "    <tr>\n",
              "      <th>1149633</th>\n",
              "      <td>1375</td>\n",
              "      <td>2</td>\n",
              "      <td>15</td>\n",
              "      <td>6</td>\n",
              "      <td>0.064527</td>\n",
              "      <td>-1.977637</td>\n",
              "      <td>-1.656425</td>\n",
              "      <td>-0.180781</td>\n",
              "      <td>6.137587</td>\n",
              "      <td>20</td>\n",
              "      <td>3</td>\n",
              "      <td>0</td>\n",
              "    </tr>\n",
              "  </tbody>\n",
              "</table>\n",
              "</div>"
            ],
            "text/plain": [
              "          building_id  meter  site_id  ...  hour  dayofweek  month\n",
              "19012003          166      3        2  ...    18          5     11\n",
              "2943606          1272      1       14  ...    18          2      1\n",
              "13187863          908      2        9  ...    23          6      7\n",
              "6351780           699      0        5  ...    23          3      3\n",
              "1149633          1375      2       15  ...    20          3      0\n",
              "\n",
              "[5 rows x 12 columns]"
            ]
          },
          "metadata": {
            "tags": []
          },
          "execution_count": 15
        }
      ]
    },
    {
      "cell_type": "code",
      "metadata": {
        "id": "enPoSsTcvkMA"
      },
      "source": [
        "def residual_block(input_x, nodes):\n",
        "    d1 = Dense(nodes,activation='relu')(input_x)\n",
        "    d2 = Dense(nodes,activation='relu')(d1)\n",
        "\n",
        "    projected_x = Dense(nodes,activation='relu')(input_x)\n",
        "\n",
        "    add = Add()([projected_x , d2])\n",
        "    return add\n",
        "\n",
        "def create_model(data , categorical_vars , numerical_vars):\n",
        "    categ_inputs = []\n",
        "    embed_layers = []  \n",
        "    for col in categorical_vars:\n",
        "        num_classes = len(np.unique(data[col]))\n",
        "\n",
        "        input_x = Input(shape = [1] , name = col)\n",
        "        categ_inputs.append(input_x)\n",
        "\n",
        "        embed_x = Embedding(num_classes, 10)(input_x)\n",
        "        embed_layers.append(embed_x)\n",
        "\n",
        "    num_inputs = []\n",
        "    for col in numerical_vars:\n",
        "        num_inputs.append(Input(shape=[1] , name = col))\n",
        "\n",
        "    concat_emb = K.concatenate([Flatten()(emb_layer) for emb_layer in embed_layers])\n",
        "\n",
        "    d1 = residual_block(concat_emb , 512)\n",
        "    d2 = residual_block(d1 , 512)\n",
        "    main = K.concatenate(num_inputs+[d2])\n",
        "\n",
        "    d3 = residual_block(main , 512)\n",
        "    d4 = residual_block(d3 , 512)\n",
        "    d5 = residual_block(d4 , 64)\n",
        "\n",
        "    d6 = residual_block(d5 , 16)\n",
        "    output = Dense(1 )(d6)\n",
        "    model  = Model(categ_inputs + num_inputs, output)\n",
        "\n",
        "    return model \n",
        "\n",
        "\n",
        "def flatten_cols(X):\n",
        "    X = [X[:,i].flatten() for i in range(len(X[0,:])) ] \n",
        "    return X \n",
        "\n",
        "def split_data(data, categorical_vars, numerical_vars, validation_split = 0.2, target_var = 'log_meter_reading'):\n",
        "\n",
        "    y = data[target_var].values\n",
        "    y = y.reshape((len(y) , 1))\n",
        "\n",
        "    co_vars = categorical_vars + numerical_vars\n",
        "    X = data[co_vars].values\n",
        "\n",
        "    if validation_split ==0 : \n",
        "      return X,y\n",
        "      \n",
        "    X_train, X_val, y_train, y_val = train_test_split(X, y, test_size = validation_split, random_state=42) \n",
        "    return X_train, X_val , y_train , y_val\n",
        "\n",
        "def rmse(y_true, y_pred):\n",
        "    \"\"\" root_mean_squared_error \"\"\"\n",
        "    return K.sqrt(K.mean(K.square(y_pred - y_true)))"
      ],
      "execution_count": 16,
      "outputs": []
    },
    {
      "cell_type": "code",
      "metadata": {
        "colab": {
          "base_uri": "https://localhost:8080/"
        },
        "id": "-OkyaC4140Nh",
        "outputId": "e6ca1afb-ccd5-4e0f-aa08-0ba39433427f"
      },
      "source": [
        "categorical_vars = ['building_id' , 'meter' , 'site_id' , 'primary_use' , 'hour' , 'dayofweek' , 'month']\n",
        "numerical_vars = ['square_feet' , 'air_temperature' , 'dew_temperature' , 'wind_speed']\n",
        "model = create_model( train, categorical_vars ,  numerical_vars)\n",
        "\n",
        "X , y = split_data(train , categorical_vars , numerical_vars , validation_split = 0)\n",
        "\n",
        "X = flatten_cols(X)\n",
        "#X_val = flatten_cols(X_val)\n",
        "\n",
        "\n",
        "del train\n",
        "gc.collect()"
      ],
      "execution_count": 18,
      "outputs": [
        {
          "output_type": "execute_result",
          "data": {
            "text/plain": [
              "3473"
            ]
          },
          "metadata": {
            "tags": []
          },
          "execution_count": 18
        }
      ]
    },
    {
      "cell_type": "code",
      "metadata": {
        "colab": {
          "base_uri": "https://localhost:8080/"
        },
        "id": "M_SVDntbrxK6",
        "outputId": "cad4f7b3-cbce-4f86-de9e-740f90bfc2d3"
      },
      "source": [
        "model.compile(optimizer = Adam(lr=1e-4), loss= 'mse',  metrics=[rmse])\n",
        "history_1 = model.fit(X, y , epochs= 100 , batch_size = 1024 )"
      ],
      "execution_count": 20,
      "outputs": [
        {
          "output_type": "stream",
          "text": [
            "Epoch 1/100\n",
            "19598/19598 [==============================] - 202s 10ms/step - loss: 0.9880 - rmse: 0.9294\n",
            "Epoch 2/100\n",
            "19598/19598 [==============================] - 201s 10ms/step - loss: 0.4791 - rmse: 0.6897\n",
            "Epoch 3/100\n",
            "19598/19598 [==============================] - 201s 10ms/step - loss: 0.4224 - rmse: 0.6474\n",
            "Epoch 4/100\n",
            "19598/19598 [==============================] - 198s 10ms/step - loss: 0.3876 - rmse: 0.6200\n",
            "Epoch 5/100\n",
            "19598/19598 [==============================] - 197s 10ms/step - loss: 0.3610 - rmse: 0.5982\n",
            "Epoch 6/100\n",
            "19598/19598 [==============================] - 196s 10ms/step - loss: 0.3347 - rmse: 0.5759\n",
            "Epoch 7/100\n",
            "19598/19598 [==============================] - 196s 10ms/step - loss: 0.3154 - rmse: 0.5589\n",
            "Epoch 8/100\n",
            "19598/19598 [==============================] - 195s 10ms/step - loss: 0.3001 - rmse: 0.5451\n",
            "Epoch 9/100\n",
            "19598/19598 [==============================] - 193s 10ms/step - loss: 0.2859 - rmse: 0.5319\n",
            "Epoch 10/100\n",
            "19598/19598 [==============================] - 192s 10ms/step - loss: 0.2741 - rmse: 0.5208\n",
            "Epoch 11/100\n",
            "19598/19598 [==============================] - 194s 10ms/step - loss: 0.2633 - rmse: 0.5104\n",
            "Epoch 12/100\n",
            "19598/19598 [==============================] - 193s 10ms/step - loss: 0.2554 - rmse: 0.5026\n",
            "Epoch 13/100\n",
            "19598/19598 [==============================] - 195s 10ms/step - loss: 0.2480 - rmse: 0.4953\n",
            "Epoch 14/100\n",
            "19598/19598 [==============================] - 195s 10ms/step - loss: 0.2405 - rmse: 0.4876\n",
            "Epoch 15/100\n",
            "19598/19598 [==============================] - 196s 10ms/step - loss: 0.2350 - rmse: 0.4819\n",
            "Epoch 16/100\n",
            "19598/19598 [==============================] - 195s 10ms/step - loss: 0.2293 - rmse: 0.4760\n",
            "Epoch 17/100\n",
            "19598/19598 [==============================] - 194s 10ms/step - loss: 0.2226 - rmse: 0.4690\n",
            "Epoch 18/100\n",
            "19598/19598 [==============================] - 194s 10ms/step - loss: 0.2186 - rmse: 0.4647\n",
            "Epoch 19/100\n",
            "19598/19598 [==============================] - 194s 10ms/step - loss: 0.2143 - rmse: 0.4602\n",
            "Epoch 20/100\n",
            "19598/19598 [==============================] - 195s 10ms/step - loss: 0.2099 - rmse: 0.4554\n",
            "Epoch 21/100\n",
            "19598/19598 [==============================] - 194s 10ms/step - loss: 0.2061 - rmse: 0.4512\n",
            "Epoch 22/100\n",
            "19598/19598 [==============================] - 193s 10ms/step - loss: 0.2023 - rmse: 0.4470\n",
            "Epoch 23/100\n",
            "19598/19598 [==============================] - 193s 10ms/step - loss: 0.1982 - rmse: 0.4424\n",
            "Epoch 24/100\n",
            "19598/19598 [==============================] - 195s 10ms/step - loss: 0.1960 - rmse: 0.4399\n",
            "Epoch 25/100\n",
            "19598/19598 [==============================] - 195s 10ms/step - loss: 0.1925 - rmse: 0.4359\n",
            "Epoch 26/100\n",
            "19598/19598 [==============================] - 195s 10ms/step - loss: 0.1897 - rmse: 0.4328\n",
            "Epoch 27/100\n",
            "19598/19598 [==============================] - 196s 10ms/step - loss: 0.1881 - rmse: 0.4309\n",
            "Epoch 28/100\n",
            "19598/19598 [==============================] - 196s 10ms/step - loss: 0.1850 - rmse: 0.4274\n",
            "Epoch 29/100\n",
            "19598/19598 [==============================] - 195s 10ms/step - loss: 0.1817 - rmse: 0.4235\n",
            "Epoch 30/100\n",
            "19598/19598 [==============================] - 196s 10ms/step - loss: 0.1803 - rmse: 0.4219\n",
            "Epoch 31/100\n",
            "19598/19598 [==============================] - 196s 10ms/step - loss: 0.1775 - rmse: 0.4185\n",
            "Epoch 32/100\n",
            "19598/19598 [==============================] - 195s 10ms/step - loss: 0.1752 - rmse: 0.4157\n",
            "Epoch 33/100\n",
            "19598/19598 [==============================] - 196s 10ms/step - loss: 0.1738 - rmse: 0.4140\n",
            "Epoch 34/100\n",
            "19598/19598 [==============================] - 195s 10ms/step - loss: 0.1709 - rmse: 0.4106\n",
            "Epoch 35/100\n",
            "19598/19598 [==============================] - 195s 10ms/step - loss: 0.1687 - rmse: 0.4080\n",
            "Epoch 36/100\n",
            "19598/19598 [==============================] - 195s 10ms/step - loss: 0.1671 - rmse: 0.4060\n",
            "Epoch 37/100\n",
            "19598/19598 [==============================] - 197s 10ms/step - loss: 0.1650 - rmse: 0.4035\n",
            "Epoch 38/100\n",
            "19598/19598 [==============================] - 196s 10ms/step - loss: 0.1642 - rmse: 0.4025\n",
            "Epoch 39/100\n",
            "19598/19598 [==============================] - 195s 10ms/step - loss: 0.1623 - rmse: 0.4000\n",
            "Epoch 40/100\n",
            "19598/19598 [==============================] - 194s 10ms/step - loss: 0.1603 - rmse: 0.3977\n",
            "Epoch 41/100\n",
            "19598/19598 [==============================] - 197s 10ms/step - loss: 0.1588 - rmse: 0.3957\n",
            "Epoch 42/100\n",
            "19598/19598 [==============================] - 195s 10ms/step - loss: 0.1571 - rmse: 0.3936\n",
            "Epoch 43/100\n",
            "19598/19598 [==============================] - 196s 10ms/step - loss: 0.1558 - rmse: 0.3919\n",
            "Epoch 44/100\n",
            "19598/19598 [==============================] - 197s 10ms/step - loss: 0.1543 - rmse: 0.3901\n",
            "Epoch 45/100\n",
            "19598/19598 [==============================] - 195s 10ms/step - loss: 0.1528 - rmse: 0.3882\n",
            "Epoch 46/100\n",
            "19598/19598 [==============================] - 194s 10ms/step - loss: 0.1521 - rmse: 0.3872\n",
            "Epoch 47/100\n",
            "19598/19598 [==============================] - 195s 10ms/step - loss: 0.1503 - rmse: 0.3849\n",
            "Epoch 48/100\n",
            "19598/19598 [==============================] - 196s 10ms/step - loss: 0.1490 - rmse: 0.3831\n",
            "Epoch 49/100\n",
            "19598/19598 [==============================] - 195s 10ms/step - loss: 0.1473 - rmse: 0.3811\n",
            "Epoch 50/100\n",
            "19598/19598 [==============================] - 195s 10ms/step - loss: 0.1462 - rmse: 0.3796\n",
            "Epoch 51/100\n",
            "19598/19598 [==============================] - 191s 10ms/step - loss: 0.1451 - rmse: 0.3781\n",
            "Epoch 52/100\n",
            "19598/19598 [==============================] - 190s 10ms/step - loss: 0.1439 - rmse: 0.3766\n",
            "Epoch 53/100\n",
            "19598/19598 [==============================] - 189s 10ms/step - loss: 0.1433 - rmse: 0.3758\n",
            "Epoch 54/100\n",
            "19598/19598 [==============================] - 189s 10ms/step - loss: 0.1420 - rmse: 0.3741\n",
            "Epoch 55/100\n",
            "19598/19598 [==============================] - 189s 10ms/step - loss: 0.1403 - rmse: 0.3718\n",
            "Epoch 56/100\n",
            "19598/19598 [==============================] - 190s 10ms/step - loss: 0.1392 - rmse: 0.3703\n",
            "Epoch 57/100\n",
            "19598/19598 [==============================] - 189s 10ms/step - loss: 0.1384 - rmse: 0.3693\n",
            "Epoch 58/100\n",
            "19598/19598 [==============================] - 189s 10ms/step - loss: 0.1376 - rmse: 0.3683\n",
            "Epoch 59/100\n",
            "19598/19598 [==============================] - 189s 10ms/step - loss: 0.1362 - rmse: 0.3663\n",
            "Epoch 60/100\n",
            "19598/19598 [==============================] - 189s 10ms/step - loss: 0.1351 - rmse: 0.3649\n",
            "Epoch 61/100\n",
            "19598/19598 [==============================] - 189s 10ms/step - loss: 0.1345 - rmse: 0.3640\n",
            "Epoch 62/100\n",
            "19598/19598 [==============================] - 188s 10ms/step - loss: 0.1328 - rmse: 0.3617\n",
            "Epoch 63/100\n",
            "19598/19598 [==============================] - 189s 10ms/step - loss: 0.1323 - rmse: 0.3610\n",
            "Epoch 64/100\n",
            "19598/19598 [==============================] - 189s 10ms/step - loss: 0.1312 - rmse: 0.3595\n",
            "Epoch 65/100\n",
            "19598/19598 [==============================] - 189s 10ms/step - loss: 0.1301 - rmse: 0.3581\n",
            "Epoch 66/100\n",
            "19598/19598 [==============================] - 190s 10ms/step - loss: 0.1287 - rmse: 0.3561\n",
            "Epoch 67/100\n",
            "19598/19598 [==============================] - 191s 10ms/step - loss: 0.1279 - rmse: 0.3550\n",
            "Epoch 68/100\n",
            "19598/19598 [==============================] - 191s 10ms/step - loss: 0.1266 - rmse: 0.3531\n",
            "Epoch 69/100\n",
            "19598/19598 [==============================] - 191s 10ms/step - loss: 0.1264 - rmse: 0.3528\n",
            "Epoch 70/100\n",
            "19598/19598 [==============================] - 191s 10ms/step - loss: 0.1260 - rmse: 0.3522\n",
            "Epoch 71/100\n",
            "19598/19598 [==============================] - 190s 10ms/step - loss: 0.1245 - rmse: 0.3503\n",
            "Epoch 72/100\n",
            "19598/19598 [==============================] - 190s 10ms/step - loss: 0.1238 - rmse: 0.3492\n",
            "Epoch 73/100\n",
            "19598/19598 [==============================] - 190s 10ms/step - loss: 0.1230 - rmse: 0.3480\n",
            "Epoch 74/100\n",
            "19598/19598 [==============================] - 190s 10ms/step - loss: 0.1220 - rmse: 0.3466\n",
            "Epoch 75/100\n",
            "19598/19598 [==============================] - 190s 10ms/step - loss: 0.1216 - rmse: 0.3459\n",
            "Epoch 76/100\n",
            "19598/19598 [==============================] - 189s 10ms/step - loss: 0.1208 - rmse: 0.3449\n",
            "Epoch 77/100\n",
            "19598/19598 [==============================] - 189s 10ms/step - loss: 0.1197 - rmse: 0.3432\n",
            "Epoch 78/100\n",
            "19598/19598 [==============================] - 190s 10ms/step - loss: 0.1195 - rmse: 0.3430\n",
            "Epoch 79/100\n",
            "19598/19598 [==============================] - 190s 10ms/step - loss: 0.1191 - rmse: 0.3424\n",
            "Epoch 80/100\n",
            "19598/19598 [==============================] - 190s 10ms/step - loss: 0.1182 - rmse: 0.3412\n",
            "Epoch 81/100\n",
            "19598/19598 [==============================] - 190s 10ms/step - loss: 0.1166 - rmse: 0.3389\n",
            "Epoch 82/100\n",
            "19598/19598 [==============================] - 194s 10ms/step - loss: 0.1165 - rmse: 0.3386\n",
            "Epoch 83/100\n",
            "19598/19598 [==============================] - 193s 10ms/step - loss: 0.1151 - rmse: 0.3366\n",
            "Epoch 84/100\n",
            "19598/19598 [==============================] - 191s 10ms/step - loss: 0.1149 - rmse: 0.3364\n",
            "Epoch 85/100\n",
            "19598/19598 [==============================] - 190s 10ms/step - loss: 0.1148 - rmse: 0.3361\n",
            "Epoch 86/100\n",
            "19598/19598 [==============================] - 190s 10ms/step - loss: 0.1133 - rmse: 0.3339\n",
            "Epoch 87/100\n",
            "19598/19598 [==============================] - 189s 10ms/step - loss: 0.1131 - rmse: 0.3337\n",
            "Epoch 88/100\n",
            "19598/19598 [==============================] - 190s 10ms/step - loss: 0.1132 - rmse: 0.3338\n",
            "Epoch 89/100\n",
            "19598/19598 [==============================] - 191s 10ms/step - loss: 0.1116 - rmse: 0.3314\n",
            "Epoch 90/100\n",
            "19598/19598 [==============================] - 191s 10ms/step - loss: 0.1116 - rmse: 0.3314\n",
            "Epoch 91/100\n",
            "19598/19598 [==============================] - 190s 10ms/step - loss: 0.1106 - rmse: 0.3299\n",
            "Epoch 92/100\n",
            "19598/19598 [==============================] - 193s 10ms/step - loss: 0.1099 - rmse: 0.3289\n",
            "Epoch 93/100\n",
            "19598/19598 [==============================] - 193s 10ms/step - loss: 0.1094 - rmse: 0.3282\n",
            "Epoch 94/100\n",
            "19598/19598 [==============================] - 192s 10ms/step - loss: 0.1086 - rmse: 0.3270\n",
            "Epoch 95/100\n",
            "19598/19598 [==============================] - 192s 10ms/step - loss: 0.1083 - rmse: 0.3265\n",
            "Epoch 96/100\n",
            "19598/19598 [==============================] - 192s 10ms/step - loss: 0.1078 - rmse: 0.3258\n",
            "Epoch 97/100\n",
            "19598/19598 [==============================] - 191s 10ms/step - loss: 0.1070 - rmse: 0.3245\n",
            "Epoch 98/100\n",
            "19598/19598 [==============================] - 192s 10ms/step - loss: 0.1065 - rmse: 0.3238\n",
            "Epoch 99/100\n",
            "19598/19598 [==============================] - 193s 10ms/step - loss: 0.1063 - rmse: 0.3234\n",
            "Epoch 100/100\n",
            "19598/19598 [==============================] - 195s 10ms/step - loss: 0.1054 - rmse: 0.3221\n"
          ],
          "name": "stdout"
        }
      ]
    },
    {
      "cell_type": "code",
      "metadata": {
        "id": "woz-lYAySS0L"
      },
      "source": [
        ""
      ],
      "execution_count": null,
      "outputs": []
    }
  ]
}