{
  "nbformat": 4,
  "nbformat_minor": 0,
  "metadata": {
    "colab": {
      "name": "2-Deep_learning_ashrae.ipynb",
      "provenance": [],
      "collapsed_sections": []
    },
    "kernelspec": {
      "name": "python3",
      "display_name": "Python 3"
    },
    "accelerator": "GPU"
  },
  "cells": [
    {
      "cell_type": "code",
      "metadata": {
        "id": "urKdT5nkWxaQ"
      },
      "source": [
        "#from google.colab import drive\n",
        "#drive.mount('/content/drive')\n",
        "#!cp /content/drive/MyDrive/ashrae.zip ashrae.zip\n",
        "#!unzip -q ashrae.zip"
      ],
      "execution_count": 1,
      "outputs": []
    },
    {
      "cell_type": "code",
      "metadata": {
        "colab": {
          "base_uri": "https://localhost:8080/",
          "height": 17
        },
        "id": "i2zx2E54W2eA",
        "outputId": "5f20c633-f15c-426d-fe36-12e3294b29d4"
      },
      "source": [
        "import warnings\n",
        "warnings.simplefilter(action='ignore', category=FutureWarning)\n",
        "\n",
        "import gc\n",
        "import pandas as pd\n",
        "import numpy as np\n",
        "import matplotlib.pyplot as plt\n",
        "import seaborn as sns\n",
        "import plotly.graph_objects as go\n",
        "import plotly.figure_factory as ff\n",
        "\n",
        "from IPython.core.pylabtools import figsize\n",
        "from plotly.offline import init_notebook_mode,iplot,plot\n",
        "%matplotlib inline\n",
        "init_notebook_mode(connected=True)\n",
        "plt.style.use(\"ggplot\")\n",
        "\n",
        "from sklearn.preprocessing import  LabelEncoder\n",
        "from sklearn.model_selection import train_test_split\n",
        "\n",
        "from keras.models import Model\n",
        "from keras.layers import Input, Dense, BatchNormalization, Embedding,Flatten,Dropout\n",
        "from keras.optimizers import Adam, SGD, RMSprop\n",
        "import keras.backend as K\n",
        "\n",
        "# importer les fichiers .py sur le notebook\n",
        "%run utils.py"
      ],
      "execution_count": 2,
      "outputs": [
        {
          "output_type": "display_data",
          "data": {
            "text/html": [
              "        <script type=\"text/javascript\">\n",
              "        window.PlotlyConfig = {MathJaxConfig: 'local'};\n",
              "        if (window.MathJax) {MathJax.Hub.Config({SVG: {font: \"STIX-Web\"}});}\n",
              "        if (typeof require !== 'undefined') {\n",
              "        require.undef(\"plotly\");\n",
              "        requirejs.config({\n",
              "            paths: {\n",
              "                'plotly': ['https://cdn.plot.ly/plotly-latest.min']\n",
              "            }\n",
              "        });\n",
              "        require(['plotly'], function(Plotly) {\n",
              "            window._Plotly = Plotly;\n",
              "        });\n",
              "        }\n",
              "        </script>\n",
              "        "
            ]
          },
          "metadata": {
            "tags": []
          }
        }
      ]
    },
    {
      "cell_type": "code",
      "metadata": {
        "colab": {
          "base_uri": "https://localhost:8080/"
        },
        "id": "XP1Ms_WdW8VR",
        "outputId": "eb6743bc-66aa-4d21-d0d4-3cbca0ecb7e5"
      },
      "source": [
        "building = pd.read_csv('/content/building_metadata.csv')\n",
        "weather = pd.read_csv('/content/weather_train.csv')\n",
        "train = pd.read_csv('/content/train.csv')\n",
        "\n",
        "train.loc[(train.meter == 0),'meter_reading'] = train['meter_reading'] * 0.2931 # convertir du kwh vers kbtu\n",
        "\n",
        "building = reduce_mem_usage(building)\n",
        "weather = reduce_mem_usage(weather)\n",
        "train = reduce_mem_usage(train)"
      ],
      "execution_count": 3,
      "outputs": [
        {
          "output_type": "stream",
          "text": [
            "Memory usage of dataframe is 0.07 MB\n",
            "Memory usage after optimization is: 0.02 MB\n",
            "Decreased by 65.4%\n",
            "Memory usage of dataframe is 9.60 MB\n",
            "Memory usage after optimization is: 4.51 MB\n",
            "Decreased by 53.0%\n",
            "Memory usage of dataframe is 616.95 MB\n",
            "Memory usage after optimization is: 173.90 MB\n",
            "Decreased by 71.8%\n"
          ],
          "name": "stdout"
        }
      ]
    },
    {
      "cell_type": "code",
      "metadata": {
        "colab": {
          "base_uri": "https://localhost:8080/"
        },
        "id": "On0jd7ppXFUg",
        "outputId": "d5960a9e-108e-428a-feaf-382467b6ccfd"
      },
      "source": [
        "train = (train.merge(building, on='building_id', how='left'))\n",
        "train['log_meter_reading'] = np.log1p(train['meter_reading'])\n",
        "train = train.merge(weather, how='left', on = ['site_id', 'timestamp'], validate='many_to_one')\n",
        "\n",
        "train  = time_features(train)\n",
        "\n",
        "del weather, building\n",
        "gc.collect()"
      ],
      "execution_count": 4,
      "outputs": [
        {
          "output_type": "execute_result",
          "data": {
            "text/plain": [
              "47"
            ]
          },
          "metadata": {
            "tags": []
          },
          "execution_count": 4
        }
      ]
    },
    {
      "cell_type": "code",
      "metadata": {
        "colab": {
          "base_uri": "https://localhost:8080/"
        },
        "id": "-TGB8FaOXjj5",
        "outputId": "fe1a52d9-cfb5-4fd2-856a-72c47a47f749"
      },
      "source": [
        "print(train.columns)\n",
        "print('--------------------------')\n",
        "for col in train.columns:\n",
        "  if train[col].isnull().values.any():\n",
        "    print('Dans la variable', '(',col,')' , '-- il y a', train[col].isnull().values.sum() , ' Nan ')"
      ],
      "execution_count": 5,
      "outputs": [
        {
          "output_type": "stream",
          "text": [
            "Index(['building_id', 'meter', 'timestamp', 'meter_reading', 'site_id',\n",
            "       'primary_use', 'square_feet', 'year_built', 'floor_count',\n",
            "       'log_meter_reading', 'air_temperature', 'cloud_coverage',\n",
            "       'dew_temperature', 'precip_depth_1_hr', 'sea_level_pressure',\n",
            "       'wind_direction', 'wind_speed', 'hour', 'dayofweek', 'month'],\n",
            "      dtype='object')\n",
            "--------------------------\n",
            "Dans la variable ( year_built ) -- il y a 12127645  Nan \n",
            "Dans la variable ( floor_count ) -- il y a 16709167  Nan \n",
            "Dans la variable ( air_temperature ) -- il y a 96658  Nan \n",
            "Dans la variable ( cloud_coverage ) -- il y a 8825365  Nan \n",
            "Dans la variable ( dew_temperature ) -- il y a 100140  Nan \n",
            "Dans la variable ( precip_depth_1_hr ) -- il y a 3749023  Nan \n",
            "Dans la variable ( sea_level_pressure ) -- il y a 1231669  Nan \n",
            "Dans la variable ( wind_direction ) -- il y a 1449048  Nan \n",
            "Dans la variable ( wind_speed ) -- il y a 143676  Nan \n"
          ],
          "name": "stdout"
        }
      ]
    },
    {
      "cell_type": "markdown",
      "metadata": {
        "id": "gQhR6k1Y9-_M"
      },
      "source": [
        "## On supprime les variables qui contient plus de 150 000 valeurs manquantes."
      ]
    },
    {
      "cell_type": "code",
      "metadata": {
        "id": "Sy29N7vCYVft"
      },
      "source": [
        "train = train.drop([ 'timestamp' , 'meter_reading' ] , axis= 1)\n",
        "train = train.drop(['year_built' , 'floor_count' , 'cloud_coverage' , 'precip_depth_1_hr' , 'wind_direction' , 'sea_level_pressure'] , axis= 1)"
      ],
      "execution_count": 6,
      "outputs": []
    },
    {
      "cell_type": "markdown",
      "metadata": {
        "id": "F-LrDI6R-EQp"
      },
      "source": [
        "## On supprime les lignes qui contient des valeurs manquantes."
      ]
    },
    {
      "cell_type": "code",
      "metadata": {
        "id": "3oFOr4fwb0Ge"
      },
      "source": [
        "train = train.dropna(axis=0)\n",
        "\n",
        "for col in train.columns:\n",
        "  if train[col].isnull().values.any():\n",
        "    print(col , 'il y a', train[col].isnull().values.sum() , ' Nan ')"
      ],
      "execution_count": 7,
      "outputs": []
    },
    {
      "cell_type": "code",
      "metadata": {
        "colab": {
          "base_uri": "https://localhost:8080/"
        },
        "id": "CVJiZScVcVM4",
        "outputId": "d81467f8-c1ab-43dd-e9f4-eefa7db783a0"
      },
      "source": [
        "train.shape"
      ],
      "execution_count": 8,
      "outputs": [
        {
          "output_type": "execute_result",
          "data": {
            "text/plain": [
              "(20067705, 12)"
            ]
          },
          "metadata": {
            "tags": []
          },
          "execution_count": 8
        }
      ]
    },
    {
      "cell_type": "code",
      "metadata": {
        "id": "7_ui_JbCkn4D"
      },
      "source": [
        "le = LabelEncoder()\n",
        "le.fit(train['primary_use'])\n",
        "\n",
        "train['primary_use'] = le.transform(train['primary_use'])"
      ],
      "execution_count": 9,
      "outputs": []
    },
    {
      "cell_type": "code",
      "metadata": {
        "colab": {
          "base_uri": "https://localhost:8080/",
          "height": 204
        },
        "id": "cOrzizQbjCnd",
        "outputId": "367ee90d-21cd-4fee-9e72-2b49977a028c"
      },
      "source": [
        "train.head()"
      ],
      "execution_count": 10,
      "outputs": [
        {
          "output_type": "execute_result",
          "data": {
            "text/html": [
              "<div>\n",
              "<style scoped>\n",
              "    .dataframe tbody tr th:only-of-type {\n",
              "        vertical-align: middle;\n",
              "    }\n",
              "\n",
              "    .dataframe tbody tr th {\n",
              "        vertical-align: top;\n",
              "    }\n",
              "\n",
              "    .dataframe thead th {\n",
              "        text-align: right;\n",
              "    }\n",
              "</style>\n",
              "<table border=\"1\" class=\"dataframe\">\n",
              "  <thead>\n",
              "    <tr style=\"text-align: right;\">\n",
              "      <th></th>\n",
              "      <th>building_id</th>\n",
              "      <th>meter</th>\n",
              "      <th>site_id</th>\n",
              "      <th>primary_use</th>\n",
              "      <th>square_feet</th>\n",
              "      <th>log_meter_reading</th>\n",
              "      <th>air_temperature</th>\n",
              "      <th>dew_temperature</th>\n",
              "      <th>wind_speed</th>\n",
              "      <th>hour</th>\n",
              "      <th>dayofweek</th>\n",
              "      <th>month</th>\n",
              "    </tr>\n",
              "  </thead>\n",
              "  <tbody>\n",
              "    <tr>\n",
              "      <th>0</th>\n",
              "      <td>0</td>\n",
              "      <td>0</td>\n",
              "      <td>0</td>\n",
              "      <td>0</td>\n",
              "      <td>7432</td>\n",
              "      <td>0.0</td>\n",
              "      <td>25.0</td>\n",
              "      <td>20.0</td>\n",
              "      <td>0.0</td>\n",
              "      <td>0</td>\n",
              "      <td>4</td>\n",
              "      <td>0</td>\n",
              "    </tr>\n",
              "    <tr>\n",
              "      <th>1</th>\n",
              "      <td>1</td>\n",
              "      <td>0</td>\n",
              "      <td>0</td>\n",
              "      <td>0</td>\n",
              "      <td>2720</td>\n",
              "      <td>0.0</td>\n",
              "      <td>25.0</td>\n",
              "      <td>20.0</td>\n",
              "      <td>0.0</td>\n",
              "      <td>0</td>\n",
              "      <td>4</td>\n",
              "      <td>0</td>\n",
              "    </tr>\n",
              "    <tr>\n",
              "      <th>2</th>\n",
              "      <td>2</td>\n",
              "      <td>0</td>\n",
              "      <td>0</td>\n",
              "      <td>0</td>\n",
              "      <td>5376</td>\n",
              "      <td>0.0</td>\n",
              "      <td>25.0</td>\n",
              "      <td>20.0</td>\n",
              "      <td>0.0</td>\n",
              "      <td>0</td>\n",
              "      <td>4</td>\n",
              "      <td>0</td>\n",
              "    </tr>\n",
              "    <tr>\n",
              "      <th>3</th>\n",
              "      <td>3</td>\n",
              "      <td>0</td>\n",
              "      <td>0</td>\n",
              "      <td>0</td>\n",
              "      <td>23685</td>\n",
              "      <td>0.0</td>\n",
              "      <td>25.0</td>\n",
              "      <td>20.0</td>\n",
              "      <td>0.0</td>\n",
              "      <td>0</td>\n",
              "      <td>4</td>\n",
              "      <td>0</td>\n",
              "    </tr>\n",
              "    <tr>\n",
              "      <th>4</th>\n",
              "      <td>4</td>\n",
              "      <td>0</td>\n",
              "      <td>0</td>\n",
              "      <td>0</td>\n",
              "      <td>116607</td>\n",
              "      <td>0.0</td>\n",
              "      <td>25.0</td>\n",
              "      <td>20.0</td>\n",
              "      <td>0.0</td>\n",
              "      <td>0</td>\n",
              "      <td>4</td>\n",
              "      <td>0</td>\n",
              "    </tr>\n",
              "  </tbody>\n",
              "</table>\n",
              "</div>"
            ],
            "text/plain": [
              "   building_id  meter  site_id  primary_use  ...  wind_speed  hour  dayofweek  month\n",
              "0            0      0        0            0  ...         0.0     0          4      0\n",
              "1            1      0        0            0  ...         0.0     0          4      0\n",
              "2            2      0        0            0  ...         0.0     0          4      0\n",
              "3            3      0        0            0  ...         0.0     0          4      0\n",
              "4            4      0        0            0  ...         0.0     0          4      0\n",
              "\n",
              "[5 rows x 12 columns]"
            ]
          },
          "metadata": {
            "tags": []
          },
          "execution_count": 10
        }
      ]
    },
    {
      "cell_type": "code",
      "metadata": {
        "id": "enPoSsTcvkMA"
      },
      "source": [
        "def create_model(X , categorical_vars , numerical_vars):\n",
        "    input_layers = []\n",
        "    embed_layers = []  \n",
        "    for col in categorical_vars:\n",
        "        num_classes = len(np.unique(X[col]))\n",
        "\n",
        "        input_x = Input(shape = [1] , name = col)\n",
        "        input_layers.append(input_x)\n",
        "        \n",
        "        embed_x = Embedding(num_classes, 10)(input_x)\n",
        "        embed_layers.append(embed_x)\n",
        "\n",
        "    for col in numerical_vars:\n",
        "        input_layers.append(Input(shape=[1] , name = col))\n",
        "\n",
        "    concat_emb = K.concatenate([Flatten()(emb_layer) for emb_layer in embed_layers])\n",
        "\n",
        "    d1  = Dense(128,activation='relu')(concat_emb)\n",
        "    dr1 = Dropout(0.1)(d1)\n",
        "    bn1 = BatchNormalization()(dr1)\n",
        "\n",
        "    d2  = Dense(128,activation='relu')(bn1)\n",
        "    dr2 = Dropout(0.1)(d2)\n",
        "    \n",
        "    main = K.concatenate(input_layers+[dr2])\n",
        "\n",
        "    d3  = Dense(128,activation='relu')(main)\n",
        "    dr3 = Dropout(0.1)(d3)\n",
        "    bn3 = BatchNormalization()(dr3)\n",
        "\n",
        "    d4  = Dense(128,activation='relu')(bn3)\n",
        "    dr4 = Dropout(0.1)(d4)\n",
        "\n",
        "    output = Dense(1)(dr4)\n",
        "    model = Model(input_layers, output)\n",
        "    return model\n",
        "\n",
        "def rmse(y_true, y_pred):\n",
        "    \"\"\" root_mean_squared_error \"\"\"\n",
        "    return K.sqrt(K.mean(K.square(y_pred - y_true)))"
      ],
      "execution_count": 11,
      "outputs": []
    },
    {
      "cell_type": "code",
      "metadata": {
        "colab": {
          "base_uri": "https://localhost:8080/"
        },
        "id": "-OkyaC4140Nh",
        "outputId": "32ac8610-5ee5-452b-c6aa-98ee0a1618e2"
      },
      "source": [
        "categorical_vars = ['building_id' , 'meter' , 'site_id' , 'primary_use' , 'hour' , 'dayofweek' , 'month']\n",
        "numerical_vars = ['square_feet' , 'air_temperature' , 'dew_temperature' , 'wind_speed']\n",
        "co_vars = categorical_vars + numerical_vars\n",
        "model = create_model(train , categorical_vars , numerical_vars)\n",
        "\n",
        "y = train.log_meter_reading.values\n",
        "y = y.reshape((len(y) , 1))\n",
        "X = train[co_vars].values\n",
        "\n",
        "X_train, X_val, y_train, y_val = train_test_split(X, y, test_size=0.2, random_state=42)\n",
        "\n",
        "X_train = [X_train[:,i].flatten() for i in range(len(X_train[0,:])) ] \n",
        "X_val = [X_val[:,i].flatten() for i in range(len(X_val[0,:])) ] \n",
        "\n",
        "del train\n",
        "gc.collect()"
      ],
      "execution_count": 12,
      "outputs": [
        {
          "output_type": "execute_result",
          "data": {
            "text/plain": [
              "440"
            ]
          },
          "metadata": {
            "tags": []
          },
          "execution_count": 12
        }
      ]
    },
    {
      "cell_type": "code",
      "metadata": {
        "colab": {
          "base_uri": "https://localhost:8080/"
        },
        "id": "M_SVDntbrxK6",
        "outputId": "f83c1162-44c4-49f2-8bbf-6385c6b5bdf2"
      },
      "source": [
        "model.compile(optimizer = Adam(lr=1e-4 ), loss= 'mse',  metrics=[rmse])\n",
        "history_1 = model.fit(X_train, y_train , epochs= 30 , batch_size = 1000 , validation_data = (X_val,y_val)  )"
      ],
      "execution_count": null,
      "outputs": [
        {
          "output_type": "stream",
          "text": [
            "Epoch 1/30\n",
            "16055/16055 [==============================] - 119s 7ms/step - loss: 2.3271 - rmse: 1.3893 - val_loss: 0.8203 - val_rmse: 0.9041\n",
            "Epoch 2/30\n",
            "16055/16055 [==============================] - 115s 7ms/step - loss: 0.8410 - rmse: 0.9152 - val_loss: 0.7229 - val_rmse: 0.8485\n",
            "Epoch 3/30\n",
            "16055/16055 [==============================] - 116s 7ms/step - loss: 0.7741 - rmse: 0.8779 - val_loss: 0.7111 - val_rmse: 0.8416\n",
            "Epoch 4/30\n",
            " 1874/16055 [==>...........................] - ETA: 1:33 - loss: 0.7495 - rmse: 0.8639"
          ],
          "name": "stdout"
        }
      ]
    },
    {
      "cell_type": "code",
      "metadata": {
        "id": "woz-lYAySS0L"
      },
      "source": [
        "\n"
      ],
      "execution_count": null,
      "outputs": []
    }
  ]
}