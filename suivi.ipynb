{
 "cells": [
  {
   "cell_type": "markdown",
   "metadata": {},
   "source": [
    "# ASHRAE : Suivi"
   ]
  },
  {
   "cell_type": "markdown",
   "metadata": {},
   "source": [
    "# Semaine 1 :\n",
    "- Importer les données et se familiariser avec.\n",
    "\n",
    "- Identifier la variable à prédire et les variables explicatives.\n",
    "\n",
    "- Identifier la variables à coder (One-hot encoding ou des variables de temps ...).\n",
    "\n",
    "- Gérer les valeurs manquantes.\n",
    "\n",
    "- Voir les relations entres les bases de données.\n",
    "\n",
    "# -----------------------------------------------------------------\n",
    "\n",
    "## Pour la semaine prochaine : \n",
    "\n",
    "- Réduction de la mémoire.\n",
    "\n",
    "- Nettoyer les données des valeurs manquantes et des anomalies s'ils existent.\n",
    "\n",
    "- Visualiser les relations entres les variables explicatives et la variable à predire.\n",
    "\n",
    "- Codage des variables qualitatives (One-hot encoding, des variables de temps ...)\n"
   ]
  },
  {
   "cell_type": "markdown",
   "metadata": {},
   "source": [
    "## Semaine: 08 Février - 14 Février\n",
    "\n",
    "### Réalisations de la semaine\n",
    "\n",
    "- Stat descriptive, analyse des données, études des features importantes, comment remplir remplir les données incomplètes assez importantes dans weather, histogramme des variables, densité.  \n",
    "\n",
    "\n",
    "- Imad Bouhou --> Stat descriptive et analyse des données(une version)\n",
    "\n",
    "- Mamadou KANOUTE --> Stat descriptive et analyse des données(une autre version)\n",
    "\n",
    "Le but étant de tirer avantage parti des différentes réalisations\n",
    "\n",
    "### A faire pour la semaine prochaine\n",
    "\n",
    "Maintenant qu'on a une idéé de comment résoudre le problèmes des données incomplètes et une vision assez poussée des données, on a décidé de faire un modèle de prédiction pour la semaine prochaine en suivant 3 pistes:\n",
    "\n",
    "\n",
    "* Mamadou KANOUTE --> Feature engineering et utilisation d'un modèle de prédiction\n",
    "* Imad Bouhou --> Approche deep learning, nettoyer et combiner le code des notebook stats descriptives.\n",
    "* Ibrahima Bah --> Approche ML suervisé (sklearn, ...)"
   ]
  },
  {
   "cell_type": "markdown",
   "metadata": {},
   "source": [
    "## Semaine: 15 Février-21 Février\n",
    "A venir\n"
   ]
  },
  {
   "cell_type": "code",
   "execution_count": null,
   "metadata": {},
   "outputs": [],
   "source": []
  }
 ],
 "metadata": {
  "kernelspec": {
   "display_name": "Python 3",
   "language": "python",
   "name": "python3"
  },
  "language_info": {
   "codemirror_mode": {
    "name": "ipython",
    "version": 3
   },
   "file_extension": ".py",
   "mimetype": "text/x-python",
   "name": "python",
   "nbconvert_exporter": "python",
   "pygments_lexer": "ipython3",
   "version": "3.6.9"
  }
 },
 "nbformat": 4,
 "nbformat_minor": 4
}
