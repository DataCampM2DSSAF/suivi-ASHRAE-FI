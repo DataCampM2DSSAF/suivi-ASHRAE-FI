{
 "cells": [
  {
   "cell_type": "markdown",
   "metadata": {},
   "source": [
    "# ASHRAE : Suivi"
   ]
  },
  {
   "cell_type": "markdown",
   "metadata": {},
   "source": [
    "## Week 1:\n",
    "\n",
    "### 1) Dataset importation and Familiarization with it.\n",
    "\n",
    "### 2) Identify target variable and explanatory variables.\n",
    "\n",
    "### 3) Identify variables that need coding (One-hot encoding..).\n",
    "\n",
    "### 4) Check the data for missing values.\n",
    "\n",
    "### 5) Make first Submition.\n",
    "\n",
    "# -----------------------------------------------------------------\n"
   ]
  },
  {
   "cell_type": "markdown",
   "metadata": {},
   "source": [
    "## For next week :\n",
    "\n",
    "### 1) Memory reduction. (data types)\n",
    "\n",
    "### 2) Clean the data from missing values and possible outliers.\n",
    "\n",
    "### 3) Visualize the relations between the target variable and the other variables.\n",
    "\n",
    "### 4) Coding of qualitative variables (One-hot encoding or date time variables)."
   ]
  },
  {
   "cell_type": "markdown",
   "metadata": {},
   "source": [
    "## Week: 08 Février - 14 Février\n",
    "\n",
    "### Réalisations de la semaine\n",
    "\n",
    "- Stat descriptive, analyse des données, études des features importantes, comment remplir remplir les données incomplètes assez importantes dans weather, histogramme des variables, densité.  \n",
    "\n",
    "\n",
    "- Imad Bouhou --> Stat descriptive et analyse des données(une version)\n",
    "\n",
    "- Mamadou KANOUTE --> Stat descriptive et analyse des données(une autre version)\n",
    "\n",
    "Le but étant de tirer avantage parti des différentes réalisations\n",
    "\n",
    "### A faire pour la semaine prochaine\n",
    "\n",
    "Maintenant qu'on a une idéé de comment résoudre le problèmes des données incomplètes et une vision assez poussée des données, on a décidé de faire un modèle de prédiction pour la semaine prochaine en suivant 3 pistes:\n",
    "\n",
    "\n",
    "* Mamadou KANOUTE --> Feature engineering et utilisation d'un modèle de prédiction\n",
    "* Imad Bouhou --> Approche deep learning \n",
    "* Ibrahima Bah --> Approche ML suervisé (sklearn, ...)"
   ]
  },
  {
   "cell_type": "markdown",
   "metadata": {},
   "source": [
    "## Week: 15 Février-21 Février\n",
    "A venir\n"
   ]
  },
  {
   "cell_type": "code",
   "execution_count": null,
   "metadata": {},
   "outputs": [],
   "source": []
  }
 ],
 "metadata": {
  "kernelspec": {
   "display_name": "Python 3",
   "language": "python",
   "name": "python3"
  },
  "language_info": {
   "codemirror_mode": {
    "name": "ipython",
    "version": 3
   },
   "file_extension": ".py",
   "mimetype": "text/x-python",
   "name": "python",
   "nbconvert_exporter": "python",
   "pygments_lexer": "ipython3",
   "version": "3.7.4"
  }
 },
 "nbformat": 4,
 "nbformat_minor": 4
}
