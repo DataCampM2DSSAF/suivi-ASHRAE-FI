{
 "cells": [
  {
   "cell_type": "markdown",
   "metadata": {},
   "source": [
    "# ASHRAE : Suivi"
   ]
  },
  {
   "cell_type": "markdown",
   "metadata": {},
   "source": [
    "# Semaine 1 :\n",
    "- Importer les données et se familiariser avec.\n",
    "\n",
    "- Identifier la variable à prédire et les variables explicatives.\n",
    "\n",
    "- Identifier la variables à coder (One-hot encoding ou des variables de temps ...).\n",
    "\n",
    "- Gérer les valeurs manquantes.\n",
    "\n",
    "- Voir les relations entres les bases de données.\n",
    "\n",
    "# -----------------------------------------------------------------"
   ]
  },
  {
   "cell_type": "markdown",
   "metadata": {},
   "source": [
    "## Semaine 2: \n",
    "\n",
    "- Réduction de la mémoire.\n",
    "\n",
    "- Nettoyer les données des valeurs manquantes et des anomalies s'ils existent.\n",
    "\n",
    "- Visualiser les relations entres les variables explicatives et la variable à predire.\n",
    "\n",
    "- Codage des variables qualitatives (One-hot encoding, des variables de temps ...)\n",
    "\n",
    "# -----------------------------------------------------------------"
   ]
  },
  {
   "cell_type": "markdown",
   "metadata": {},
   "source": [
    "## Semaine: 08 Février - 14 Février\n",
    "\n",
    "### Réalisations de la semaine\n",
    "\n",
    "- Stat descriptive, analyse des données, études des features importantes, comment remplir remplir les données manquantes assez importantes dans weather, histogramme des variables, densité.  \n",
    "\n",
    "\n",
    "- Imad Bouhou --> Stat descriptive et analyse des données(une version)\n",
    "- Mamadou KANOUTE --> Stat descriptive et analyse des données(une autre version)\n",
    "\n",
    "Le but étant de tirer avantage parti des différentes réalisations\n",
    "\n",
    "### A faire pour la semaine prochaine\n",
    "\n",
    "Maintenant qu'on a une idéé de comment résoudre le problèmes des données incomplètes et une vision assez poussée des données, on a décidé de faire un modèle de prédiction pour la semaine prochaine en suivant 3 pistes:\n",
    "\n",
    "\n",
    "* Mamadou KANOUTE --> Feature engineering et utilisation d'un modèle de prédiction\n",
    "* Imad Bouhou --> Approche deep learning, nettoyer et combiner le code des notebook stats descriptives.\n",
    "* Ibrahima Bah --> Approche ML supervisé (sklearn, ...)\n",
    "\n",
    "# -----------------------------------------------------------------"
   ]
  },
  {
   "cell_type": "markdown",
   "metadata": {},
   "source": [
    "## Semaine: 15 Février-21 Février\n",
    "\n",
    "\n",
    "* Mamadou KANOUTE --> Utilisation des formules existantes et relation entre les variables existantes pour créer des nouvelles variables.\n",
    "* Imad Bouhou --> Un modèle en deep learning avec des couches (Embedding et Dense) sous Keras\n",
    "* Ibrahima Bah --> 2 modèle en RandomForest et DecisionTrees.\n",
    "\n",
    "### A faire pour la semaine prochaine\n",
    "* Mamadou KANOUTE --> Continuer de travailler sur les Feature engineering et de les integrer dans un modèle de régression initiale.                                                \n",
    "    * Vérifier l'impact des variables créées en comparant la performance des données sans feature enginnering et données avec feature enginnering\n",
    "* Imad Bouhou --> Continuer de travailler et améliorer sur des modèles en deep learning.\n",
    "\n",
    "    * Données sans feature enginnering et données avec feature enginnering\n",
    "* Ibrahima Bah --> Continuer de travailler et améliorer des modèles (sklearn)\n",
    "    * Données sans feature enginnering et données avec feature enginnering\n",
    "* Faire un submit avant Le vendredi\n",
    "# -----------------------------------------------------------------\n"
   ]
  },
  {
   "cell_type": "code",
   "execution_count": null,
   "metadata": {},
   "outputs": [],
   "source": []
  }
 ],
 "metadata": {
  "kernelspec": {
   "display_name": "Python 3",
   "language": "python",
   "name": "python3"
  },
  "language_info": {
   "codemirror_mode": {
    "name": "ipython",
    "version": 3
   },
   "file_extension": ".py",
   "mimetype": "text/x-python",
   "name": "python",
   "nbconvert_exporter": "python",
   "pygments_lexer": "ipython3",
   "version": "3.7.4"
  }
 },
 "nbformat": 4,
 "nbformat_minor": 4
}
