{
 "cells": [
  {
   "cell_type": "markdown",
   "metadata": {},
   "source": [
    "# ASHRAE : Suivi"
   ]
  },
  {
   "cell_type": "markdown",
   "metadata": {},
   "source": [
    "# Semaine 1 :\n",
    "- Importer les données et se familiariser avec.\n",
    "\n",
    "- Identifier la variable à prédire et les variables explicatives.\n",
    "\n",
    "- Identifier la variables à coder (One-hot encoding ou des variables de temps ...).\n",
    "\n",
    "- Gérer les valeurs manquantes.\n",
    "\n",
    "- Voir les relations entres les bases de données.\n",
    "\n",
    "# -----------------------------------------------------------------"
   ]
  },
  {
   "cell_type": "markdown",
   "metadata": {},
   "source": [
    "## Semaine 2: \n",
    "\n",
    "- Réduction de la mémoire.\n",
    "\n",
    "- Nettoyer les données des valeurs manquantes et des anomalies s'ils existent.\n",
    "\n",
    "- Visualiser les relations entres les variables explicatives et la variable à predire.\n",
    "\n",
    "- Codage des variables qualitatives (One-hot encoding, des variables de temps ...)\n",
    "\n",
    "# -----------------------------------------------------------------"
   ]
  },
  {
   "cell_type": "markdown",
   "metadata": {},
   "source": [
    "## Semaine: 08 Février - 14 Février\n",
    "\n",
    "### Réalisations de la semaine\n",
    "\n",
    "- Stat descriptive, analyse des données, études des features importantes, comment remplir remplir les données manquantes assez importantes dans weather, histogramme des variables, densité.  \n",
    "\n",
    "\n",
    "- Imad Bouhou --> Stat descriptive et analyse des données(une version)\n",
    "- Mamadou KANOUTE --> Stat descriptive et analyse des données(une autre version)\n",
    "\n",
    "Le but étant de tirer avantage parti des différentes réalisations\n",
    "\n",
    "### A faire pour la semaine prochaine\n",
    "\n",
    "Maintenant qu'on a une idéé de comment résoudre le problèmes des données incomplètes et une vision assez poussée des données, on a décidé de faire un modèle de prédiction pour la semaine prochaine en suivant 3 pistes:\n",
    "\n",
    "\n",
    "* Mamadou KANOUTE --> Feature engineering et utilisation d'un modèle de prédiction\n",
    "* Imad Bouhou --> Approche deep learning, nettoyer et combiner le code des notebook stats descriptives.\n",
    "* Ibrahima Bah --> Approche ML supervisé (sklearn, ...)\n",
    "\n",
    "# -----------------------------------------------------------------"
   ]
  },
  {
   "cell_type": "markdown",
   "metadata": {},
   "source": [
    "## Semaine: 15 Février-21 Février\n",
    "\n",
    "\n",
    "* Mamadou KANOUTE --> Utilisation des formules existantes et relation entre les variables existantes pour créer des nouvelles variables.\n",
    "* Imad Bouhou --> Un modèle en deep learning avec des couches (Embedding et Dense) sous Keras\n",
    "* Ibrahima Bah --> 2 modèle en RandomForest et DecisionTrees.\n",
    "\n",
    "### A faire pour la semaine prochaine\n",
    "* Mamadou KANOUTE --> Continuer de travailler sur les Feature engineering et de les integrer dans un modèle de régression RanomForest.                                                \n",
    "* Imad Bouhou --> Continuer de travailler et améliorer sur des modèles en deep learning.\n",
    "\n",
    "* Ibrahima Bah --> Continuer de travailler et améliorer le modèle DecisionTrees.\n",
    "# -----------------------------------------------------------------\n"
   ]
  },
  {
   "cell_type": "markdown",
   "metadata": {},
   "source": [
    "## Semaine: 01 Mars - 09 Mars\n",
    "\n",
    "\n",
    "* Mamadou KANOUTE --> Améliorer le modèle de DecisionTree par changement des paramètres.\n",
    "\n",
    "* Imad Bouhou --> Un submit avec le modele deep learning, regrouper les codes dans un fichier .py pour eviter les redandances.\n",
    "\n",
    "* Ibrahima Bah -->  Améliorer le modèle de DecisionTrees par changement des paramètres.\n",
    "\n",
    "### A faire pour la semaine prochaine\n",
    "* Mamadou KANOUTE --> Commencer le rapport ( partie statistiques descriptives , feature engineering) et Chercher des possibilités pour accélérer l'entraînement de RandomForest par suppression des quelques variables.                                            \n",
    "\n",
    "* Imad Bouhou --> Commencer le rapport et regrouper les trois parties dans un seul rapport. Faire un nouveau modele en deep learning (nouvelle architecture) en utilisant sélection de features pour réduire l'entraînement des réseaux de neurones. (corrélation entre les variables continues) pour diminuer le temps d'entrainement et faire un soumission.\n",
    "\n",
    "* Ibrahima Bah --> Commencer le rapport (data processing, partie Decision trees , sklearn ..) et Chercher des possibilités pour accélérer l'entraînement de DecisionTrees par suppression des quelques variables.          \n",
    "# -----------------------------------------------------------------"
   ]
  },
  {
   "cell_type": "markdown",
   "metadata": {},
   "source": [
    "## Semaine: 10 Mars - 18 Mars\n",
    "\n",
    "\n",
    "* Mamadou KANOUTE --> Sélection de features dans le modèle decision trees pour réduire le temps d'entraînement et faire un soumission.\n",
    "\n",
    "* Imad Bouhou --> Temps d'entraînement réduit, exploration d'un modèle de transfert learning en utilisant le modèle entraînée qui était sauvegarde sous format .h5 pour réduire la dimension suivi d'un algorithme de gradientboosting au lieu de la couche de sortie.\n",
    "\n",
    "* Ibrahima Bah --> Comparaison des modèles de DecisonTree et RandomForest en termes de temps d'exécution.\n",
    "\n",
    "### A faire pour la semaine prochaine\n",
    "        \n",
    "* Mamadou KANOUTE --> \n",
    "\n",
    "* Imad Bouhou --> Faire sélection de features pour réduire l'entraînement des réseaux de neurones. (corrélation entre les variables continues)\n",
    "\n",
    "* Ibrahima Bah --> Travailler sur la finalisation du rapport.\n",
    "        \n",
    "# -----------------------------------------------------------------"
   ]
  },
  {
   "cell_type": "markdown",
   "metadata": {},
   "source": [
    "## Semaine: 18Mars - 31 Mars\n",
    "\n",
    "\n",
    "* Mamadou KANOUTE --> Après l'entraînement d'un arbre de décision , exploration d'un modele Stacking ( tache n'est pas fini).\n",
    "\n",
    "* Imad Bouhou --> Entraînement d'un modèle gradientboosting sur les données initiales et faire une soumission sur Kaggle.\n",
    "\n",
    "* Ibrahima Bah --> Travailler sur la finalisation du rapport.\n",
    "\n",
    "        \n",
    "# -----------------------------------------------------------------"
   ]
  },
  {
   "cell_type": "code",
   "execution_count": null,
   "metadata": {},
   "outputs": [],
   "source": []
  }
 ],
 "metadata": {
  "kernelspec": {
   "display_name": "Python 3",
   "language": "python",
   "name": "python3"
  },
  "language_info": {
   "codemirror_mode": {
    "name": "ipython",
    "version": 3
   },
   "file_extension": ".py",
   "mimetype": "text/x-python",
   "name": "python",
   "nbconvert_exporter": "python",
   "pygments_lexer": "ipython3",
   "version": "3.7.7"
  }
 },
 "nbformat": 4,
 "nbformat_minor": 4
}
