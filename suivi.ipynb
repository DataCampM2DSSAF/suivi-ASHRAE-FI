{
 "cells": [
  {
   "cell_type": "markdown",
   "metadata": {},
   "source": [
    "# ASHRAE : Suivi"
   ]
  },
  {
   "cell_type": "markdown",
   "metadata": {},
   "source": [
    "## Week 1:\n",
    "\n",
    "### 1) Dataset importation and Familiarization with it.\n",
    "\n",
    "### 2) Identify target variable and explanatory variables.\n",
    "\n",
    "### 3) Identify variables that need coding (One-hot encoding..).\n",
    "\n",
    "### 4) Check the data for missing values.\n",
    "\n",
    "# -----------------------------------------------------------------\n"
   ]
  },
  {
   "cell_type": "markdown",
   "metadata": {},
   "source": [
    "## For next week :\n",
    "\n",
    "### 1) Memory reduction. (data types)\n",
    "\n",
    "### 2) Clean the data from missing values and possible outliers.\n",
    "\n",
    "### 3) Visualize the relations between the target variable and the other variables.\n",
    "\n",
    "### 4) Coding of qualitative variables (One-hot encoding or date time variables)."
   ]
  },
  {
   "cell_type": "code",
   "execution_count": null,
   "metadata": {},
   "outputs": [],
   "source": []
  }
 ],
 "metadata": {
  "kernelspec": {
   "display_name": "Python 3",
   "language": "python",
   "name": "python3"
  },
  "language_info": {
   "codemirror_mode": {
    "name": "ipython",
    "version": 3
   },
   "file_extension": ".py",
   "mimetype": "text/x-python",
   "name": "python",
   "nbconvert_exporter": "python",
   "pygments_lexer": "ipython3",
   "version": "3.6.9"
  }
 },
 "nbformat": 4,
 "nbformat_minor": 4
}
